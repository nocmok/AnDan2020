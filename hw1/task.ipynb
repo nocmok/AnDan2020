{
 "cells": [
  {
   "cell_type": "markdown",
   "metadata": {},
   "source": [
    "# HSE 2021: Mathematical Methods for Data Analysis\n",
    "\n",
    "## Homework 1"
   ]
  },
  {
   "cell_type": "code",
   "execution_count": 2,
   "metadata": {},
   "outputs": [],
   "source": [
    "%matplotlib inline\n",
    "import numpy as np\n",
    "import pandas as pd\n",
    "import matplotlib.pyplot as plt\n",
    "import seaborn as sns"
   ]
  },
  {
   "cell_type": "markdown",
   "metadata": {},
   "source": [
    "# 1. Python (2 points)"
   ]
  },
  {
   "cell_type": "markdown",
   "metadata": {},
   "source": [
    "**Task 1** (0.5 points)<br/> \n",
    "Enter numbers `a`,  `d` и `N`. Find sum of the first `N` members of arithmetic progression with the first member `a` and difference `d`, without using formula for the sum."
   ]
  },
  {
   "cell_type": "code",
   "execution_count": 79,
   "metadata": {},
   "outputs": [
    {
     "name": "stdout",
     "output_type": "stream",
     "text": [
      "345\n"
     ]
    }
   ],
   "source": [
    "def find_sum(a,d,N):\n",
    "    arr_sum = 0\n",
    "    for num in range(a, a + N * d, d):\n",
    "        arr_sum += num\n",
    "    return arr_sum\n",
    "\n",
    "a = 2\n",
    "d = 3\n",
    "N = 15\n",
    "print(find_sum(a,d,N))"
   ]
  },
  {
   "cell_type": "markdown",
   "metadata": {},
   "source": [
    "**Task 2** (0.5 points) <br/> \n",
    "Enter an integer number `N`. Check if it is a prime number."
   ]
  },
  {
   "cell_type": "code",
   "execution_count": 80,
   "metadata": {},
   "outputs": [
    {
     "name": "stdout",
     "output_type": "stream",
     "text": [
      "3 True\n",
      "8 False\n",
      "13 True\n",
      "111 False\n",
      "113 True\n",
      "237 False\n",
      "307 True\n",
      "479 True\n",
      "481 False\n"
     ]
    }
   ],
   "source": [
    "def check_prime(N):\n",
    "    N = abs(N)\n",
    "    if(N < 2):\n",
    "        return False\n",
    "    num = 2\n",
    "    while(num * num <= N):\n",
    "        if(N % num == 0):\n",
    "            return False\n",
    "        num += 1\n",
    "    return True\n",
    "\n",
    "for N in [3, 8, 13, 111, 113, 237, 307, 479, 481]:\n",
    "    print(N, check_prime(N))"
   ]
  },
  {
   "cell_type": "markdown",
   "metadata": {},
   "source": [
    "**Task 3** (0.5 points) <br/> \n",
    "Find the first `N` prime numbers (you may use the function from the precious task)."
   ]
  },
  {
   "cell_type": "code",
   "execution_count": 81,
   "metadata": {},
   "outputs": [
    {
     "name": "stdout",
     "output_type": "stream",
     "text": [
      "[2, 3, 5, 7, 11]\n",
      "[2, 3, 5, 7, 11, 13, 17, 19, 23, 29]\n",
      "[2, 3, 5, 7, 11, 13, 17, 19, 23, 29, 31, 37, 41, 43, 47, 53, 59, 61, 67, 71]\n"
     ]
    }
   ],
   "source": [
    "def find_primes(N):\n",
    "    primes = []\n",
    "    num = 2\n",
    "    while len(primes) < N:\n",
    "        if check_prime(num):\n",
    "            primes.append(num)\n",
    "        num += 1\n",
    "    return primes\n",
    "print(find_primes(5))\n",
    "print(find_primes(10))\n",
    "print(find_primes(20))"
   ]
  },
  {
   "cell_type": "markdown",
   "metadata": {},
   "source": [
    "**Task 4** (0.5 points) <br/> \n",
    "There are numbers: `a`, `b`, `c`. Without using functions `min`, `max` and other functions, find the maximum number."
   ]
  },
  {
   "cell_type": "code",
   "execution_count": 7,
   "metadata": {},
   "outputs": [
    {
     "name": "stdout",
     "output_type": "stream",
     "text": [
      "-39 63 62 \tMaximum: 63\n",
      "64 69 66 \tMaximum: 69\n",
      "75 -70 -25 \tMaximum: 75\n",
      "96 -11 80 \tMaximum: 96\n",
      "-11 20 13 \tMaximum: 20\n",
      "-14 -82 -47 \tMaximum: -14\n",
      "80 31 23 \tMaximum: 80\n",
      "53 -41 -46 \tMaximum: 53\n",
      "75 -57 53 \tMaximum: 75\n",
      "-4 45 82 \tMaximum: 82\n"
     ]
    }
   ],
   "source": [
    "from random import randint\n",
    "\n",
    "def find_max2(a, b):\n",
    "    return b if a < b else a\n",
    "\n",
    "def find_max(a, b, c):\n",
    "    return find_max2(a, find_max2(b, c))\n",
    "\n",
    "for i in range(10):\n",
    "    \n",
    "    a = randint(-100, 100)\n",
    "    b = randint(-100, 100)\n",
    "    c = randint(-100, 100)\n",
    "    \n",
    "    print(a, b, c, '\\tMaximum:', find_max(a, b, c))"
   ]
  },
  {
   "cell_type": "markdown",
   "metadata": {},
   "source": [
    "# 2. Numpy (4 points)"
   ]
  },
  {
   "cell_type": "markdown",
   "metadata": {},
   "source": [
    "**Task 1** (0.5 points) <br/>\n",
    "Create a random array (`np.random.rand()`) with length of 10 and with sum of its elements equals to 2."
   ]
  },
  {
   "cell_type": "code",
   "execution_count": 46,
   "metadata": {},
   "outputs": [
    {
     "name": "stdout",
     "output_type": "stream",
     "text": [
      "<class 'numpy.ndarray'>\n",
      "10\n",
      "2.0000000000000004\n"
     ]
    }
   ],
   "source": [
    "my_array = np.random.rand(10)\n",
    "sum_ = sum(my_array)\n",
    "for i in range(len(my_array)):\n",
    "    my_array[i] = my_array[i] * 2 / sum_\n",
    "print(len(my_array))\n",
    "print(np.sum(my_array))"
   ]
  },
  {
   "cell_type": "markdown",
   "metadata": {},
   "source": [
    "**Task 2** (0.5 points) <br/>\n",
    "Create two random arrays $a$ and $b$ with the same length. \n",
    "\n",
    "Calculate the following distances between the arrays **without using special funcrion. You may only use basic numpy operations.**:\n",
    "\n",
    "* Euclidean Distance\n",
    "$$ d(a, b) = \\sqrt{\\sum_i (a_i - b_i)^2} $$\n",
    "* Manhattan Distance\n",
    "$$ d(a, b) = \\sum_i |a_i - b_i| $$\n",
    "* Cosine Distance\n",
    "$$ d(a, b) = 1 - \\frac{a^\\top b}{||a||_2\\cdot||b||_2}$$\n"
   ]
  },
  {
   "cell_type": "code",
   "execution_count": 85,
   "metadata": {},
   "outputs": [
    {
     "name": "stdout",
     "output_type": "stream",
     "text": [
      "0\n"
     ]
    }
   ],
   "source": [
    "def cal_euclidean(a, b): \n",
    "    distance = np.sqrt(np.sum((a - b) ** 2))\n",
    "    return distance\n",
    "\n",
    "def cal_manhattan(a, b):    \n",
    "    distance = np.sum(np.abs(a - b))    \n",
    "    return distance\n",
    "\n",
    "def vec_len(v):\n",
    "    return np.sqrt(np.dot(a, a))\n",
    "\n",
    "def cal_cosine(a, b):    \n",
    "    distance = 1 - np.dot(a, b) / (vec_len(a) * vec_len(b))\n",
    "    return distance"
   ]
  },
  {
   "cell_type": "code",
   "execution_count": 100,
   "metadata": {},
   "outputs": [
    {
     "name": "stdout",
     "output_type": "stream",
     "text": [
      "19.748417658131498\n",
      "56\n",
      "0.6851851851851851\n"
     ]
    }
   ],
   "source": [
    "a = np.random.randint(-10, 10, size=10)\n",
    "b = np.random.randint(-10, 10, size=10)\n",
    "print(cal_euclidean(a, b))\n",
    "print(cal_manhattan(a, b))\n",
    "print(cal_cosine(a, b))"
   ]
  },
  {
   "cell_type": "markdown",
   "metadata": {},
   "source": [
    "**Task 3** (0.5 points) <br/>\n",
    "Create a random array (`np.random.randint()`) with length of 100. Transform the array so that \n",
    "* Maximum element(s) value is 1\n",
    "* Minimum element(s) value is 0\n",
    "* Other values are in interval 0-1 with keeping the order"
   ]
  },
  {
   "cell_type": "code",
   "execution_count": 16,
   "metadata": {},
   "outputs": [
    {
     "name": "stdout",
     "output_type": "stream",
     "text": [
      "1.0 0.0\n",
      "[0.03  0.02  0.9   0.44  0.205 0.47  0.145 0.405 0.57  0.2   0.83  0.455\n",
      " 0.465 0.795 0.85  0.14  0.94  0.375 0.235 0.635 0.615 0.935 0.745 0.255\n",
      " 0.845 0.75  0.345 0.685 0.    0.15  0.835 0.495 0.885 0.095 0.4   0.85\n",
      " 0.045 0.55  0.695 0.59  0.35  0.06  0.435 0.74  0.385 0.505 0.89  0.84\n",
      " 0.055 0.645 0.855 0.55  0.095 0.145 0.155 0.405 0.705 1.    0.145 0.11\n",
      " 0.76  0.1   0.74  0.01  0.1   0.765 0.215 0.01  0.86  0.685 0.265 0.55\n",
      " 0.765 0.085 0.01  0.495 0.36  0.93  0.61  0.825 0.78  0.11  0.025 0.7\n",
      " 0.415 0.85  0.03  0.54  0.625 0.28  0.775 0.95  0.285 0.88  0.17  0.43\n",
      " 0.61  0.975 0.59  0.06 ]\n"
     ]
    }
   ],
   "source": [
    "my_array = np.random.randint(-100, high=101, size=100)\n",
    "my_array = my_array - np.min(my_array)\n",
    "max = np.max(my_array)\n",
    "if(max != 0):\n",
    "    my_array = my_array / max\n",
    "print(np.max(my_array), np.min(my_array))\n",
    "print(my_array)"
   ]
  },
  {
   "cell_type": "markdown",
   "metadata": {},
   "source": [
    "**Task 4** (0.5 points) <br/>\n",
    "Create an array with shape of $5 \\times 6$ with integers from [0,50]. Print a column that contains the maximum element of the array."
   ]
  },
  {
   "cell_type": "code",
   "execution_count": 76,
   "metadata": {},
   "outputs": [
    {
     "name": "stdout",
     "output_type": "stream",
     "text": [
      "Shape:  (5, 6)\n",
      "Array\n",
      "[[16 10 49 39 29 34]\n",
      " [25 17 23 10 49 23]\n",
      " [11 18  1 30 26 16]\n",
      " [ 0 23 49 15 50  4]\n",
      " [44 33 40 36 34  5]]\n",
      "[29 49 26 50 34]\n"
     ]
    }
   ],
   "source": [
    "my_array = np.random.randint(0, 51, size=(5,6))\n",
    "selected_column = my_array[:, np.argmax(np.max(my_array, axis=0))]\n",
    "print('Shape: ',my_array.shape)\n",
    "print('Array')\n",
    "print(my_array)\n",
    "print(selected_column)"
   ]
  },
  {
   "cell_type": "markdown",
   "metadata": {},
   "source": [
    "**Task 5** (0.5 points) <br/>\n",
    "\n",
    "Replace all missing values in the following array with mean."
   ]
  },
  {
   "cell_type": "code",
   "execution_count": 5,
   "metadata": {},
   "outputs": [
    {
     "data": {
      "text/plain": [
       "array([0.91573419, 0.02339206,        nan,        nan,        nan,\n",
       "       0.55124852, 0.84632216, 0.21205809, 0.16342103,        nan])"
      ]
     },
     "execution_count": 5,
     "metadata": {},
     "output_type": "execute_result"
    }
   ],
   "source": [
    "arr = np.random.rand(10)\n",
    "idx = np.random.randint(0, 10, 4)\n",
    "arr[idx] = np.nan\n",
    "arr"
   ]
  },
  {
   "cell_type": "code",
   "execution_count": 7,
   "metadata": {},
   "outputs": [
    {
     "name": "stdout",
     "output_type": "stream",
     "text": [
      "[0.91573419 0.02339206 0.45202934 0.45202934 0.45202934 0.55124852\n",
      " 0.84632216 0.21205809 0.16342103 0.45202934]\n"
     ]
    }
   ],
   "source": [
    "# mean = np.sum(arr, where=~np.isnan(arr)) / len(arr)\n",
    "arr[np.isnan(arr)] = arr[~np.isnan(arr)].mean()\n",
    "print(arr)"
   ]
  },
  {
   "cell_type": "markdown",
   "metadata": {},
   "source": [
    "**Task 6** (0.5 points) <br/>\n",
    "Create a function which takes an image ```X``` (3D array of the shape (n, m, 3)) as an input and returns the mean for all 3 channels (a vector of shape 3)."
   ]
  },
  {
   "cell_type": "code",
   "execution_count": 86,
   "metadata": {},
   "outputs": [],
   "source": [
    "def mean_channel(X):\n",
    "    mean_vector = np.mean(X, axis=(0, 1))\n",
    "    return mean_vector"
   ]
  },
  {
   "cell_type": "code",
   "execution_count": 89,
   "metadata": {},
   "outputs": [
    {
     "data": {
      "text/plain": [
       "array([-0.68526786, -0.14285714, -0.56696429])"
      ]
     },
     "execution_count": 89,
     "metadata": {},
     "output_type": "execute_result"
    }
   ],
   "source": [
    "n = 28\n",
    "m = 16\n",
    "X =  np.random.randint(-10, 10, size=(n,m,3))\n",
    "mean_channel(X)"
   ]
  },
  {
   "cell_type": "markdown",
   "metadata": {},
   "source": [
    "**Task 7** (1 points) <br/>\n",
    "Create a function which takes a matrix ```X``` as an input and returns all its unique rows as a matrix, i.e. in a 3D matrix you need to return all unique horizontal layers.\n",
    "\n",
    "Sample input:\n",
    "\n",
    "     ([[[4, 4],\n",
    "        [5, 5]],\n",
    "\n",
    "       [[4, 5],\n",
    "        [5, 5]],\n",
    "\n",
    "       [[4, 4],\n",
    "        [5, 4]],\n",
    "\n",
    "       [[4, 5],\n",
    "        [5, 5]],\n",
    "\n",
    "       [[5, 4],\n",
    "        [4, 4]],\n",
    "\n",
    "       [[5, 5],\n",
    "        [4, 5]]])\n",
    "        \n",
    "Sample output:\n",
    "\n",
    "     ([[[4, 4],\n",
    "        [5, 5]],\n",
    "\n",
    "       [[4, 5],\n",
    "        [5, 5]],\n",
    "\n",
    "       [[4, 4],\n",
    "        [5, 4]],\n",
    "\n",
    "       [[5, 4],\n",
    "        [4, 4]],\n",
    "\n",
    "       [[5, 5],\n",
    "        [4, 5]]])"
   ]
  },
  {
   "cell_type": "code",
   "execution_count": 65,
   "metadata": {},
   "outputs": [],
   "source": [
    "def get_unique_rows(X):\n",
    "    X_unique = np.unique(X, axis=0)\n",
    "    return X_unique"
   ]
  },
  {
   "cell_type": "code",
   "execution_count": 66,
   "metadata": {},
   "outputs": [
    {
     "name": "stdout",
     "output_type": "stream",
     "text": [
      "[[[5 5]\n",
      "  [4 4]]\n",
      "\n",
      " [[4 4]\n",
      "  [4 5]]\n",
      "\n",
      " [[4 4]\n",
      "  [5 4]]\n",
      "\n",
      " [[5 4]\n",
      "  [4 5]]\n",
      "\n",
      " [[5 5]\n",
      "  [4 5]]\n",
      "\n",
      " [[4 5]\n",
      "  [4 4]]\n",
      "\n",
      " [[4 5]\n",
      "  [5 5]]\n",
      "\n",
      " [[4 5]\n",
      "  [5 4]]\n",
      "\n",
      " [[5 4]\n",
      "  [5 4]]\n",
      "\n",
      " [[4 4]\n",
      "  [4 4]]\n",
      "\n",
      " [[4 5]\n",
      "  [4 5]]\n",
      "\n",
      " [[4 4]\n",
      "  [5 4]]\n",
      "\n",
      " [[4 5]\n",
      "  [5 4]]\n",
      "\n",
      " [[4 5]\n",
      "  [4 4]]\n",
      "\n",
      " [[5 5]\n",
      "  [4 5]]\n",
      "\n",
      " [[5 4]\n",
      "  [4 4]]\n",
      "\n",
      " [[5 5]\n",
      "  [4 4]]\n",
      "\n",
      " [[4 4]\n",
      "  [5 4]]\n",
      "\n",
      " [[5 4]\n",
      "  [4 4]]\n",
      "\n",
      " [[4 5]\n",
      "  [5 5]]\n",
      "\n",
      " [[4 4]\n",
      "  [4 4]]\n",
      "\n",
      " [[4 5]\n",
      "  [5 5]]\n",
      "\n",
      " [[5 4]\n",
      "  [4 4]]\n",
      "\n",
      " [[4 4]\n",
      "  [5 4]]\n",
      "\n",
      " [[4 4]\n",
      "  [4 5]]\n",
      "\n",
      " [[4 4]\n",
      "  [5 4]]\n",
      "\n",
      " [[5 4]\n",
      "  [4 4]]\n",
      "\n",
      " [[5 4]\n",
      "  [4 5]]]\n"
     ]
    }
   ],
   "source": [
    "X =  np.random.randint(4, 6, size=(n, 2, 2))\n",
    "print(X)"
   ]
  },
  {
   "cell_type": "code",
   "execution_count": 67,
   "metadata": {},
   "outputs": [
    {
     "data": {
      "text/plain": [
       "array([[[4, 4],\n",
       "        [4, 4]],\n",
       "\n",
       "       [[4, 4],\n",
       "        [4, 5]],\n",
       "\n",
       "       [[4, 4],\n",
       "        [5, 4]],\n",
       "\n",
       "       [[4, 5],\n",
       "        [4, 4]],\n",
       "\n",
       "       [[4, 5],\n",
       "        [4, 5]],\n",
       "\n",
       "       [[4, 5],\n",
       "        [5, 4]],\n",
       "\n",
       "       [[4, 5],\n",
       "        [5, 5]],\n",
       "\n",
       "       [[5, 4],\n",
       "        [4, 4]],\n",
       "\n",
       "       [[5, 4],\n",
       "        [4, 5]],\n",
       "\n",
       "       [[5, 4],\n",
       "        [5, 4]],\n",
       "\n",
       "       [[5, 5],\n",
       "        [4, 4]],\n",
       "\n",
       "       [[5, 5],\n",
       "        [4, 5]]])"
      ]
     },
     "execution_count": 67,
     "metadata": {},
     "output_type": "execute_result"
    }
   ],
   "source": [
    "get_unique_rows(X)"
   ]
  },
  {
   "cell_type": "markdown",
   "metadata": {},
   "source": [
    "# 3. Pandas & Visualization (4 points)\n"
   ]
  },
  {
   "cell_type": "markdown",
   "metadata": {},
   "source": [
    "You are going to work with *Titanic* dataset which contains information about passengers of Titanic:\n",
    "- **Survived** - 1 - survived, 0 - died (0); **Target variable**\n",
    "- **pclass** - passengers's class;\n",
    "- **sex** - passengers's sex\n",
    "- **Age** - passengers's age in years\n",
    "- **sibsp**    - is the passenger someones siblings   \n",
    "- **parch**    - is the passenger someones child or parent\n",
    "- **ticket** - ticket number    \n",
    "- **fare** - ticket price    \n",
    "- **cabin** - cabin number\n",
    "- **embarked** - port of Embarkation; C = Cherbourg, Q = Queenstown, S = Southampton\n",
    "\n",
    "**Note** for all visualizations use matplotlib or seaborn but NOT plotly! Plotly's graphics sometimes vanish after saving. In this case the task wont't be graded.\n",
    "\n",
    "**Note** support all your answers with necessary code, computations, vizualization, and explanation. Answers without code and explanation won't be graded."
   ]
  },
  {
   "cell_type": "code",
   "execution_count": 3,
   "metadata": {},
   "outputs": [
    {
     "name": "stdout",
     "output_type": "stream",
     "text": [
      "<class 'pandas.core.frame.DataFrame'>\n",
      "RangeIndex: 891 entries, 0 to 890\n",
      "Data columns (total 12 columns):\n",
      " #   Column       Non-Null Count  Dtype  \n",
      "---  ------       --------------  -----  \n",
      " 0   PassengerId  891 non-null    int64  \n",
      " 1   Survived     891 non-null    int64  \n",
      " 2   Pclass       891 non-null    int64  \n",
      " 3   Name         891 non-null    object \n",
      " 4   Sex          891 non-null    object \n",
      " 5   Age          714 non-null    float64\n",
      " 6   SibSp        891 non-null    int64  \n",
      " 7   Parch        891 non-null    int64  \n",
      " 8   Ticket       891 non-null    object \n",
      " 9   Fare         891 non-null    float64\n",
      " 10  Cabin        204 non-null    object \n",
      " 11  Embarked     889 non-null    object \n",
      "dtypes: float64(2), int64(5), object(5)\n",
      "memory usage: 83.7+ KB\n",
      "None\n"
     ]
    }
   ],
   "source": [
    "filename = 'titanic.csv'\n",
    "dataset = pd.read_csv(filename)\n",
    "print(dataset.info())"
   ]
  },
  {
   "cell_type": "markdown",
   "metadata": {},
   "source": [
    "**Task 1** (1 points) <br/>\n",
    "Answer the following questions:\n",
    "    \n",
    "    * Are there any missing values? In what columns?\n",
    "    * How many classes (pclass) were there on Tinanic?\n",
    "    * What is the percentage of survived passengers? Are the classes balanced?\n",
    "    * What is the average ticket fare?\n",
    "    * What what the most popular port of embarkation?\n",
    "Please, write not only the answers but the code, proving it."
   ]
  },
  {
   "cell_type": "markdown",
   "metadata": {},
   "source": [
    "na_summary показывает количество пропущенных значений в каждом столбце. <br/>\n",
    "Как видно из na_summary, есть 3 колонки с пропущенными значениями: \"Age\", \"Cabin\", \"Embarked\""
   ]
  },
  {
   "cell_type": "code",
   "execution_count": 7,
   "metadata": {},
   "outputs": [
    {
     "name": "stdout",
     "output_type": "stream",
     "text": [
      "PassengerId      0\n",
      "Survived         0\n",
      "Pclass           0\n",
      "Name             0\n",
      "Sex              0\n",
      "Age            177\n",
      "SibSp            0\n",
      "Parch            0\n",
      "Ticket           0\n",
      "Fare             0\n",
      "Cabin          687\n",
      "Embarked         2\n",
      "dtype: int64\n"
     ]
    }
   ],
   "source": [
    "na_summary = dataset.isna().sum(axis=0) \n",
    "print(na_summary)"
   ]
  },
  {
   "cell_type": "markdown",
   "metadata": {},
   "source": [
    "Суммарно было 3 класса"
   ]
  },
  {
   "cell_type": "code",
   "execution_count": 79,
   "metadata": {},
   "outputs": [
    {
     "name": "stdout",
     "output_type": "stream",
     "text": [
      "3\n",
      "[3 1 2]\n"
     ]
    }
   ],
   "source": [
    "print(dataset.Pclass.nunique())\n",
    "print(dataset.Pclass.unique())"
   ]
  },
  {
   "cell_type": "markdown",
   "metadata": {},
   "source": [
    "Выжило около 38% людей. <br/>\n",
    "В процентном соотношении больше всего выжило людей из 1 класса, затем из 2 и из 3 "
   ]
  },
  {
   "cell_type": "code",
   "execution_count": 76,
   "metadata": {},
   "outputs": [
    {
     "name": "stdout",
     "output_type": "stream",
     "text": [
      "38.38\n",
      "       Survived            %\n",
      "            sum count       \n",
      "Pclass                      \n",
      "1           136   216  62.96\n",
      "2            87   184  47.28\n",
      "3           119   491  24.24\n"
     ]
    }
   ],
   "source": [
    "print(round(dataset.Survived.sum(axis=0) * 100 / dataset.shape[0], 2))\n",
    "summary = dataset[[\"Pclass\", \"Survived\"]].groupby(by='Pclass').agg(['sum', 'count'])\n",
    "summary[\"%\"] = round(summary[\"Survived\"][\"sum\"] * 100 / summary[\"Survived\", \"count\"], 2)\n",
    "print(summary)\n"
   ]
  },
  {
   "cell_type": "markdown",
   "metadata": {},
   "source": [
    "Средняя стоимость билета около 32%"
   ]
  },
  {
   "cell_type": "code",
   "execution_count": 25,
   "metadata": {},
   "outputs": [
    {
     "name": "stdout",
     "output_type": "stream",
     "text": [
      "32.2\n"
     ]
    }
   ],
   "source": [
    "print(round(dataset[\"Fare\"].mean(), 2))"
   ]
  },
  {
   "cell_type": "markdown",
   "metadata": {},
   "source": [
    "Наиболее популярный порт: S (Southampton)"
   ]
  },
  {
   "cell_type": "code",
   "execution_count": 10,
   "metadata": {},
   "outputs": [
    {
     "name": "stdout",
     "output_type": "stream",
     "text": [
      "0    S\n",
      "dtype: object\n"
     ]
    }
   ],
   "source": [
    "print(dataset[\"Embarked\"].mode(dropna=True))"
   ]
  },
  {
   "cell_type": "markdown",
   "metadata": {},
   "source": [
    "**Task 2** (1 points) <br/>\n",
    "Find all the titles of the passengers (example, *Capt., Mr.,Mme.*), which are written in the column Name, and answer the following questions:\n",
    "\n",
    "    * How many are there unique titles?\n",
    "    * How many are there passengers with every title?\n",
    "    * What is the most popular man's title? And woman's title?\n",
    "    \n",
    "**Hint** You may select the title from the name as a word which contains a dot."
   ]
  },
  {
   "cell_type": "markdown",
   "metadata": {},
   "source": [
    "В общей сложности 17 уникальных \"титулов\""
   ]
  },
  {
   "cell_type": "code",
   "execution_count": 12,
   "metadata": {},
   "outputs": [
    {
     "name": "stdout",
     "output_type": "stream",
     "text": [
      "17\n"
     ]
    }
   ],
   "source": [
    "def extract_title(name):\n",
    "    parts = name.split(' ')\n",
    "    for part in parts:\n",
    "        if part.endswith('.'):\n",
    "            return part.lower()\n",
    "    return None\n",
    "\n",
    "titles = pd.DataFrame(columns=['Sex','Title'])\n",
    "titles['Sex'] = dataset['Sex']\n",
    "titles[\"Title\"] = dataset['Name'].transform(extract_title)  \n",
    "\n",
    "print(titles[\"Title\"].nunique())"
   ]
  },
  {
   "cell_type": "code",
   "execution_count": 14,
   "metadata": {},
   "outputs": [
    {
     "name": "stdout",
     "output_type": "stream",
     "text": [
      "Title\n",
      "capt.          1\n",
      "col.           2\n",
      "countess.      1\n",
      "don.           1\n",
      "dr.            7\n",
      "jonkheer.      1\n",
      "lady.          1\n",
      "major.         2\n",
      "master.       40\n",
      "miss.        182\n",
      "mlle.          2\n",
      "mme.           1\n",
      "mr.          517\n",
      "mrs.         125\n",
      "ms.            1\n",
      "rev.           6\n",
      "sir.           1\n",
      "Name: Title, dtype: int64\n"
     ]
    }
   ],
   "source": [
    "print(titles['Title'].groupby(titles['Title']).count())"
   ]
  },
  {
   "cell_type": "markdown",
   "metadata": {},
   "source": [
    "Наиболее популярные титулы: <br/>\n",
    "    Женщины: miss <br/>\n",
    "    Мужчины: mr <br/>"
   ]
  },
  {
   "cell_type": "code",
   "execution_count": 6,
   "metadata": {},
   "outputs": [
    {
     "name": "stdout",
     "output_type": "stream",
     "text": [
      "        Title\n",
      "Sex          \n",
      "female  miss.\n",
      "male      mr.\n"
     ]
    }
   ],
   "source": [
    "print(titles.groupby(by='Sex').agg(pd.Series.mode))"
   ]
  },
  {
   "cell_type": "markdown",
   "metadata": {},
   "source": [
    "**Task 3** (0.5 points) <br/>\n",
    "Visualize age distribution (you may use a histogram, for example). \n",
    "\n",
    "    * What is the minimal and maximum ages of the passengers? Visualize it on the plot\n",
    "    * What is the mean age? Visualize it on the plot\n",
    "    * Make conclusions about what you see on the plot"
   ]
  },
  {
   "cell_type": "markdown",
   "metadata": {},
   "source": [
    "Выводы:\n",
    "\n",
    "    - Распределение возраста пассажирова напоминает нормальное распределение со средним в точке около 30, смещенным в сторону значений < 30\n",
    "    - В соотсветсвие с графиком наблюдается демографическая дыра среди пассажиров в возрасте от 5 до 15 лет. \n",
    "    - Наиболее вероятный возраст пассажира находится в диапозоне от 20 до 25 лет, при среднем возрасте пассажира приблизительно 30 лет. \n",
    "    - Наиболее редкий возраст пассажира 75-80 лет."
   ]
  },
  {
   "cell_type": "code",
   "execution_count": 106,
   "metadata": {},
   "outputs": [
    {
     "data": {
      "image/png": "[encoded data removed]",
      "image/svg+xml": [
       "<?xml version=\"1.0\" encoding=\"utf-8\" standalone=\"no\"?>\n",
       "<!DOCTYPE svg PUBLIC \"-//W3C//DTD SVG 1.1//EN\"\n",
       "  \"http://www.w3.org/Graphics/SVG/1.1/DTD/svg11.dtd\">\n",
       "<!-- Created with matplotlib (https://matplotlib.org/) -->\n",
       "<svg height=\"352.15625pt\" version=\"1.1\" viewBox=\"0 0 352.440625 352.15625\" width=\"352.440625pt\" xmlns=\"http://www.w3.org/2000/svg\" xmlns:xlink=\"http://www.w3.org/1999/xlink\">\n",
       " <metadata>\n",
       "  <rdf:RDF xmlns:cc=\"http://creativecommons.org/ns#\" xmlns:dc=\"http://purl.org/dc/elements/1.1/\" xmlns:rdf=\"http://www.w3.org/1999/02/22-rdf-syntax-ns#\">\n",
       "   <cc:Work>\n",
       "    <dc:type rdf:resource=\"http://purl.org/dc/dcmitype/StillImage\"/>\n",
       "    <dc:date>2021-02-18T17:11:25.590164</dc:date>\n",
       "    <dc:format>image/svg+xml</dc:format>\n",
       "    <dc:creator>\n",
       "     <cc:Agent>\n",
       "      <dc:title>Matplotlib v3.3.2, https://matplotlib.org/</dc:title>\n",
       "     </cc:Agent>\n",
       "    </dc:creator>\n",
       "   </cc:Work>\n",
       "  </rdf:RDF>\n",
       " </metadata>\n",
       " <defs>\n",
       "  <style type=\"text/css\">*{stroke-linecap:butt;stroke-linejoin:round;}</style>\n",
       " </defs>\n",
       " <g id=\"figure_1\">\n",
       "  <g id=\"patch_1\">\n",
       "   <path d=\"M 0 352.15625 \n",
       "L 352.440625 352.15625 \n",
       "L 352.440625 0 \n",
       "L 0 0 \n",
       "z\n",
       "\" style=\"fill:none;\"/>\n",
       "  </g>\n",
       "  <g id=\"axes_1\">\n",
       "   <g id=\"patch_2\">\n",
       "    <path d=\"M 46.965625 314.6 \n",
       "L 345.240625 314.6 \n",
       "L 345.240625 7.2 \n",
       "L 46.965625 7.2 \n",
       "z\n",
       "\" style=\"fill:#ffffff;\"/>\n",
       "   </g>\n",
       "   <g id=\"patch_3\">\n",
       "    <path clip-path=\"url(#p0256583f50)\" d=\"M 60.52358 314.6 \n",
       "L 77.471023 314.6 \n",
       "L 77.471023 209.013739 \n",
       "L 60.52358 209.013739 \n",
       "z\n",
       "\" style=\"fill:#1f77b4;fill-opacity:0.75;stroke:#000000;stroke-linejoin:miter;\"/>\n",
       "   </g>\n",
       "   <g id=\"patch_4\">\n",
       "    <path clip-path=\"url(#p0256583f50)\" d=\"M 77.471023 314.6 \n",
       "L 94.418466 314.6 \n",
       "L 94.418466 266.606245 \n",
       "L 77.471023 266.606245 \n",
       "z\n",
       "\" style=\"fill:#1f77b4;fill-opacity:0.75;stroke:#000000;stroke-linejoin:miter;\"/>\n",
       "   </g>\n",
       "   <g id=\"patch_5\">\n",
       "    <path clip-path=\"url(#p0256583f50)\" d=\"M 94.418466 314.6 \n",
       "L 111.365909 314.6 \n",
       "L 111.365909 269.005933 \n",
       "L 94.418466 269.005933 \n",
       "z\n",
       "\" style=\"fill:#1f77b4;fill-opacity:0.75;stroke:#000000;stroke-linejoin:miter;\"/>\n",
       "   </g>\n",
       "   <g id=\"patch_6\">\n",
       "    <path clip-path=\"url(#p0256583f50)\" d=\"M 111.365909 314.6 \n",
       "L 128.313352 314.6 \n",
       "L 128.313352 84.229977 \n",
       "L 111.365909 84.229977 \n",
       "z\n",
       "\" style=\"fill:#1f77b4;fill-opacity:0.75;stroke:#000000;stroke-linejoin:miter;\"/>\n",
       "   </g>\n",
       "   <g id=\"patch_7\">\n",
       "    <path clip-path=\"url(#p0256583f50)\" d=\"M 128.313352 314.6 \n",
       "L 145.260795 314.6 \n",
       "L 145.260795 21.838095 \n",
       "L 128.313352 21.838095 \n",
       "z\n",
       "\" style=\"fill:#1f77b4;fill-opacity:0.75;stroke:#000000;stroke-linejoin:miter;\"/>\n",
       "   </g>\n",
       "   <g id=\"patch_8\">\n",
       "    <path clip-path=\"url(#p0256583f50)\" d=\"M 145.260795 314.6 \n",
       "L 162.208239 314.6 \n",
       "L 162.208239 55.433724 \n",
       "L 145.260795 55.433724 \n",
       "z\n",
       "\" style=\"fill:#1f77b4;fill-opacity:0.75;stroke:#000000;stroke-linejoin:miter;\"/>\n",
       "   </g>\n",
       "   <g id=\"patch_9\">\n",
       "    <path clip-path=\"url(#p0256583f50)\" d=\"M 162.208239 314.6 \n",
       "L 179.155682 314.6 \n",
       "L 179.155682 103.427479 \n",
       "L 162.208239 103.427479 \n",
       "z\n",
       "\" style=\"fill:#1f77b4;fill-opacity:0.75;stroke:#000000;stroke-linejoin:miter;\"/>\n",
       "   </g>\n",
       "   <g id=\"patch_10\">\n",
       "    <path clip-path=\"url(#p0256583f50)\" d=\"M 179.155682 314.6 \n",
       "L 196.103125 314.6 \n",
       "L 196.103125 153.820921 \n",
       "L 179.155682 153.820921 \n",
       "z\n",
       "\" style=\"fill:#1f77b4;fill-opacity:0.75;stroke:#000000;stroke-linejoin:miter;\"/>\n",
       "   </g>\n",
       "   <g id=\"patch_11\">\n",
       "    <path clip-path=\"url(#p0256583f50)\" d=\"M 196.103125 314.6 \n",
       "L 213.050568 314.6 \n",
       "L 213.050568 201.814676 \n",
       "L 196.103125 201.814676 \n",
       "z\n",
       "\" style=\"fill:#1f77b4;fill-opacity:0.75;stroke:#000000;stroke-linejoin:miter;\"/>\n",
       "   </g>\n",
       "   <g id=\"patch_12\">\n",
       "    <path clip-path=\"url(#p0256583f50)\" d=\"M 213.050568 314.6 \n",
       "L 229.998011 314.6 \n",
       "L 229.998011 221.012178 \n",
       "L 213.050568 221.012178 \n",
       "z\n",
       "\" style=\"fill:#1f77b4;fill-opacity:0.75;stroke:#000000;stroke-linejoin:miter;\"/>\n",
       "   </g>\n",
       "   <g id=\"patch_13\">\n",
       "    <path clip-path=\"url(#p0256583f50)\" d=\"M 229.998011 314.6 \n",
       "L 246.945455 314.6 \n",
       "L 246.945455 257.007494 \n",
       "L 229.998011 257.007494 \n",
       "z\n",
       "\" style=\"fill:#1f77b4;fill-opacity:0.75;stroke:#000000;stroke-linejoin:miter;\"/>\n",
       "   </g>\n",
       "   <g id=\"patch_14\">\n",
       "    <path clip-path=\"url(#p0256583f50)\" d=\"M 246.945455 314.6 \n",
       "L 263.892898 314.6 \n",
       "L 263.892898 271.405621 \n",
       "L 246.945455 271.405621 \n",
       "z\n",
       "\" style=\"fill:#1f77b4;fill-opacity:0.75;stroke:#000000;stroke-linejoin:miter;\"/>\n",
       "   </g>\n",
       "   <g id=\"patch_15\">\n",
       "    <path clip-path=\"url(#p0256583f50)\" d=\"M 263.892898 314.6 \n",
       "L 280.840341 314.6 \n",
       "L 280.840341 281.004372 \n",
       "L 263.892898 281.004372 \n",
       "z\n",
       "\" style=\"fill:#1f77b4;fill-opacity:0.75;stroke:#000000;stroke-linejoin:miter;\"/>\n",
       "   </g>\n",
       "   <g id=\"patch_16\">\n",
       "    <path clip-path=\"url(#p0256583f50)\" d=\"M 280.840341 314.6 \n",
       "L 297.787784 314.6 \n",
       "L 297.787784 307.400937 \n",
       "L 280.840341 307.400937 \n",
       "z\n",
       "\" style=\"fill:#1f77b4;fill-opacity:0.75;stroke:#000000;stroke-linejoin:miter;\"/>\n",
       "   </g>\n",
       "   <g id=\"patch_17\">\n",
       "    <path clip-path=\"url(#p0256583f50)\" d=\"M 297.787784 314.6 \n",
       "L 314.735227 314.6 \n",
       "L 314.735227 305.001249 \n",
       "L 297.787784 305.001249 \n",
       "z\n",
       "\" style=\"fill:#1f77b4;fill-opacity:0.75;stroke:#000000;stroke-linejoin:miter;\"/>\n",
       "   </g>\n",
       "   <g id=\"patch_18\">\n",
       "    <path clip-path=\"url(#p0256583f50)\" d=\"M 314.735227 314.6 \n",
       "L 331.68267 314.6 \n",
       "L 331.68267 312.200312 \n",
       "L 314.735227 312.200312 \n",
       "z\n",
       "\" style=\"fill:#1f77b4;fill-opacity:0.75;stroke:#000000;stroke-linejoin:miter;\"/>\n",
       "   </g>\n",
       "   <g id=\"matplotlib.axis_1\">\n",
       "    <g id=\"xtick_1\">\n",
       "     <g id=\"line2d_1\">\n",
       "      <defs>\n",
       "       <path d=\"M 0 0 \n",
       "L 0 3.5 \n",
       "\" id=\"mf7bdd9c3de\" style=\"stroke:#000000;stroke-width:0.8;\"/>\n",
       "      </defs>\n",
       "      <g>\n",
       "       <use style=\"stroke:#000000;stroke-width:0.8;\" x=\"59.099994\" xlink:href=\"#mf7bdd9c3de\" y=\"314.6\"/>\n",
       "      </g>\n",
       "     </g>\n",
       "     <g id=\"text_1\">\n",
       "      <!-- 0 -->\n",
       "      <g transform=\"translate(55.918744 329.198437)scale(0.1 -0.1)\">\n",
       "       <defs>\n",
       "        <path d=\"M 31.78125 66.40625 \n",
       "Q 24.171875 66.40625 20.328125 58.90625 \n",
       "Q 16.5 51.421875 16.5 36.375 \n",
       "Q 16.5 21.390625 20.328125 13.890625 \n",
       "Q 24.171875 6.390625 31.78125 6.390625 \n",
       "Q 39.453125 6.390625 43.28125 13.890625 \n",
       "Q 47.125 21.390625 47.125 36.375 \n",
       "Q 47.125 51.421875 43.28125 58.90625 \n",
       "Q 39.453125 66.40625 31.78125 66.40625 \n",
       "z\n",
       "M 31.78125 74.21875 \n",
       "Q 44.046875 74.21875 50.515625 64.515625 \n",
       "Q 56.984375 54.828125 56.984375 36.375 \n",
       "Q 56.984375 17.96875 50.515625 8.265625 \n",
       "Q 44.046875 -1.421875 31.78125 -1.421875 \n",
       "Q 19.53125 -1.421875 13.0625 8.265625 \n",
       "Q 6.59375 17.96875 6.59375 36.375 \n",
       "Q 6.59375 54.828125 13.0625 64.515625 \n",
       "Q 19.53125 74.21875 31.78125 74.21875 \n",
       "z\n",
       "\" id=\"DejaVuSans-48\"/>\n",
       "       </defs>\n",
       "       <use xlink:href=\"#DejaVuSans-48\"/>\n",
       "      </g>\n",
       "     </g>\n",
       "    </g>\n",
       "    <g id=\"xtick_2\">\n",
       "     <g id=\"line2d_2\">\n",
       "      <g>\n",
       "       <use style=\"stroke:#000000;stroke-width:0.8;\" x=\"92.994881\" xlink:href=\"#mf7bdd9c3de\" y=\"314.6\"/>\n",
       "      </g>\n",
       "     </g>\n",
       "     <g id=\"text_2\">\n",
       "      <!-- 10 -->\n",
       "      <g transform=\"translate(86.632381 329.198437)scale(0.1 -0.1)\">\n",
       "       <defs>\n",
       "        <path d=\"M 12.40625 8.296875 \n",
       "L 28.515625 8.296875 \n",
       "L 28.515625 63.921875 \n",
       "L 10.984375 60.40625 \n",
       "L 10.984375 69.390625 \n",
       "L 28.421875 72.90625 \n",
       "L 38.28125 72.90625 \n",
       "L 38.28125 8.296875 \n",
       "L 54.390625 8.296875 \n",
       "L 54.390625 0 \n",
       "L 12.40625 0 \n",
       "z\n",
       "\" id=\"DejaVuSans-49\"/>\n",
       "       </defs>\n",
       "       <use xlink:href=\"#DejaVuSans-49\"/>\n",
       "       <use x=\"63.623047\" xlink:href=\"#DejaVuSans-48\"/>\n",
       "      </g>\n",
       "     </g>\n",
       "    </g>\n",
       "    <g id=\"xtick_3\">\n",
       "     <g id=\"line2d_3\">\n",
       "      <g>\n",
       "       <use style=\"stroke:#000000;stroke-width:0.8;\" x=\"126.889767\" xlink:href=\"#mf7bdd9c3de\" y=\"314.6\"/>\n",
       "      </g>\n",
       "     </g>\n",
       "     <g id=\"text_3\">\n",
       "      <!-- 20 -->\n",
       "      <g transform=\"translate(120.527267 329.198437)scale(0.1 -0.1)\">\n",
       "       <defs>\n",
       "        <path d=\"M 19.1875 8.296875 \n",
       "L 53.609375 8.296875 \n",
       "L 53.609375 0 \n",
       "L 7.328125 0 \n",
       "L 7.328125 8.296875 \n",
       "Q 12.9375 14.109375 22.625 23.890625 \n",
       "Q 32.328125 33.6875 34.8125 36.53125 \n",
       "Q 39.546875 41.84375 41.421875 45.53125 \n",
       "Q 43.3125 49.21875 43.3125 52.78125 \n",
       "Q 43.3125 58.59375 39.234375 62.25 \n",
       "Q 35.15625 65.921875 28.609375 65.921875 \n",
       "Q 23.96875 65.921875 18.8125 64.3125 \n",
       "Q 13.671875 62.703125 7.8125 59.421875 \n",
       "L 7.8125 69.390625 \n",
       "Q 13.765625 71.78125 18.9375 73 \n",
       "Q 24.125 74.21875 28.421875 74.21875 \n",
       "Q 39.75 74.21875 46.484375 68.546875 \n",
       "Q 53.21875 62.890625 53.21875 53.421875 \n",
       "Q 53.21875 48.921875 51.53125 44.890625 \n",
       "Q 49.859375 40.875 45.40625 35.40625 \n",
       "Q 44.1875 33.984375 37.640625 27.21875 \n",
       "Q 31.109375 20.453125 19.1875 8.296875 \n",
       "z\n",
       "\" id=\"DejaVuSans-50\"/>\n",
       "       </defs>\n",
       "       <use xlink:href=\"#DejaVuSans-50\"/>\n",
       "       <use x=\"63.623047\" xlink:href=\"#DejaVuSans-48\"/>\n",
       "      </g>\n",
       "     </g>\n",
       "    </g>\n",
       "    <g id=\"xtick_4\">\n",
       "     <g id=\"line2d_4\">\n",
       "      <g>\n",
       "       <use style=\"stroke:#000000;stroke-width:0.8;\" x=\"160.784653\" xlink:href=\"#mf7bdd9c3de\" y=\"314.6\"/>\n",
       "      </g>\n",
       "     </g>\n",
       "     <g id=\"text_4\">\n",
       "      <!-- 30 -->\n",
       "      <g transform=\"translate(154.422153 329.198437)scale(0.1 -0.1)\">\n",
       "       <defs>\n",
       "        <path d=\"M 40.578125 39.3125 \n",
       "Q 47.65625 37.796875 51.625 33 \n",
       "Q 55.609375 28.21875 55.609375 21.1875 \n",
       "Q 55.609375 10.40625 48.1875 4.484375 \n",
       "Q 40.765625 -1.421875 27.09375 -1.421875 \n",
       "Q 22.515625 -1.421875 17.65625 -0.515625 \n",
       "Q 12.796875 0.390625 7.625 2.203125 \n",
       "L 7.625 11.71875 \n",
       "Q 11.71875 9.328125 16.59375 8.109375 \n",
       "Q 21.484375 6.890625 26.8125 6.890625 \n",
       "Q 36.078125 6.890625 40.9375 10.546875 \n",
       "Q 45.796875 14.203125 45.796875 21.1875 \n",
       "Q 45.796875 27.640625 41.28125 31.265625 \n",
       "Q 36.765625 34.90625 28.71875 34.90625 \n",
       "L 20.21875 34.90625 \n",
       "L 20.21875 43.015625 \n",
       "L 29.109375 43.015625 \n",
       "Q 36.375 43.015625 40.234375 45.921875 \n",
       "Q 44.09375 48.828125 44.09375 54.296875 \n",
       "Q 44.09375 59.90625 40.109375 62.90625 \n",
       "Q 36.140625 65.921875 28.71875 65.921875 \n",
       "Q 24.65625 65.921875 20.015625 65.03125 \n",
       "Q 15.375 64.15625 9.8125 62.3125 \n",
       "L 9.8125 71.09375 \n",
       "Q 15.4375 72.65625 20.34375 73.4375 \n",
       "Q 25.25 74.21875 29.59375 74.21875 \n",
       "Q 40.828125 74.21875 47.359375 69.109375 \n",
       "Q 53.90625 64.015625 53.90625 55.328125 \n",
       "Q 53.90625 49.265625 50.4375 45.09375 \n",
       "Q 46.96875 40.921875 40.578125 39.3125 \n",
       "z\n",
       "\" id=\"DejaVuSans-51\"/>\n",
       "       </defs>\n",
       "       <use xlink:href=\"#DejaVuSans-51\"/>\n",
       "       <use x=\"63.623047\" xlink:href=\"#DejaVuSans-48\"/>\n",
       "      </g>\n",
       "     </g>\n",
       "    </g>\n",
       "    <g id=\"xtick_5\">\n",
       "     <g id=\"line2d_5\">\n",
       "      <g>\n",
       "       <use style=\"stroke:#000000;stroke-width:0.8;\" x=\"194.67954\" xlink:href=\"#mf7bdd9c3de\" y=\"314.6\"/>\n",
       "      </g>\n",
       "     </g>\n",
       "     <g id=\"text_5\">\n",
       "      <!-- 40 -->\n",
       "      <g transform=\"translate(188.31704 329.198437)scale(0.1 -0.1)\">\n",
       "       <defs>\n",
       "        <path d=\"M 37.796875 64.3125 \n",
       "L 12.890625 25.390625 \n",
       "L 37.796875 25.390625 \n",
       "z\n",
       "M 35.203125 72.90625 \n",
       "L 47.609375 72.90625 \n",
       "L 47.609375 25.390625 \n",
       "L 58.015625 25.390625 \n",
       "L 58.015625 17.1875 \n",
       "L 47.609375 17.1875 \n",
       "L 47.609375 0 \n",
       "L 37.796875 0 \n",
       "L 37.796875 17.1875 \n",
       "L 4.890625 17.1875 \n",
       "L 4.890625 26.703125 \n",
       "z\n",
       "\" id=\"DejaVuSans-52\"/>\n",
       "       </defs>\n",
       "       <use xlink:href=\"#DejaVuSans-52\"/>\n",
       "       <use x=\"63.623047\" xlink:href=\"#DejaVuSans-48\"/>\n",
       "      </g>\n",
       "     </g>\n",
       "    </g>\n",
       "    <g id=\"xtick_6\">\n",
       "     <g id=\"line2d_6\">\n",
       "      <g>\n",
       "       <use style=\"stroke:#000000;stroke-width:0.8;\" x=\"228.574426\" xlink:href=\"#mf7bdd9c3de\" y=\"314.6\"/>\n",
       "      </g>\n",
       "     </g>\n",
       "     <g id=\"text_6\">\n",
       "      <!-- 50 -->\n",
       "      <g transform=\"translate(222.211926 329.198437)scale(0.1 -0.1)\">\n",
       "       <defs>\n",
       "        <path d=\"M 10.796875 72.90625 \n",
       "L 49.515625 72.90625 \n",
       "L 49.515625 64.59375 \n",
       "L 19.828125 64.59375 \n",
       "L 19.828125 46.734375 \n",
       "Q 21.96875 47.46875 24.109375 47.828125 \n",
       "Q 26.265625 48.1875 28.421875 48.1875 \n",
       "Q 40.625 48.1875 47.75 41.5 \n",
       "Q 54.890625 34.8125 54.890625 23.390625 \n",
       "Q 54.890625 11.625 47.5625 5.09375 \n",
       "Q 40.234375 -1.421875 26.90625 -1.421875 \n",
       "Q 22.3125 -1.421875 17.546875 -0.640625 \n",
       "Q 12.796875 0.140625 7.71875 1.703125 \n",
       "L 7.71875 11.625 \n",
       "Q 12.109375 9.234375 16.796875 8.0625 \n",
       "Q 21.484375 6.890625 26.703125 6.890625 \n",
       "Q 35.15625 6.890625 40.078125 11.328125 \n",
       "Q 45.015625 15.765625 45.015625 23.390625 \n",
       "Q 45.015625 31 40.078125 35.4375 \n",
       "Q 35.15625 39.890625 26.703125 39.890625 \n",
       "Q 22.75 39.890625 18.8125 39.015625 \n",
       "Q 14.890625 38.140625 10.796875 36.28125 \n",
       "z\n",
       "\" id=\"DejaVuSans-53\"/>\n",
       "       </defs>\n",
       "       <use xlink:href=\"#DejaVuSans-53\"/>\n",
       "       <use x=\"63.623047\" xlink:href=\"#DejaVuSans-48\"/>\n",
       "      </g>\n",
       "     </g>\n",
       "    </g>\n",
       "    <g id=\"xtick_7\">\n",
       "     <g id=\"line2d_7\">\n",
       "      <g>\n",
       "       <use style=\"stroke:#000000;stroke-width:0.8;\" x=\"262.469312\" xlink:href=\"#mf7bdd9c3de\" y=\"314.6\"/>\n",
       "      </g>\n",
       "     </g>\n",
       "     <g id=\"text_7\">\n",
       "      <!-- 60 -->\n",
       "      <g transform=\"translate(256.106812 329.198437)scale(0.1 -0.1)\">\n",
       "       <defs>\n",
       "        <path d=\"M 33.015625 40.375 \n",
       "Q 26.375 40.375 22.484375 35.828125 \n",
       "Q 18.609375 31.296875 18.609375 23.390625 \n",
       "Q 18.609375 15.53125 22.484375 10.953125 \n",
       "Q 26.375 6.390625 33.015625 6.390625 \n",
       "Q 39.65625 6.390625 43.53125 10.953125 \n",
       "Q 47.40625 15.53125 47.40625 23.390625 \n",
       "Q 47.40625 31.296875 43.53125 35.828125 \n",
       "Q 39.65625 40.375 33.015625 40.375 \n",
       "z\n",
       "M 52.59375 71.296875 \n",
       "L 52.59375 62.3125 \n",
       "Q 48.875 64.0625 45.09375 64.984375 \n",
       "Q 41.3125 65.921875 37.59375 65.921875 \n",
       "Q 27.828125 65.921875 22.671875 59.328125 \n",
       "Q 17.53125 52.734375 16.796875 39.40625 \n",
       "Q 19.671875 43.65625 24.015625 45.921875 \n",
       "Q 28.375 48.1875 33.59375 48.1875 \n",
       "Q 44.578125 48.1875 50.953125 41.515625 \n",
       "Q 57.328125 34.859375 57.328125 23.390625 \n",
       "Q 57.328125 12.15625 50.6875 5.359375 \n",
       "Q 44.046875 -1.421875 33.015625 -1.421875 \n",
       "Q 20.359375 -1.421875 13.671875 8.265625 \n",
       "Q 6.984375 17.96875 6.984375 36.375 \n",
       "Q 6.984375 53.65625 15.1875 63.9375 \n",
       "Q 23.390625 74.21875 37.203125 74.21875 \n",
       "Q 40.921875 74.21875 44.703125 73.484375 \n",
       "Q 48.484375 72.75 52.59375 71.296875 \n",
       "z\n",
       "\" id=\"DejaVuSans-54\"/>\n",
       "       </defs>\n",
       "       <use xlink:href=\"#DejaVuSans-54\"/>\n",
       "       <use x=\"63.623047\" xlink:href=\"#DejaVuSans-48\"/>\n",
       "      </g>\n",
       "     </g>\n",
       "    </g>\n",
       "    <g id=\"xtick_8\">\n",
       "     <g id=\"line2d_8\">\n",
       "      <g>\n",
       "       <use style=\"stroke:#000000;stroke-width:0.8;\" x=\"296.364199\" xlink:href=\"#mf7bdd9c3de\" y=\"314.6\"/>\n",
       "      </g>\n",
       "     </g>\n",
       "     <g id=\"text_8\">\n",
       "      <!-- 70 -->\n",
       "      <g transform=\"translate(290.001699 329.198437)scale(0.1 -0.1)\">\n",
       "       <defs>\n",
       "        <path d=\"M 8.203125 72.90625 \n",
       "L 55.078125 72.90625 \n",
       "L 55.078125 68.703125 \n",
       "L 28.609375 0 \n",
       "L 18.3125 0 \n",
       "L 43.21875 64.59375 \n",
       "L 8.203125 64.59375 \n",
       "z\n",
       "\" id=\"DejaVuSans-55\"/>\n",
       "       </defs>\n",
       "       <use xlink:href=\"#DejaVuSans-55\"/>\n",
       "       <use x=\"63.623047\" xlink:href=\"#DejaVuSans-48\"/>\n",
       "      </g>\n",
       "     </g>\n",
       "    </g>\n",
       "    <g id=\"xtick_9\">\n",
       "     <g id=\"line2d_9\">\n",
       "      <g>\n",
       "       <use style=\"stroke:#000000;stroke-width:0.8;\" x=\"330.259085\" xlink:href=\"#mf7bdd9c3de\" y=\"314.6\"/>\n",
       "      </g>\n",
       "     </g>\n",
       "     <g id=\"text_9\">\n",
       "      <!-- 80 -->\n",
       "      <g transform=\"translate(323.896585 329.198437)scale(0.1 -0.1)\">\n",
       "       <defs>\n",
       "        <path d=\"M 31.78125 34.625 \n",
       "Q 24.75 34.625 20.71875 30.859375 \n",
       "Q 16.703125 27.09375 16.703125 20.515625 \n",
       "Q 16.703125 13.921875 20.71875 10.15625 \n",
       "Q 24.75 6.390625 31.78125 6.390625 \n",
       "Q 38.8125 6.390625 42.859375 10.171875 \n",
       "Q 46.921875 13.96875 46.921875 20.515625 \n",
       "Q 46.921875 27.09375 42.890625 30.859375 \n",
       "Q 38.875 34.625 31.78125 34.625 \n",
       "z\n",
       "M 21.921875 38.8125 \n",
       "Q 15.578125 40.375 12.03125 44.71875 \n",
       "Q 8.5 49.078125 8.5 55.328125 \n",
       "Q 8.5 64.0625 14.71875 69.140625 \n",
       "Q 20.953125 74.21875 31.78125 74.21875 \n",
       "Q 42.671875 74.21875 48.875 69.140625 \n",
       "Q 55.078125 64.0625 55.078125 55.328125 \n",
       "Q 55.078125 49.078125 51.53125 44.71875 \n",
       "Q 48 40.375 41.703125 38.8125 \n",
       "Q 48.828125 37.15625 52.796875 32.3125 \n",
       "Q 56.78125 27.484375 56.78125 20.515625 \n",
       "Q 56.78125 9.90625 50.3125 4.234375 \n",
       "Q 43.84375 -1.421875 31.78125 -1.421875 \n",
       "Q 19.734375 -1.421875 13.25 4.234375 \n",
       "Q 6.78125 9.90625 6.78125 20.515625 \n",
       "Q 6.78125 27.484375 10.78125 32.3125 \n",
       "Q 14.796875 37.15625 21.921875 38.8125 \n",
       "z\n",
       "M 18.3125 54.390625 \n",
       "Q 18.3125 48.734375 21.84375 45.5625 \n",
       "Q 25.390625 42.390625 31.78125 42.390625 \n",
       "Q 38.140625 42.390625 41.71875 45.5625 \n",
       "Q 45.3125 48.734375 45.3125 54.390625 \n",
       "Q 45.3125 60.0625 41.71875 63.234375 \n",
       "Q 38.140625 66.40625 31.78125 66.40625 \n",
       "Q 25.390625 66.40625 21.84375 63.234375 \n",
       "Q 18.3125 60.0625 18.3125 54.390625 \n",
       "z\n",
       "\" id=\"DejaVuSans-56\"/>\n",
       "       </defs>\n",
       "       <use xlink:href=\"#DejaVuSans-56\"/>\n",
       "       <use x=\"63.623047\" xlink:href=\"#DejaVuSans-48\"/>\n",
       "      </g>\n",
       "     </g>\n",
       "    </g>\n",
       "    <g id=\"text_10\">\n",
       "     <!-- Age -->\n",
       "     <g transform=\"translate(186.432031 342.876562)scale(0.1 -0.1)\">\n",
       "      <defs>\n",
       "       <path d=\"M 34.1875 63.1875 \n",
       "L 20.796875 26.90625 \n",
       "L 47.609375 26.90625 \n",
       "z\n",
       "M 28.609375 72.90625 \n",
       "L 39.796875 72.90625 \n",
       "L 67.578125 0 \n",
       "L 57.328125 0 \n",
       "L 50.6875 18.703125 \n",
       "L 17.828125 18.703125 \n",
       "L 11.1875 0 \n",
       "L 0.78125 0 \n",
       "z\n",
       "\" id=\"DejaVuSans-65\"/>\n",
       "       <path d=\"M 45.40625 27.984375 \n",
       "Q 45.40625 37.75 41.375 43.109375 \n",
       "Q 37.359375 48.484375 30.078125 48.484375 \n",
       "Q 22.859375 48.484375 18.828125 43.109375 \n",
       "Q 14.796875 37.75 14.796875 27.984375 \n",
       "Q 14.796875 18.265625 18.828125 12.890625 \n",
       "Q 22.859375 7.515625 30.078125 7.515625 \n",
       "Q 37.359375 7.515625 41.375 12.890625 \n",
       "Q 45.40625 18.265625 45.40625 27.984375 \n",
       "z\n",
       "M 54.390625 6.78125 \n",
       "Q 54.390625 -7.171875 48.1875 -13.984375 \n",
       "Q 42 -20.796875 29.203125 -20.796875 \n",
       "Q 24.46875 -20.796875 20.265625 -20.09375 \n",
       "Q 16.0625 -19.390625 12.109375 -17.921875 \n",
       "L 12.109375 -9.1875 \n",
       "Q 16.0625 -11.328125 19.921875 -12.34375 \n",
       "Q 23.78125 -13.375 27.78125 -13.375 \n",
       "Q 36.625 -13.375 41.015625 -8.765625 \n",
       "Q 45.40625 -4.15625 45.40625 5.171875 \n",
       "L 45.40625 9.625 \n",
       "Q 42.625 4.78125 38.28125 2.390625 \n",
       "Q 33.9375 0 27.875 0 \n",
       "Q 17.828125 0 11.671875 7.65625 \n",
       "Q 5.515625 15.328125 5.515625 27.984375 \n",
       "Q 5.515625 40.671875 11.671875 48.328125 \n",
       "Q 17.828125 56 27.875 56 \n",
       "Q 33.9375 56 38.28125 53.609375 \n",
       "Q 42.625 51.21875 45.40625 46.390625 \n",
       "L 45.40625 54.6875 \n",
       "L 54.390625 54.6875 \n",
       "z\n",
       "\" id=\"DejaVuSans-103\"/>\n",
       "       <path d=\"M 56.203125 29.59375 \n",
       "L 56.203125 25.203125 \n",
       "L 14.890625 25.203125 \n",
       "Q 15.484375 15.921875 20.484375 11.0625 \n",
       "Q 25.484375 6.203125 34.421875 6.203125 \n",
       "Q 39.59375 6.203125 44.453125 7.46875 \n",
       "Q 49.3125 8.734375 54.109375 11.28125 \n",
       "L 54.109375 2.78125 \n",
       "Q 49.265625 0.734375 44.1875 -0.34375 \n",
       "Q 39.109375 -1.421875 33.890625 -1.421875 \n",
       "Q 20.796875 -1.421875 13.15625 6.1875 \n",
       "Q 5.515625 13.8125 5.515625 26.8125 \n",
       "Q 5.515625 40.234375 12.765625 48.109375 \n",
       "Q 20.015625 56 32.328125 56 \n",
       "Q 43.359375 56 49.78125 48.890625 \n",
       "Q 56.203125 41.796875 56.203125 29.59375 \n",
       "z\n",
       "M 47.21875 32.234375 \n",
       "Q 47.125 39.59375 43.09375 43.984375 \n",
       "Q 39.0625 48.390625 32.421875 48.390625 \n",
       "Q 24.90625 48.390625 20.390625 44.140625 \n",
       "Q 15.875 39.890625 15.1875 32.171875 \n",
       "z\n",
       "\" id=\"DejaVuSans-101\"/>\n",
       "      </defs>\n",
       "      <use xlink:href=\"#DejaVuSans-65\"/>\n",
       "      <use x=\"68.408203\" xlink:href=\"#DejaVuSans-103\"/>\n",
       "      <use x=\"131.884766\" xlink:href=\"#DejaVuSans-101\"/>\n",
       "     </g>\n",
       "    </g>\n",
       "   </g>\n",
       "   <g id=\"matplotlib.axis_2\">\n",
       "    <g id=\"ytick_1\">\n",
       "     <g id=\"line2d_10\">\n",
       "      <defs>\n",
       "       <path d=\"M 0 0 \n",
       "L -3.5 0 \n",
       "\" id=\"me459bf01c8\" style=\"stroke:#000000;stroke-width:0.8;\"/>\n",
       "      </defs>\n",
       "      <g>\n",
       "       <use style=\"stroke:#000000;stroke-width:0.8;\" x=\"46.965625\" xlink:href=\"#me459bf01c8\" y=\"314.6\"/>\n",
       "      </g>\n",
       "     </g>\n",
       "     <g id=\"text_11\">\n",
       "      <!-- 0 -->\n",
       "      <g transform=\"translate(33.603125 318.399219)scale(0.1 -0.1)\">\n",
       "       <use xlink:href=\"#DejaVuSans-48\"/>\n",
       "      </g>\n",
       "     </g>\n",
       "    </g>\n",
       "    <g id=\"ytick_2\">\n",
       "     <g id=\"line2d_11\">\n",
       "      <g>\n",
       "       <use style=\"stroke:#000000;stroke-width:0.8;\" x=\"46.965625\" xlink:href=\"#me459bf01c8\" y=\"266.606245\"/>\n",
       "      </g>\n",
       "     </g>\n",
       "     <g id=\"text_12\">\n",
       "      <!-- 20 -->\n",
       "      <g transform=\"translate(27.240625 270.405464)scale(0.1 -0.1)\">\n",
       "       <use xlink:href=\"#DejaVuSans-50\"/>\n",
       "       <use x=\"63.623047\" xlink:href=\"#DejaVuSans-48\"/>\n",
       "      </g>\n",
       "     </g>\n",
       "    </g>\n",
       "    <g id=\"ytick_3\">\n",
       "     <g id=\"line2d_12\">\n",
       "      <g>\n",
       "       <use style=\"stroke:#000000;stroke-width:0.8;\" x=\"46.965625\" xlink:href=\"#me459bf01c8\" y=\"218.61249\"/>\n",
       "      </g>\n",
       "     </g>\n",
       "     <g id=\"text_13\">\n",
       "      <!-- 40 -->\n",
       "      <g transform=\"translate(27.240625 222.411709)scale(0.1 -0.1)\">\n",
       "       <use xlink:href=\"#DejaVuSans-52\"/>\n",
       "       <use x=\"63.623047\" xlink:href=\"#DejaVuSans-48\"/>\n",
       "      </g>\n",
       "     </g>\n",
       "    </g>\n",
       "    <g id=\"ytick_4\">\n",
       "     <g id=\"line2d_13\">\n",
       "      <g>\n",
       "       <use style=\"stroke:#000000;stroke-width:0.8;\" x=\"46.965625\" xlink:href=\"#me459bf01c8\" y=\"170.618735\"/>\n",
       "      </g>\n",
       "     </g>\n",
       "     <g id=\"text_14\">\n",
       "      <!-- 60 -->\n",
       "      <g transform=\"translate(27.240625 174.417954)scale(0.1 -0.1)\">\n",
       "       <use xlink:href=\"#DejaVuSans-54\"/>\n",
       "       <use x=\"63.623047\" xlink:href=\"#DejaVuSans-48\"/>\n",
       "      </g>\n",
       "     </g>\n",
       "    </g>\n",
       "    <g id=\"ytick_5\">\n",
       "     <g id=\"line2d_14\">\n",
       "      <g>\n",
       "       <use style=\"stroke:#000000;stroke-width:0.8;\" x=\"46.965625\" xlink:href=\"#me459bf01c8\" y=\"122.62498\"/>\n",
       "      </g>\n",
       "     </g>\n",
       "     <g id=\"text_15\">\n",
       "      <!-- 80 -->\n",
       "      <g transform=\"translate(27.240625 126.424199)scale(0.1 -0.1)\">\n",
       "       <use xlink:href=\"#DejaVuSans-56\"/>\n",
       "       <use x=\"63.623047\" xlink:href=\"#DejaVuSans-48\"/>\n",
       "      </g>\n",
       "     </g>\n",
       "    </g>\n",
       "    <g id=\"ytick_6\">\n",
       "     <g id=\"line2d_15\">\n",
       "      <g>\n",
       "       <use style=\"stroke:#000000;stroke-width:0.8;\" x=\"46.965625\" xlink:href=\"#me459bf01c8\" y=\"74.631226\"/>\n",
       "      </g>\n",
       "     </g>\n",
       "     <g id=\"text_16\">\n",
       "      <!-- 100 -->\n",
       "      <g transform=\"translate(20.878125 78.430444)scale(0.1 -0.1)\">\n",
       "       <use xlink:href=\"#DejaVuSans-49\"/>\n",
       "       <use x=\"63.623047\" xlink:href=\"#DejaVuSans-48\"/>\n",
       "       <use x=\"127.246094\" xlink:href=\"#DejaVuSans-48\"/>\n",
       "      </g>\n",
       "     </g>\n",
       "    </g>\n",
       "    <g id=\"ytick_7\">\n",
       "     <g id=\"line2d_16\">\n",
       "      <g>\n",
       "       <use style=\"stroke:#000000;stroke-width:0.8;\" x=\"46.965625\" xlink:href=\"#me459bf01c8\" y=\"26.637471\"/>\n",
       "      </g>\n",
       "     </g>\n",
       "     <g id=\"text_17\">\n",
       "      <!-- 120 -->\n",
       "      <g transform=\"translate(20.878125 30.436689)scale(0.1 -0.1)\">\n",
       "       <use xlink:href=\"#DejaVuSans-49\"/>\n",
       "       <use x=\"63.623047\" xlink:href=\"#DejaVuSans-50\"/>\n",
       "       <use x=\"127.246094\" xlink:href=\"#DejaVuSans-48\"/>\n",
       "      </g>\n",
       "     </g>\n",
       "    </g>\n",
       "    <g id=\"text_18\">\n",
       "     <!-- Count -->\n",
       "     <g transform=\"translate(14.798438 175.748437)rotate(-90)scale(0.1 -0.1)\">\n",
       "      <defs>\n",
       "       <path d=\"M 64.40625 67.28125 \n",
       "L 64.40625 56.890625 \n",
       "Q 59.421875 61.53125 53.78125 63.8125 \n",
       "Q 48.140625 66.109375 41.796875 66.109375 \n",
       "Q 29.296875 66.109375 22.65625 58.46875 \n",
       "Q 16.015625 50.828125 16.015625 36.375 \n",
       "Q 16.015625 21.96875 22.65625 14.328125 \n",
       "Q 29.296875 6.6875 41.796875 6.6875 \n",
       "Q 48.140625 6.6875 53.78125 8.984375 \n",
       "Q 59.421875 11.28125 64.40625 15.921875 \n",
       "L 64.40625 5.609375 \n",
       "Q 59.234375 2.09375 53.4375 0.328125 \n",
       "Q 47.65625 -1.421875 41.21875 -1.421875 \n",
       "Q 24.65625 -1.421875 15.125 8.703125 \n",
       "Q 5.609375 18.84375 5.609375 36.375 \n",
       "Q 5.609375 53.953125 15.125 64.078125 \n",
       "Q 24.65625 74.21875 41.21875 74.21875 \n",
       "Q 47.75 74.21875 53.53125 72.484375 \n",
       "Q 59.328125 70.75 64.40625 67.28125 \n",
       "z\n",
       "\" id=\"DejaVuSans-67\"/>\n",
       "       <path d=\"M 30.609375 48.390625 \n",
       "Q 23.390625 48.390625 19.1875 42.75 \n",
       "Q 14.984375 37.109375 14.984375 27.296875 \n",
       "Q 14.984375 17.484375 19.15625 11.84375 \n",
       "Q 23.34375 6.203125 30.609375 6.203125 \n",
       "Q 37.796875 6.203125 41.984375 11.859375 \n",
       "Q 46.1875 17.53125 46.1875 27.296875 \n",
       "Q 46.1875 37.015625 41.984375 42.703125 \n",
       "Q 37.796875 48.390625 30.609375 48.390625 \n",
       "z\n",
       "M 30.609375 56 \n",
       "Q 42.328125 56 49.015625 48.375 \n",
       "Q 55.71875 40.765625 55.71875 27.296875 \n",
       "Q 55.71875 13.875 49.015625 6.21875 \n",
       "Q 42.328125 -1.421875 30.609375 -1.421875 \n",
       "Q 18.84375 -1.421875 12.171875 6.21875 \n",
       "Q 5.515625 13.875 5.515625 27.296875 \n",
       "Q 5.515625 40.765625 12.171875 48.375 \n",
       "Q 18.84375 56 30.609375 56 \n",
       "z\n",
       "\" id=\"DejaVuSans-111\"/>\n",
       "       <path d=\"M 8.5 21.578125 \n",
       "L 8.5 54.6875 \n",
       "L 17.484375 54.6875 \n",
       "L 17.484375 21.921875 \n",
       "Q 17.484375 14.15625 20.5 10.265625 \n",
       "Q 23.53125 6.390625 29.59375 6.390625 \n",
       "Q 36.859375 6.390625 41.078125 11.03125 \n",
       "Q 45.3125 15.671875 45.3125 23.6875 \n",
       "L 45.3125 54.6875 \n",
       "L 54.296875 54.6875 \n",
       "L 54.296875 0 \n",
       "L 45.3125 0 \n",
       "L 45.3125 8.40625 \n",
       "Q 42.046875 3.421875 37.71875 1 \n",
       "Q 33.40625 -1.421875 27.6875 -1.421875 \n",
       "Q 18.265625 -1.421875 13.375 4.4375 \n",
       "Q 8.5 10.296875 8.5 21.578125 \n",
       "z\n",
       "M 31.109375 56 \n",
       "z\n",
       "\" id=\"DejaVuSans-117\"/>\n",
       "       <path d=\"M 54.890625 33.015625 \n",
       "L 54.890625 0 \n",
       "L 45.90625 0 \n",
       "L 45.90625 32.71875 \n",
       "Q 45.90625 40.484375 42.875 44.328125 \n",
       "Q 39.84375 48.1875 33.796875 48.1875 \n",
       "Q 26.515625 48.1875 22.3125 43.546875 \n",
       "Q 18.109375 38.921875 18.109375 30.90625 \n",
       "L 18.109375 0 \n",
       "L 9.078125 0 \n",
       "L 9.078125 54.6875 \n",
       "L 18.109375 54.6875 \n",
       "L 18.109375 46.1875 \n",
       "Q 21.34375 51.125 25.703125 53.5625 \n",
       "Q 30.078125 56 35.796875 56 \n",
       "Q 45.21875 56 50.046875 50.171875 \n",
       "Q 54.890625 44.34375 54.890625 33.015625 \n",
       "z\n",
       "\" id=\"DejaVuSans-110\"/>\n",
       "       <path d=\"M 18.3125 70.21875 \n",
       "L 18.3125 54.6875 \n",
       "L 36.8125 54.6875 \n",
       "L 36.8125 47.703125 \n",
       "L 18.3125 47.703125 \n",
       "L 18.3125 18.015625 \n",
       "Q 18.3125 11.328125 20.140625 9.421875 \n",
       "Q 21.96875 7.515625 27.59375 7.515625 \n",
       "L 36.8125 7.515625 \n",
       "L 36.8125 0 \n",
       "L 27.59375 0 \n",
       "Q 17.1875 0 13.234375 3.875 \n",
       "Q 9.28125 7.765625 9.28125 18.015625 \n",
       "L 9.28125 47.703125 \n",
       "L 2.6875 47.703125 \n",
       "L 2.6875 54.6875 \n",
       "L 9.28125 54.6875 \n",
       "L 9.28125 70.21875 \n",
       "z\n",
       "\" id=\"DejaVuSans-116\"/>\n",
       "      </defs>\n",
       "      <use xlink:href=\"#DejaVuSans-67\"/>\n",
       "      <use x=\"69.824219\" xlink:href=\"#DejaVuSans-111\"/>\n",
       "      <use x=\"131.005859\" xlink:href=\"#DejaVuSans-117\"/>\n",
       "      <use x=\"194.384766\" xlink:href=\"#DejaVuSans-110\"/>\n",
       "      <use x=\"257.763672\" xlink:href=\"#DejaVuSans-116\"/>\n",
       "     </g>\n",
       "    </g>\n",
       "   </g>\n",
       "   <g id=\"line2d_17\">\n",
       "    <path clip-path=\"url(#p0256583f50)\" d=\"M 60.52358 314.6 \n",
       "L 60.52358 7.2 \n",
       "\" style=\"fill:none;stroke:#ff0000;stroke-linecap:square;stroke-width:1.5;\"/>\n",
       "   </g>\n",
       "   <g id=\"line2d_18\">\n",
       "    <path clip-path=\"url(#p0256583f50)\" d=\"M 330.259085 314.6 \n",
       "L 330.259085 7.2 \n",
       "\" style=\"fill:none;stroke:#008000;stroke-linecap:square;stroke-width:1.5;\"/>\n",
       "   </g>\n",
       "   <g id=\"line2d_19\">\n",
       "    <path clip-path=\"url(#p0256583f50)\" d=\"M 159.767807 314.6 \n",
       "L 159.767807 7.2 \n",
       "\" style=\"fill:none;stroke:#0000ff;stroke-linecap:square;stroke-width:1.5;\"/>\n",
       "   </g>\n",
       "   <g id=\"patch_19\">\n",
       "    <path d=\"M 46.965625 314.6 \n",
       "L 46.965625 7.2 \n",
       "\" style=\"fill:none;stroke:#000000;stroke-linecap:square;stroke-linejoin:miter;stroke-width:0.8;\"/>\n",
       "   </g>\n",
       "   <g id=\"patch_20\">\n",
       "    <path d=\"M 46.965625 314.6 \n",
       "L 345.240625 314.6 \n",
       "\" style=\"fill:none;stroke:#000000;stroke-linecap:square;stroke-linejoin:miter;stroke-width:0.8;\"/>\n",
       "   </g>\n",
       "   <g id=\"legend_1\">\n",
       "    <g id=\"patch_21\">\n",
       "     <path d=\"M 247.235937 59.234375 \n",
       "L 338.240625 59.234375 \n",
       "Q 340.240625 59.234375 340.240625 57.234375 \n",
       "L 340.240625 14.2 \n",
       "Q 340.240625 12.2 338.240625 12.2 \n",
       "L 247.235937 12.2 \n",
       "Q 245.235937 12.2 245.235937 14.2 \n",
       "L 245.235937 57.234375 \n",
       "Q 245.235937 59.234375 247.235937 59.234375 \n",
       "z\n",
       "\" style=\"fill:#ffffff;opacity:0.8;stroke:#cccccc;stroke-linejoin:miter;\"/>\n",
       "    </g>\n",
       "    <g id=\"line2d_20\">\n",
       "     <path d=\"M 249.235937 20.298437 \n",
       "L 269.235937 20.298437 \n",
       "\" style=\"fill:none;stroke:#ff0000;stroke-linecap:square;stroke-width:1.5;\"/>\n",
       "    </g>\n",
       "    <g id=\"line2d_21\"/>\n",
       "    <g id=\"text_19\">\n",
       "     <!-- min=0.42 -->\n",
       "     <g transform=\"translate(277.235937 23.798437)scale(0.1 -0.1)\">\n",
       "      <defs>\n",
       "       <path d=\"M 52 44.1875 \n",
       "Q 55.375 50.25 60.0625 53.125 \n",
       "Q 64.75 56 71.09375 56 \n",
       "Q 79.640625 56 84.28125 50.015625 \n",
       "Q 88.921875 44.046875 88.921875 33.015625 \n",
       "L 88.921875 0 \n",
       "L 79.890625 0 \n",
       "L 79.890625 32.71875 \n",
       "Q 79.890625 40.578125 77.09375 44.375 \n",
       "Q 74.3125 48.1875 68.609375 48.1875 \n",
       "Q 61.625 48.1875 57.5625 43.546875 \n",
       "Q 53.515625 38.921875 53.515625 30.90625 \n",
       "L 53.515625 0 \n",
       "L 44.484375 0 \n",
       "L 44.484375 32.71875 \n",
       "Q 44.484375 40.625 41.703125 44.40625 \n",
       "Q 38.921875 48.1875 33.109375 48.1875 \n",
       "Q 26.21875 48.1875 22.15625 43.53125 \n",
       "Q 18.109375 38.875 18.109375 30.90625 \n",
       "L 18.109375 0 \n",
       "L 9.078125 0 \n",
       "L 9.078125 54.6875 \n",
       "L 18.109375 54.6875 \n",
       "L 18.109375 46.1875 \n",
       "Q 21.1875 51.21875 25.484375 53.609375 \n",
       "Q 29.78125 56 35.6875 56 \n",
       "Q 41.65625 56 45.828125 52.96875 \n",
       "Q 50 49.953125 52 44.1875 \n",
       "z\n",
       "\" id=\"DejaVuSans-109\"/>\n",
       "       <path d=\"M 9.421875 54.6875 \n",
       "L 18.40625 54.6875 \n",
       "L 18.40625 0 \n",
       "L 9.421875 0 \n",
       "z\n",
       "M 9.421875 75.984375 \n",
       "L 18.40625 75.984375 \n",
       "L 18.40625 64.59375 \n",
       "L 9.421875 64.59375 \n",
       "z\n",
       "\" id=\"DejaVuSans-105\"/>\n",
       "       <path d=\"M 10.59375 45.40625 \n",
       "L 73.1875 45.40625 \n",
       "L 73.1875 37.203125 \n",
       "L 10.59375 37.203125 \n",
       "z\n",
       "M 10.59375 25.484375 \n",
       "L 73.1875 25.484375 \n",
       "L 73.1875 17.1875 \n",
       "L 10.59375 17.1875 \n",
       "z\n",
       "\" id=\"DejaVuSans-61\"/>\n",
       "       <path d=\"M 10.6875 12.40625 \n",
       "L 21 12.40625 \n",
       "L 21 0 \n",
       "L 10.6875 0 \n",
       "z\n",
       "\" id=\"DejaVuSans-46\"/>\n",
       "      </defs>\n",
       "      <use xlink:href=\"#DejaVuSans-109\"/>\n",
       "      <use x=\"97.412109\" xlink:href=\"#DejaVuSans-105\"/>\n",
       "      <use x=\"125.195312\" xlink:href=\"#DejaVuSans-110\"/>\n",
       "      <use x=\"188.574219\" xlink:href=\"#DejaVuSans-61\"/>\n",
       "      <use x=\"272.363281\" xlink:href=\"#DejaVuSans-48\"/>\n",
       "      <use x=\"335.986328\" xlink:href=\"#DejaVuSans-46\"/>\n",
       "      <use x=\"367.773438\" xlink:href=\"#DejaVuSans-52\"/>\n",
       "      <use x=\"431.396484\" xlink:href=\"#DejaVuSans-50\"/>\n",
       "     </g>\n",
       "    </g>\n",
       "    <g id=\"line2d_22\">\n",
       "     <path d=\"M 249.235937 34.976562 \n",
       "L 269.235937 34.976562 \n",
       "\" style=\"fill:none;stroke:#008000;stroke-linecap:square;stroke-width:1.5;\"/>\n",
       "    </g>\n",
       "    <g id=\"line2d_23\"/>\n",
       "    <g id=\"text_20\">\n",
       "     <!-- max=80.0 -->\n",
       "     <g transform=\"translate(277.235937 38.476562)scale(0.1 -0.1)\">\n",
       "      <defs>\n",
       "       <path d=\"M 34.28125 27.484375 \n",
       "Q 23.390625 27.484375 19.1875 25 \n",
       "Q 14.984375 22.515625 14.984375 16.5 \n",
       "Q 14.984375 11.71875 18.140625 8.90625 \n",
       "Q 21.296875 6.109375 26.703125 6.109375 \n",
       "Q 34.1875 6.109375 38.703125 11.40625 \n",
       "Q 43.21875 16.703125 43.21875 25.484375 \n",
       "L 43.21875 27.484375 \n",
       "z\n",
       "M 52.203125 31.203125 \n",
       "L 52.203125 0 \n",
       "L 43.21875 0 \n",
       "L 43.21875 8.296875 \n",
       "Q 40.140625 3.328125 35.546875 0.953125 \n",
       "Q 30.953125 -1.421875 24.3125 -1.421875 \n",
       "Q 15.921875 -1.421875 10.953125 3.296875 \n",
       "Q 6 8.015625 6 15.921875 \n",
       "Q 6 25.140625 12.171875 29.828125 \n",
       "Q 18.359375 34.515625 30.609375 34.515625 \n",
       "L 43.21875 34.515625 \n",
       "L 43.21875 35.40625 \n",
       "Q 43.21875 41.609375 39.140625 45 \n",
       "Q 35.0625 48.390625 27.6875 48.390625 \n",
       "Q 23 48.390625 18.546875 47.265625 \n",
       "Q 14.109375 46.140625 10.015625 43.890625 \n",
       "L 10.015625 52.203125 \n",
       "Q 14.9375 54.109375 19.578125 55.046875 \n",
       "Q 24.21875 56 28.609375 56 \n",
       "Q 40.484375 56 46.34375 49.84375 \n",
       "Q 52.203125 43.703125 52.203125 31.203125 \n",
       "z\n",
       "\" id=\"DejaVuSans-97\"/>\n",
       "       <path d=\"M 54.890625 54.6875 \n",
       "L 35.109375 28.078125 \n",
       "L 55.90625 0 \n",
       "L 45.3125 0 \n",
       "L 29.390625 21.484375 \n",
       "L 13.484375 0 \n",
       "L 2.875 0 \n",
       "L 24.125 28.609375 \n",
       "L 4.6875 54.6875 \n",
       "L 15.28125 54.6875 \n",
       "L 29.78125 35.203125 \n",
       "L 44.28125 54.6875 \n",
       "z\n",
       "\" id=\"DejaVuSans-120\"/>\n",
       "      </defs>\n",
       "      <use xlink:href=\"#DejaVuSans-109\"/>\n",
       "      <use x=\"97.412109\" xlink:href=\"#DejaVuSans-97\"/>\n",
       "      <use x=\"158.691406\" xlink:href=\"#DejaVuSans-120\"/>\n",
       "      <use x=\"217.871094\" xlink:href=\"#DejaVuSans-61\"/>\n",
       "      <use x=\"301.660156\" xlink:href=\"#DejaVuSans-56\"/>\n",
       "      <use x=\"365.283203\" xlink:href=\"#DejaVuSans-48\"/>\n",
       "      <use x=\"428.90625\" xlink:href=\"#DejaVuSans-46\"/>\n",
       "      <use x=\"460.693359\" xlink:href=\"#DejaVuSans-48\"/>\n",
       "     </g>\n",
       "    </g>\n",
       "    <g id=\"line2d_24\">\n",
       "     <path d=\"M 249.235937 49.654687 \n",
       "L 269.235937 49.654687 \n",
       "\" style=\"fill:none;stroke:#0000ff;stroke-linecap:square;stroke-width:1.5;\"/>\n",
       "    </g>\n",
       "    <g id=\"line2d_25\"/>\n",
       "    <g id=\"text_21\">\n",
       "     <!-- mean=29.7 -->\n",
       "     <g transform=\"translate(277.235937 53.154687)scale(0.1 -0.1)\">\n",
       "      <defs>\n",
       "       <path d=\"M 10.984375 1.515625 \n",
       "L 10.984375 10.5 \n",
       "Q 14.703125 8.734375 18.5 7.8125 \n",
       "Q 22.3125 6.890625 25.984375 6.890625 \n",
       "Q 35.75 6.890625 40.890625 13.453125 \n",
       "Q 46.046875 20.015625 46.78125 33.40625 \n",
       "Q 43.953125 29.203125 39.59375 26.953125 \n",
       "Q 35.25 24.703125 29.984375 24.703125 \n",
       "Q 19.046875 24.703125 12.671875 31.3125 \n",
       "Q 6.296875 37.9375 6.296875 49.421875 \n",
       "Q 6.296875 60.640625 12.9375 67.421875 \n",
       "Q 19.578125 74.21875 30.609375 74.21875 \n",
       "Q 43.265625 74.21875 49.921875 64.515625 \n",
       "Q 56.59375 54.828125 56.59375 36.375 \n",
       "Q 56.59375 19.140625 48.40625 8.859375 \n",
       "Q 40.234375 -1.421875 26.421875 -1.421875 \n",
       "Q 22.703125 -1.421875 18.890625 -0.6875 \n",
       "Q 15.09375 0.046875 10.984375 1.515625 \n",
       "z\n",
       "M 30.609375 32.421875 \n",
       "Q 37.25 32.421875 41.125 36.953125 \n",
       "Q 45.015625 41.5 45.015625 49.421875 \n",
       "Q 45.015625 57.28125 41.125 61.84375 \n",
       "Q 37.25 66.40625 30.609375 66.40625 \n",
       "Q 23.96875 66.40625 20.09375 61.84375 \n",
       "Q 16.21875 57.28125 16.21875 49.421875 \n",
       "Q 16.21875 41.5 20.09375 36.953125 \n",
       "Q 23.96875 32.421875 30.609375 32.421875 \n",
       "z\n",
       "\" id=\"DejaVuSans-57\"/>\n",
       "      </defs>\n",
       "      <use xlink:href=\"#DejaVuSans-109\"/>\n",
       "      <use x=\"97.412109\" xlink:href=\"#DejaVuSans-101\"/>\n",
       "      <use x=\"158.935547\" xlink:href=\"#DejaVuSans-97\"/>\n",
       "      <use x=\"220.214844\" xlink:href=\"#DejaVuSans-110\"/>\n",
       "      <use x=\"283.59375\" xlink:href=\"#DejaVuSans-61\"/>\n",
       "      <use x=\"367.382812\" xlink:href=\"#DejaVuSans-50\"/>\n",
       "      <use x=\"431.005859\" xlink:href=\"#DejaVuSans-57\"/>\n",
       "      <use x=\"494.628906\" xlink:href=\"#DejaVuSans-46\"/>\n",
       "      <use x=\"526.416016\" xlink:href=\"#DejaVuSans-55\"/>\n",
       "     </g>\n",
       "    </g>\n",
       "   </g>\n",
       "  </g>\n",
       " </g>\n",
       " <defs>\n",
       "  <clipPath id=\"p0256583f50\">\n",
       "   <rect height=\"307.4\" width=\"298.275\" x=\"46.965625\" y=\"7.2\"/>\n",
       "  </clipPath>\n",
       " </defs>\n",
       "</svg>\n"
      ],
      "text/plain": [
       "<Figure size 360x360 with 1 Axes>"
      ]
     },
     "metadata": {
      "needs_background": "light"
     },
     "output_type": "display_data"
    }
   ],
   "source": [
    "min_ = dataset['Age'].min()\n",
    "max_ = dataset['Age'].max()\n",
    "mean_ = round(dataset['Age'].mean(), 2)\n",
    "sns.displot(data=dataset, x='Age', binwidth=5, stat='count', kind='hist')\n",
    "plt.axvline(min_, color='r', label=f'min={min_}')\n",
    "plt.axvline(max_, color='g', label=f'max={max_}')\n",
    "plt.axvline(mean_, color='b', label=f'mean={mean_}')\n",
    "plt.legend()\n",
    "plt.show()"
   ]
  },
  {
   "cell_type": "markdown",
   "metadata": {},
   "source": [
    "**Task 4** (0.5 points) <br/>\n",
    "Visualize age distribution for survived and not survived passengers separately and calculate the mean age for each class. Are they different? Make conclusions about what you see on the plot"
   ]
  },
  {
   "cell_type": "markdown",
   "metadata": {},
   "source": [
    "Средний возраст в группе выживших пассажиров и в группе погибших пассажиров приблизительно одинаковый. <br/>\n",
    "Выводы:\n",
    "\n",
    "    - Распределение возраста в группе выживших пассажиров довольно симметричено относительно среднего значения, если не учитывать значения от 0 до 5.\n",
    "    - В группе выживших пассажиров самый частый возраст 20-40 лет\n",
    "    - Распределение возраста в группе погибших пассажиров смещено в сторону значений меньших чем среднее."
   ]
  },
  {
   "cell_type": "code",
   "execution_count": 23,
   "metadata": {},
   "outputs": [
    {
     "name": "stdout",
     "output_type": "stream",
     "text": [
      "Survived == True\n"
     ]
    },
    {
     "data": {
      "image/png": "[encoded data removed]",
      "text/plain": [
       "<Figure size 360x360 with 1 Axes>"
      ]
     },
     "metadata": {
      "needs_background": "light"
     },
     "output_type": "display_data"
    },
    {
     "name": "stdout",
     "output_type": "stream",
     "text": [
      "Survived == False\n"
     ]
    },
    {
     "data": {
      "image/png": "[encoded data removed]",
      "text/plain": [
       "<Figure size 360x360 with 1 Axes>"
      ]
     },
     "metadata": {
      "needs_background": "light"
     },
     "output_type": "display_data"
    }
   ],
   "source": [
    "for is_survived in [True, False]:\n",
    "    print('Survived ==', is_survived)\n",
    "    ds = dataset[dataset['Survived'] == is_survived]\n",
    "    ax = sns.displot(data=ds, x='Age', kind='hist')\n",
    "    mean_ = ds['Age'].mean()\n",
    "    plt.axvline(mean_, color='r', label=round(mean_, 2))\n",
    "    plt.legend()\n",
    "    plt.show()"
   ]
  },
  {
   "cell_type": "markdown",
   "metadata": {},
   "source": [
    "**Task 5** (0.5 points) <br/>\n",
    "Is there correlation between the port of embarkation and the ticket price? Calculate mean price for each port and visualize prize distribution for each port. Make conclusions about what you see on the plot\n",
    "\n",
    "Hint: you could make one or several plot types i.e.  box, violine, pair, histogram (see additional notebooks for Seminar 1 \"Visualization with Seaborn\"). main point here is to **choose** plots wisely and **make meaningful conclusions**\n",
    "\n"
   ]
  },
  {
   "cell_type": "markdown",
   "metadata": {},
   "source": [
    "Разделим всех пассажиров на группы по месту посадки (группы **S**, **C** и **Q**). Для каждой группы построим гистограмму для стоимости билета."
   ]
  },
  {
   "cell_type": "code",
   "execution_count": 67,
   "metadata": {},
   "outputs": [
    {
     "data": {
      "image/png": "[encoded data removed]",
      "text/plain": [
       "<Figure size 418.25x360 with 1 Axes>"
      ]
     },
     "metadata": {
      "needs_background": "light"
     },
     "output_type": "display_data"
    }
   ],
   "source": [
    "ds = dataset\n",
    "palette=sns.color_palette()[:len(all_ports)]\n",
    "\n",
    "sns.displot(data=ds, x='Fare', hue='Embarked', palette=palette)\n",
    "for index, port in enumerate(all_ports):\n",
    "    mean_=ds[ds['Embarked'] == port]['Fare'].mean()\n",
    "    plt.axvline(mean_, color=palette[index], label=f'mean={round(mean_, 2)}')\n",
    "plt.legend()\n",
    "plt.show()"
   ]
  },
  {
   "cell_type": "markdown",
   "metadata": {},
   "source": [
    "Исходя из полученного графика можно сделать вывод о корреляции порта посадки и стоимости билета, т.к. разница в средних значениях довольно существенна. Также по этому графику видно наличие сильных выбросов в группах. Построим боксплоты с квантилями $q_{.90}$, $q_{.95}$, $q_{.99}$, чтобы определить пороги для отбрасывания выбросов "
   ]
  },
  {
   "cell_type": "code",
   "execution_count": 39,
   "metadata": {},
   "outputs": [
    {
     "name": "stdout",
     "output_type": "stream",
     "text": [
      "port:  S\n"
     ]
    },
    {
     "data": {
      "image/png": "[encoded data removed]",
      "text/plain": [
       "<Figure size 432x288 with 1 Axes>"
      ]
     },
     "metadata": {
      "needs_background": "light"
     },
     "output_type": "display_data"
    },
    {
     "name": "stdout",
     "output_type": "stream",
     "text": [
      "port:  C\n"
     ]
    },
    {
     "data": {
      "image/png": "[encoded data removed]",
      "text/plain": [
       "<Figure size 432x288 with 1 Axes>"
      ]
     },
     "metadata": {
      "needs_background": "light"
     },
     "output_type": "display_data"
    },
    {
     "name": "stdout",
     "output_type": "stream",
     "text": [
      "port:  Q\n"
     ]
    },
    {
     "data": {
      "image/png": "[encoded data removed]",
      "text/plain": [
       "<Figure size 432x288 with 1 Axes>"
      ]
     },
     "metadata": {
      "needs_background": "light"
     },
     "output_type": "display_data"
    }
   ],
   "source": [
    "ds = dataset\n",
    "palette=sns.color_palette()[:len(all_ports)]\n",
    "\n",
    "for i, port in enumerate(all_ports):\n",
    "    print('port: ', port)\n",
    "    one_port_ds = ds[ds['Embarked'] == port]\n",
    "    sns.boxplot(data=one_port_ds, y='Fare', color=palette[i])\n",
    "    plt.axhline(one_port_ds['Fare'].quantile(.90), color='r', linestyle=\"--\")\n",
    "    plt.axhline(one_port_ds['Fare'].quantile(.95), color='r', linestyle=\"--\")\n",
    "    plt.axhline(one_port_ds['Fare'].quantile(.99), color='r', linestyle=\"--\")\n",
    "    plt.show()"
   ]
  },
  {
   "cell_type": "markdown",
   "metadata": {},
   "source": [
    "Выберем следующие пороги для групп **S**, **C** и **Q** соответственно: $q_{.95}$, $q_{.90}$ и $q_{.90}$"
   ]
  },
  {
   "cell_type": "code",
   "execution_count": 41,
   "metadata": {},
   "outputs": [],
   "source": [
    "thresholds = [.95, .90, .90]\n",
    "to_drop = False\n",
    "for index, port in enumerate(all_ports):\n",
    "    to_drop |= (ds['Embarked'] == port) & (ds['Fare'] >= ds['Fare'].quantile(q=thresholds[index]))\n",
    "new_ds = ds[~to_drop]"
   ]
  },
  {
   "cell_type": "markdown",
   "metadata": {},
   "source": [
    "После очистки ушли не супер критичные примерно 8% данных"
   ]
  },
  {
   "cell_type": "code",
   "execution_count": 48,
   "metadata": {},
   "outputs": [
    {
     "data": {
      "text/plain": [
       "0.92"
      ]
     },
     "execution_count": 48,
     "metadata": {},
     "output_type": "execute_result"
    }
   ],
   "source": [
    "round(new_ds.shape[0] / dataset.shape[0], 2)"
   ]
  },
  {
   "cell_type": "markdown",
   "metadata": {},
   "source": [
    "Заново строим гистограмму, только теперь для очищенного датасета"
   ]
  },
  {
   "cell_type": "code",
   "execution_count": 49,
   "metadata": {},
   "outputs": [
    {
     "data": {
      "image/png": "[encoded data removed]",
      "text/plain": [
       "<Figure size 418.25x360 with 1 Axes>"
      ]
     },
     "metadata": {
      "needs_background": "light"
     },
     "output_type": "display_data"
    }
   ],
   "source": [
    "ds = new_ds\n",
    "palette=sns.color_palette()[:len(all_ports)]\n",
    "\n",
    "sns.displot(data=ds, x='Fare', hue='Embarked', palette=palette)\n",
    "for index, port in enumerate(all_ports):\n",
    "    mean_=ds[ds['Embarked'] == port]['Fare'].mean()\n",
    "    plt.axvline(mean_, color=palette[index], label=f'mean={round(mean_, 2)}')\n",
    "plt.legend()\n",
    "plt.show()"
   ]
  },
  {
   "cell_type": "markdown",
   "metadata": {},
   "source": [
    "Разница в группах __S__ и __C__ получилась не очень значительная. При этом среднее в группе __Q__ намного меньше чем в двух других группах. Поэтому корреляция между портом посадки и стоимостью билета имеет место быть. Чтобы сказать более точно нужно применить более строгии методы, чем построение графика."
   ]
  },
  {
   "cell_type": "markdown",
   "metadata": {},
   "source": [
    "**Task 6** (0.5 points) <br/>\n",
    "The same question as in task 5 about correlation between *pclass* and *ticket priсe*."
   ]
  },
  {
   "cell_type": "markdown",
   "metadata": {},
   "source": [
    "Делаю все то же самое, что и в предыдущем задании:"
   ]
  },
  {
   "cell_type": "code",
   "execution_count": 65,
   "metadata": {},
   "outputs": [
    {
     "name": "stdout",
     "output_type": "stream",
     "text": [
      "class:  1\n"
     ]
    },
    {
     "data": {
      "image/png": "[encoded data removed]",
      "text/plain": [
       "<Figure size 432x288 with 1 Axes>"
      ]
     },
     "metadata": {
      "needs_background": "light"
     },
     "output_type": "display_data"
    },
    {
     "name": "stdout",
     "output_type": "stream",
     "text": [
      "class:  2\n"
     ]
    },
    {
     "data": {
      "image/png": "[encoded data removed]",
      "text/plain": [
       "<Figure size 432x288 with 1 Axes>"
      ]
     },
     "metadata": {
      "needs_background": "light"
     },
     "output_type": "display_data"
    },
    {
     "name": "stdout",
     "output_type": "stream",
     "text": [
      "class:  3\n"
     ]
    },
    {
     "data": {
      "image/png": "[encoded data removed]",
      "text/plain": [
       "<Figure size 432x288 with 1 Axes>"
      ]
     },
     "metadata": {
      "needs_background": "light"
     },
     "output_type": "display_data"
    },
    {
     "data": {
      "image/png": "[encoded data removed]",
      "text/plain": [
       "<Figure size 402.375x360 with 1 Axes>"
      ]
     },
     "metadata": {
      "needs_background": "light"
     },
     "output_type": "display_data"
    }
   ],
   "source": [
    "ds = dataset\n",
    "\n",
    "all_pclasses = ds['Pclass'].dropna().unique()\n",
    "all_pclasses.sort()\n",
    "\n",
    "for pclass in all_pclasses:\n",
    "    print('class: ', pclass)\n",
    "    one_pclass_ds = ds[ds['Pclass'] == pclass]\n",
    "    sns.boxplot(data=one_pclass_ds, y='Fare')\n",
    "    plt.axhline(one_pclass_ds['Fare'].quantile(.90), color='r', linestyle='--')\n",
    "    plt.axhline(one_pclass_ds['Fare'].quantile(.95), color='r', linestyle='--')\n",
    "    plt.axhline(one_pclass_ds['Fare'].quantile(.99), color='r', linestyle='--')\n",
    "    plt.show()\n",
    "\n",
    "thresholds = [.90, .90, .90]\n",
    "to_drop = False\n",
    "for index, pclass in enumerate(all_pclasses):\n",
    "    to_drop |= (ds['Pclass'] == pclass) & (ds['Fare'] >= ds['Fare'].quantile(thresholds[index]))\n",
    "new_ds = ds[~to_drop]\n",
    "\n",
    "palette=sns.color_palette()[:len(all_pclasses)]\n",
    "sns.displot(data=new_ds, x='Fare', hue='Pclass', palette=palette)\n",
    "for index, pclass in enumerate(all_pclasses):\n",
    "    mean_=new_ds[new_ds['Pclass'] == pclass]['Fare'].mean()\n",
    "    plt.axvline(mean_, color=palette[index], label=round(mean_, 2))\n",
    "plt.legend()\n",
    "plt.show()"
   ]
  },
  {
   "cell_type": "markdown",
   "metadata": {},
   "source": [
    "Исходя из полученных средних значений зависимость стоимости билета от класса прослеживается довольно явно. Но, опять же для вывода о корреляции нужно что-то большее чем графики "
   ]
  }
 ],
 "metadata": {
  "kernelspec": {
   "display_name": "Python 3",
   "language": "python",
   "name": "python3"
  },
  "language_info": {
   "codemirror_mode": {
    "name": "ipython",
    "version": 3
   },
   "file_extension": ".py",
   "mimetype": "text/x-python",
   "name": "python",
   "nbconvert_exporter": "python",
   "pygments_lexer": "ipython3",
   "version": "3.8.5"
  }
 },
 "nbformat": 4,
 "nbformat_minor": 4
}
