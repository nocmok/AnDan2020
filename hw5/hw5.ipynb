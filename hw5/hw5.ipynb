{
 "cells": [
  {
   "cell_type": "markdown",
   "metadata": {},
   "source": [
    "# HSE 2021: Mathematical Methods for Data Analysis\n",
    "\n",
    "## Homework 5\n",
    "\n",
    "**Warning 1**: You have 3 weeks for this assignemnt.  **it is better to start early (!)**\n",
    "\n",
    "**Warning 2**: it is critical to describe and explain what you are doing and why, use markdown cells"
   ]
  },
  {
   "cell_type": "markdown",
   "metadata": {},
   "source": [
    "### Contents\n",
    "\n",
    "#### PCA, t-SNE – 1.25 points\n",
    "* [Task 1](#task1) (0.5 points)\n",
    "* [Task 2](#task2) (0.25 points)\n",
    "* [Task 3](#task3) (0.25 points)\n",
    "* [Task 4](#task4) (0.25 points)\n",
    "\n",
    "#### Clustering – 4.25 points\n",
    "* [Task 5](#task5) (1.5 points)\n",
    "* [Task 6](#task6) (1.25 points)\n",
    "* [Task 7](#task7) (0.5 points)\n",
    "* [Task 8](#task8) (1 point)\n",
    "\n",
    "#### EM-algorithm – 4.5 points\n",
    "\n",
    "* [Task 9](#task9) (1 point)\n",
    "* [Task 10](#task10) (1 point)\n",
    "* [Task 11](#task11) (1.25 points)\n",
    "* [Task 12](#task12) (1.25 points)"
   ]
  },
  {
   "cell_type": "markdown",
   "metadata": {},
   "source": [
    "Download the file `data_Mar_64.txt`."
   ]
  },
  {
   "cell_type": "code",
   "execution_count": null,
   "metadata": {},
   "outputs": [],
   "source": [
    "#!wget https://raw.githubusercontent.com/AKuzina/ml_se/main/hw/hw_5/data_Mar_64.txt"
   ]
  },
  {
   "cell_type": "code",
   "execution_count": 8,
   "metadata": {},
   "outputs": [
    {
     "data": {
      "text/html": [
       "<div>\n",
       "<style scoped>\n",
       "    .dataframe tbody tr th:only-of-type {\n",
       "        vertical-align: middle;\n",
       "    }\n",
       "\n",
       "    .dataframe tbody tr th {\n",
       "        vertical-align: top;\n",
       "    }\n",
       "\n",
       "    .dataframe thead th {\n",
       "        text-align: right;\n",
       "    }\n",
       "</style>\n",
       "<table border=\"1\" class=\"dataframe\">\n",
       "  <thead>\n",
       "    <tr style=\"text-align: right;\">\n",
       "      <th></th>\n",
       "      <th>0</th>\n",
       "      <th>1</th>\n",
       "      <th>2</th>\n",
       "      <th>3</th>\n",
       "      <th>4</th>\n",
       "      <th>5</th>\n",
       "      <th>6</th>\n",
       "      <th>7</th>\n",
       "      <th>8</th>\n",
       "      <th>9</th>\n",
       "      <th>...</th>\n",
       "      <th>55</th>\n",
       "      <th>56</th>\n",
       "      <th>57</th>\n",
       "      <th>58</th>\n",
       "      <th>59</th>\n",
       "      <th>60</th>\n",
       "      <th>61</th>\n",
       "      <th>62</th>\n",
       "      <th>63</th>\n",
       "      <th>64</th>\n",
       "    </tr>\n",
       "  </thead>\n",
       "  <tbody>\n",
       "    <tr>\n",
       "      <th>0</th>\n",
       "      <td>Acer Campestre</td>\n",
       "      <td>0.003906</td>\n",
       "      <td>0.003906</td>\n",
       "      <td>0.027344</td>\n",
       "      <td>0.033203</td>\n",
       "      <td>0.007812</td>\n",
       "      <td>0.017578</td>\n",
       "      <td>0.023438</td>\n",
       "      <td>0.005859</td>\n",
       "      <td>0.000000</td>\n",
       "      <td>...</td>\n",
       "      <td>0.011719</td>\n",
       "      <td>0.000000</td>\n",
       "      <td>0.005859</td>\n",
       "      <td>0.035156</td>\n",
       "      <td>0.027344</td>\n",
       "      <td>0.033203</td>\n",
       "      <td>0.001953</td>\n",
       "      <td>0.000000</td>\n",
       "      <td>0.017578</td>\n",
       "      <td>0.0</td>\n",
       "    </tr>\n",
       "    <tr>\n",
       "      <th>1</th>\n",
       "      <td>Acer Campestre</td>\n",
       "      <td>0.005859</td>\n",
       "      <td>0.013672</td>\n",
       "      <td>0.027344</td>\n",
       "      <td>0.025391</td>\n",
       "      <td>0.013672</td>\n",
       "      <td>0.029297</td>\n",
       "      <td>0.019531</td>\n",
       "      <td>0.000000</td>\n",
       "      <td>0.001953</td>\n",
       "      <td>...</td>\n",
       "      <td>0.017578</td>\n",
       "      <td>0.000000</td>\n",
       "      <td>0.021484</td>\n",
       "      <td>0.017578</td>\n",
       "      <td>0.046875</td>\n",
       "      <td>0.005859</td>\n",
       "      <td>0.003906</td>\n",
       "      <td>0.003906</td>\n",
       "      <td>0.046875</td>\n",
       "      <td>0.0</td>\n",
       "    </tr>\n",
       "    <tr>\n",
       "      <th>2</th>\n",
       "      <td>Acer Campestre</td>\n",
       "      <td>0.011719</td>\n",
       "      <td>0.001953</td>\n",
       "      <td>0.027344</td>\n",
       "      <td>0.044922</td>\n",
       "      <td>0.017578</td>\n",
       "      <td>0.042969</td>\n",
       "      <td>0.023438</td>\n",
       "      <td>0.000000</td>\n",
       "      <td>0.003906</td>\n",
       "      <td>...</td>\n",
       "      <td>0.035156</td>\n",
       "      <td>0.000000</td>\n",
       "      <td>0.015625</td>\n",
       "      <td>0.021484</td>\n",
       "      <td>0.056641</td>\n",
       "      <td>0.009766</td>\n",
       "      <td>0.003906</td>\n",
       "      <td>0.000000</td>\n",
       "      <td>0.015625</td>\n",
       "      <td>0.0</td>\n",
       "    </tr>\n",
       "    <tr>\n",
       "      <th>3</th>\n",
       "      <td>Acer Campestre</td>\n",
       "      <td>0.013672</td>\n",
       "      <td>0.011719</td>\n",
       "      <td>0.037109</td>\n",
       "      <td>0.017578</td>\n",
       "      <td>0.011719</td>\n",
       "      <td>0.087891</td>\n",
       "      <td>0.023438</td>\n",
       "      <td>0.000000</td>\n",
       "      <td>0.000000</td>\n",
       "      <td>...</td>\n",
       "      <td>0.015625</td>\n",
       "      <td>0.001953</td>\n",
       "      <td>0.021484</td>\n",
       "      <td>0.029297</td>\n",
       "      <td>0.033203</td>\n",
       "      <td>0.003906</td>\n",
       "      <td>0.000000</td>\n",
       "      <td>0.001953</td>\n",
       "      <td>0.027344</td>\n",
       "      <td>0.0</td>\n",
       "    </tr>\n",
       "    <tr>\n",
       "      <th>4</th>\n",
       "      <td>Acer Campestre</td>\n",
       "      <td>0.007812</td>\n",
       "      <td>0.009766</td>\n",
       "      <td>0.027344</td>\n",
       "      <td>0.025391</td>\n",
       "      <td>0.001953</td>\n",
       "      <td>0.005859</td>\n",
       "      <td>0.015625</td>\n",
       "      <td>0.000000</td>\n",
       "      <td>0.005859</td>\n",
       "      <td>...</td>\n",
       "      <td>0.023438</td>\n",
       "      <td>0.001953</td>\n",
       "      <td>0.021484</td>\n",
       "      <td>0.048828</td>\n",
       "      <td>0.056641</td>\n",
       "      <td>0.019531</td>\n",
       "      <td>0.000000</td>\n",
       "      <td>0.000000</td>\n",
       "      <td>0.013672</td>\n",
       "      <td>0.0</td>\n",
       "    </tr>\n",
       "  </tbody>\n",
       "</table>\n",
       "<p>5 rows × 65 columns</p>\n",
       "</div>"
      ],
      "text/plain": [
       "               0         1         2         3         4         5         6   \\\n",
       "0  Acer Campestre  0.003906  0.003906  0.027344  0.033203  0.007812  0.017578   \n",
       "1  Acer Campestre  0.005859  0.013672  0.027344  0.025391  0.013672  0.029297   \n",
       "2  Acer Campestre  0.011719  0.001953  0.027344  0.044922  0.017578  0.042969   \n",
       "3  Acer Campestre  0.013672  0.011719  0.037109  0.017578  0.011719  0.087891   \n",
       "4  Acer Campestre  0.007812  0.009766  0.027344  0.025391  0.001953  0.005859   \n",
       "\n",
       "         7         8         9   ...        55        56        57        58  \\\n",
       "0  0.023438  0.005859  0.000000  ...  0.011719  0.000000  0.005859  0.035156   \n",
       "1  0.019531  0.000000  0.001953  ...  0.017578  0.000000  0.021484  0.017578   \n",
       "2  0.023438  0.000000  0.003906  ...  0.035156  0.000000  0.015625  0.021484   \n",
       "3  0.023438  0.000000  0.000000  ...  0.015625  0.001953  0.021484  0.029297   \n",
       "4  0.015625  0.000000  0.005859  ...  0.023438  0.001953  0.021484  0.048828   \n",
       "\n",
       "         59        60        61        62        63   64  \n",
       "0  0.027344  0.033203  0.001953  0.000000  0.017578  0.0  \n",
       "1  0.046875  0.005859  0.003906  0.003906  0.046875  0.0  \n",
       "2  0.056641  0.009766  0.003906  0.000000  0.015625  0.0  \n",
       "3  0.033203  0.003906  0.000000  0.001953  0.027344  0.0  \n",
       "4  0.056641  0.019531  0.000000  0.000000  0.013672  0.0  \n",
       "\n",
       "[5 rows x 65 columns]"
      ]
     },
     "execution_count": 8,
     "metadata": {},
     "output_type": "execute_result"
    }
   ],
   "source": [
    "import pandas as pd\n",
    "data = pd.read_csv('data_Mar_64.txt', header=None)\n",
    "data.head()"
   ]
  },
  {
   "cell_type": "markdown",
   "metadata": {},
   "source": [
    "This [dataset](https://archive.ics.uci.edu/ml/datasets/One-hundred+plant+species+leaves+data+set) consists of work carried out by James Cope, Charles Mallah, and James Orwell, Kingston University London. The Leaves were collected in the Royal Botanic Gardens, Kew, UK. \n",
    "\n",
    "For Each feature, a 64 element vector is given per sample of leaf. One file for each 64-element feature vectors. **Each row begins with the class label**. Here is the plant leaf **classification task**. The remaining 64 elements is the feature vector."
   ]
  },
  {
   "cell_type": "code",
   "execution_count": 9,
   "metadata": {},
   "outputs": [
    {
     "data": {
      "text/plain": [
       "(1600, 65)"
      ]
     },
     "execution_count": 9,
     "metadata": {},
     "output_type": "execute_result"
    }
   ],
   "source": [
    "#Sixteen samples of leaf each of one-hundred plant species\n",
    "data.shape"
   ]
  },
  {
   "cell_type": "markdown",
   "metadata": {},
   "source": [
    "The first column is the target, put it in a separate variable."
   ]
  },
  {
   "cell_type": "code",
   "execution_count": 10,
   "metadata": {},
   "outputs": [],
   "source": [
    "import numpy as np\n",
    "X, y_name = np.array(data.iloc[:, 1:]), data.iloc[:, 0]"
   ]
  },
  {
   "cell_type": "markdown",
   "metadata": {},
   "source": [
    "**Task 1. <a id=\"task1\"></a> (0.5 points)** Let's do the following pipeline (detailed instructions will be in next cells)\n",
    "\n",
    "- Encode your textual target.\n",
    "- Split your data into train and test. Train a simple classification model without any improvements and calculate metrics.\n",
    "- Then let's look at the low dimensional representations of the features and look at the classes there. We will use linear method PCA and non-linear t-SNE (t-distributed stochastic neighbor embedding). In this task we learn how to visualize data at the low dimensional space and check whether the obtained points are separable or not."
   ]
  },
  {
   "cell_type": "markdown",
   "metadata": {},
   "source": [
    "The target variable takes a text value. Use the `LabelEncoder` from `sklearn` to encode the text variable `y_name` and save the resulting values to the variable `y`."
   ]
  },
  {
   "cell_type": "code",
   "execution_count": null,
   "metadata": {},
   "outputs": [],
   "source": [
    "## your code here"
   ]
  },
  {
   "cell_type": "markdown",
   "metadata": {},
   "source": [
    "Split your data into **train** and **test**."
   ]
  },
  {
   "cell_type": "code",
   "execution_count": null,
   "metadata": {},
   "outputs": [],
   "source": [
    "## your code here"
   ]
  },
  {
   "cell_type": "markdown",
   "metadata": {},
   "source": [
    "Train a simple classifier on your data to predict target. Calculate accuracy, F-score."
   ]
  },
  {
   "cell_type": "code",
   "execution_count": null,
   "metadata": {},
   "outputs": [],
   "source": [
    "## your code here"
   ]
  },
  {
   "cell_type": "markdown",
   "metadata": {},
   "source": [
    "Let's try Principal Component Analysis. Use the `PCA` method from `sklearn.decomposiion` to reduce the dimension of the feature space to two. Fix `random_state=0`"
   ]
  },
  {
   "cell_type": "code",
   "execution_count": null,
   "metadata": {},
   "outputs": [],
   "source": [
    "## your code here"
   ]
  },
  {
   "cell_type": "markdown",
   "metadata": {},
   "source": [
    "Select objects that match values from 0 to 14 of the target variable `y`. Draw the selected objects in a two-dimensional feature space using the `scatter` method from `matplotlib.pyplot`. To display objects of different classes in different colors, pass `c = y[y<15]` to the `scatter` method."
   ]
  },
  {
   "cell_type": "code",
   "execution_count": 11,
   "metadata": {},
   "outputs": [],
   "source": [
    "import matplotlib.pyplot as plt\n",
    "%matplotlib inline\n",
    "\n",
    "## your code here"
   ]
  },
  {
   "cell_type": "markdown",
   "metadata": {},
   "source": [
    "Do the same procedure as in two previous cells, but now for the `TSNE` method from `sklearn.manifold`."
   ]
  },
  {
   "cell_type": "code",
   "execution_count": null,
   "metadata": {},
   "outputs": [],
   "source": [
    "## your code here"
   ]
  },
  {
   "cell_type": "markdown",
   "metadata": {},
   "source": [
    "**Task 2. <a id=\"task2\"></a> (0.25 points)** Specify the coordinates of the object with index 0 (`X[0]`) after applying the TSNE method. Round the numbers to hundredths."
   ]
  },
  {
   "cell_type": "code",
   "execution_count": null,
   "metadata": {},
   "outputs": [],
   "source": [
    "## your code here\n",
    "\n",
    "cords_1_tsne = ..."
   ]
  },
  {
   "cell_type": "markdown",
   "metadata": {},
   "source": [
    "**Task 3. <a id=\"task3\"></a> (0.25 points)** Specify the coordinates of the object with index 0 (`X[0]`) after applying the PCA method. Round the numbers to hundredths."
   ]
  },
  {
   "cell_type": "code",
   "execution_count": null,
   "metadata": {},
   "outputs": [],
   "source": [
    "## your code here\n",
    "\n",
    "cords_1_pca = ..."
   ]
  },
  {
   "cell_type": "markdown",
   "metadata": {},
   "source": [
    "**Task 4. <a id=\"task4\"></a> (0.25 points)** What conclusions can be drawn from the obtained images? Choose the right one(s).\n",
    "\n",
    "1) Using the principal components method, it was possible to visualize objects on a plane and objects of different classes are visually separable\n",
    "\n",
    "2) Using the TSNE method, it was possible to visualize objects on a plane and objects of different classes are visually separable\n",
    "\n",
    "3) Using the TSNE and PCA methods, it was possible to visualize objects on a plane and objects of different classes are visually separable\n",
    "\n",
    "4) Using the TSNE and PCA methods, it was possible to visualize objects on a plane and objects of different classes are not visually separable"
   ]
  },
  {
   "cell_type": "markdown",
   "metadata": {},
   "source": [
    "##your answer here\n"
   ]
  },
  {
   "cell_type": "markdown",
   "metadata": {},
   "source": [
    "## K_means"
   ]
  },
  {
   "cell_type": "markdown",
   "metadata": {},
   "source": [
    "**Task 5. <a id=\"task5\"></a> (1.5 points)** Implement the MyKMeans class.\n",
    "\n",
    "The class must match the template shown below. Please, add code where needed. Some guidelines are the following:\n",
    "\n",
    "The class constructor is passed to:\n",
    "- n_clusters - the number of clusters that the data will be split into\n",
    "\n",
    "- n_iters - the maximum number of iterations that can be done in this algorithm\n",
    "\n",
    "Realize `update_centers` and `update_labels` methods.\n",
    "\n",
    "\n",
    "In the `fit` method:\n",
    "\n",
    "- Write sequential call of `self_centers` and `self_labels`.\n",
    "\n",
    "then in the loop by the number of iterations you need to implement:\n",
    "- calculate the nearest cluster center for each object\n",
    "- recalculate the center of each cluster (the average of each of the coordinates of all objects assigned to this cluster)\n",
    "put the calculated new cluster centers in the `new_centers` variable\n",
    "\n",
    "In the `predict` method:\n",
    "\n",
    "the nearest cluster centers for `X` objects are calculated"
   ]
  },
  {
   "cell_type": "code",
   "execution_count": 56,
   "metadata": {},
   "outputs": [],
   "source": [
    "from IPython.display import clear_output\n",
    "from sklearn.metrics import pairwise_distances_argmin\n",
    "\n",
    "def plot_clust(X, centers, lables, ax): \n",
    "    ax.scatter(X[:,0], X[:,1], c=lables)\n",
    "    ax.scatter(centers[:,0], centers[:,1], marker='>', color='red')\n",
    "\n",
    "\n",
    "class MyKMeans():\n",
    "    def __init__(self, n_clusters=3, n_iters=100, seed=None):\n",
    "        self.n_clusters = n_clusters\n",
    "        self.labels = None \n",
    "        self.centers = None \n",
    "        self.n_iters = n_iters\n",
    "        self.seed = 0 if seed is None else seed\n",
    "        np.random.seed(self.seed)\n",
    "\n",
    "    def update_centers(self, X):\n",
    "        centers = np.zeros(shape=(self.n_clusters, 2))\n",
    "        for i in range(self.n_clusters):\n",
    "            centers[i] = X[self.labels == i].mean(axis=0)\n",
    "        return centers \n",
    "    \n",
    "    def update_lables(self, X):\n",
    "        return pairwise_distances_argmin(X, self.centers) \n",
    "    \n",
    "    def initial_centers(self, X):\n",
    "        return X[np.random.randint(0, X.shape[0], self.n_clusters)]\n",
    "    \n",
    "    def fit(self, X):\n",
    "        self.centers = self.initial_centers(X)\n",
    "        self.labels = np.zeros(X.shape[0])\n",
    "        \n",
    "        for it in range(self.n_iters):\n",
    "            new_labels = self.update_lables(X)\n",
    "            self.labels = new_labels\n",
    "\n",
    "            new_centers = self.update_centers(X)\n",
    "            if np.allclose(self.centers.flatten(), new_centers.flatten(), atol=1e-1):\n",
    "                self.centers = new_centers\n",
    "                self.labels = new_labels\n",
    "                print('Converge by tolerance centers')\n",
    "\n",
    "                fig, ax = plt.subplots(1,1)\n",
    "                plot_clust(X, new_centers, new_labels, ax)\n",
    "                return 0\n",
    "      \n",
    "            self.centers = new_centers\n",
    "\n",
    "            fig, ax = plt.subplots(1,1)\n",
    "            plot_clust(X, new_centers, new_labels, ax)\n",
    "            plt.pause(0.3);\n",
    "            clear_output(wait=True);\n",
    "\n",
    "        return 1\n",
    "    \n",
    "    def predict(self, X):\n",
    "        labels = self.update_lables(X)\n",
    "        return labels"
   ]
  },
  {
   "cell_type": "markdown",
   "metadata": {},
   "source": [
    "Generating data for clustering"
   ]
  },
  {
   "cell_type": "code",
   "execution_count": 57,
   "metadata": {},
   "outputs": [],
   "source": [
    "from sklearn import datasets\n",
    "n_samples = 1000\n",
    "\n",
    "noisy_blobs = datasets.make_blobs(n_samples=n_samples,\n",
    "                             cluster_std=[1.0, 0.5, 0.5],\n",
    "                             random_state=0)"
   ]
  },
  {
   "cell_type": "code",
   "execution_count": 58,
   "metadata": {},
   "outputs": [],
   "source": [
    "X, y = noisy_blobs"
   ]
  },
  {
   "cell_type": "markdown",
   "metadata": {},
   "source": [
    "**Task 6. <a id=\"task6\"></a> (1.25 points)** \n",
    "\n",
    "6.1 Cluster noisy_blobs objects with `MyKMeans`, use the hyperparameters `n_clusters=3`, `n_iters=100`. Specify the response for the object with index 1."
   ]
  },
  {
   "cell_type": "code",
   "execution_count": 96,
   "metadata": {},
   "outputs": [
    {
     "name": "stdout",
     "output_type": "stream",
     "text": [
      "Converge by tolerance centers\n"
     ]
    },
    {
     "data": {
      "text/plain": [
       "0"
      ]
     },
     "execution_count": 96,
     "metadata": {},
     "output_type": "execute_result"
    },
    {
     "data": {
      "image/png": "[encoded data removed]",
      "text/plain": [
       "<Figure size 432x288 with 1 Axes>"
      ]
     },
     "metadata": {
      "needs_background": "light"
     },
     "output_type": "display_data"
    }
   ],
   "source": [
    "km_model = MyKMeans(n_clusters=3, n_iters=100)\n",
    "km_model.fit(X)"
   ]
  },
  {
   "cell_type": "code",
   "execution_count": 98,
   "metadata": {},
   "outputs": [
    {
     "name": "stdout",
     "output_type": "stream",
     "text": [
      "cluster for the object with index 1: 2\n",
      "cluster center coordinates: [0.964 4.408]\n"
     ]
    }
   ],
   "source": [
    "labels = km_model.predict(X)\n",
    "print(\"cluster for the object with index 1:\", labels[1])\n",
    "print(\"cluster center coordinates:\", np.round(km_model.centers[labels[1]], 3))"
   ]
  },
  {
   "cell_type": "markdown",
   "metadata": {},
   "source": [
    "6.2 Cluster noisy_blobs objects, use the hyperparameters `n_clusters=3`, `n_iters = 5`. Specify the response for the object with index 1."
   ]
  },
  {
   "cell_type": "markdown",
   "metadata": {},
   "source": [
    "На тестовых данных алгоритм сходится за 3 итерации, поэтому вывод абсолютно такой же как и при 100 итерациях"
   ]
  },
  {
   "cell_type": "code",
   "execution_count": 99,
   "metadata": {},
   "outputs": [
    {
     "name": "stdout",
     "output_type": "stream",
     "text": [
      "Converge by tolerance centers\n"
     ]
    },
    {
     "data": {
      "text/plain": [
       "0"
      ]
     },
     "execution_count": 99,
     "metadata": {},
     "output_type": "execute_result"
    },
    {
     "data": {
      "image/png": "[encoded data removed]",
      "text/plain": [
       "<Figure size 432x288 with 1 Axes>"
      ]
     },
     "metadata": {
      "needs_background": "light"
     },
     "output_type": "display_data"
    }
   ],
   "source": [
    "km_model = MyKMeans(n_clusters=3, n_iters=5)\n",
    "km_model.fit(X)"
   ]
  },
  {
   "cell_type": "code",
   "execution_count": 101,
   "metadata": {},
   "outputs": [
    {
     "name": "stdout",
     "output_type": "stream",
     "text": [
      "cluster for the object with index 1: 2\n",
      "cluster center coordinates: [0.964 4.408]\n"
     ]
    }
   ],
   "source": [
    "labels = km_model.predict(X)\n",
    "print(\"cluster for the object with index 1:\", labels[1])\n",
    "print(\"cluster center coordinates:\", np.round(km_model.centers[labels[1]], 3))"
   ]
  },
  {
   "cell_type": "markdown",
   "metadata": {},
   "source": [
    "6.3 Calculate how many objects changed the label of the predicted cluster when changing the hyperparameter n_iters from 5 to 100"
   ]
  },
  {
   "cell_type": "markdown",
   "metadata": {},
   "source": [
    "Можно без вычислений сказать, что таких объектов было 0, так как на этих данных после 3 итераций алгоритм останавливается"
   ]
  },
  {
   "cell_type": "markdown",
   "metadata": {},
   "source": [
    "## DBSCAN"
   ]
  },
  {
   "cell_type": "markdown",
   "metadata": {},
   "source": [
    "**Task 7. <a id=\"task7\"></a> (0.5 points)** Cluster noisy_blobs objects using DBSCAN. Use the DBSCAN implementation from sklearn. Fix the `eps=0.5` hyperparameter. Specify the response for the object with index 1."
   ]
  },
  {
   "cell_type": "code",
   "execution_count": 102,
   "metadata": {},
   "outputs": [],
   "source": [
    "from sklearn.cluster import DBSCAN"
   ]
  },
  {
   "cell_type": "code",
   "execution_count": 142,
   "metadata": {},
   "outputs": [],
   "source": [
    "dbs_model = DBSCAN(eps=0.25)\n",
    "labels = dbs_model.fit_predict(X)"
   ]
  },
  {
   "cell_type": "code",
   "execution_count": 143,
   "metadata": {},
   "outputs": [
    {
     "data": {
      "text/plain": [
       "<matplotlib.collections.PathCollection at 0x7f2359978ac0>"
      ]
     },
     "execution_count": 143,
     "metadata": {},
     "output_type": "execute_result"
    },
    {
     "data": {
      "image/png": "[encoded data removed]",
      "text/plain": [
       "<Figure size 432x288 with 1 Axes>"
      ]
     },
     "metadata": {
      "needs_background": "light"
     },
     "output_type": "display_data"
    }
   ],
   "source": [
    "fig, ax = plt.subplots(1,1)\n",
    "ax.scatter(X[:,0], X[:,1], c=labels)"
   ]
  },
  {
   "cell_type": "code",
   "execution_count": 146,
   "metadata": {},
   "outputs": [
    {
     "name": "stdout",
     "output_type": "stream",
     "text": [
      "cluster for object with index 1:  0\n"
     ]
    }
   ],
   "source": [
    "print('cluster for object with index 1: ', labels[1])"
   ]
  },
  {
   "cell_type": "markdown",
   "metadata": {},
   "source": [
    "**Task 8. <a id=\"task8\"></a> (1 point)** 8.1 Specify the resulting number of clusters"
   ]
  },
  {
   "cell_type": "code",
   "execution_count": 147,
   "metadata": {},
   "outputs": [
    {
     "name": "stdout",
     "output_type": "stream",
     "text": [
      "7\n"
     ]
    }
   ],
   "source": [
    "num_of_clusters = np.unique(labels[labels != -1]).shape[0]\n",
    "print(num_of_clusters)"
   ]
  },
  {
   "cell_type": "markdown",
   "metadata": {},
   "source": [
    "8.2 How many objects were counted as outliers (marked -1)?"
   ]
  },
  {
   "cell_type": "code",
   "execution_count": 152,
   "metadata": {},
   "outputs": [
    {
     "name": "stdout",
     "output_type": "stream",
     "text": [
      "number of outliers: 101 (10.1)%\n"
     ]
    }
   ],
   "source": [
    "num_of_outliers = (labels == -1).sum()\n",
    "print(f'number of outliers: {num_of_outliers} ({100 * num_of_outliers / X.shape[0]})%')"
   ]
  },
  {
   "cell_type": "markdown",
   "metadata": {},
   "source": [
    "## Implementing EM for GMM"
   ]
  },
  {
   "cell_type": "markdown",
   "metadata": {},
   "source": [
    "**Multivariate Gaussian mixture model**\n",
    "\n",
    "A Bayesian Gaussian mixture model is commonly extended to fit a vector of unknown parameters (denoted in bold), or multivariate normal distributions.  In a multivariate distribution (i.e. one modelling a vector $\\boldsymbol{x}$ with $N$ random variables) one may model a vector of parameters (such as several observations of a signal or patches within an image) using a Gaussian mixture model prior distribution on the vector of estimates given by\n",
    "\n",
    "$p(\\boldsymbol{\\theta}) = \\sum_{i=1}^K\\phi_i \\mathcal{N}(\\boldsymbol{\\mu_i,\\Sigma_i})$\n",
    "\n",
    "where the $i^{th}$ vector component is characterized by normal distributions with weights $\\phi_i$, means $\\boldsymbol{\\mu_i}$ and covariance matrices $\\boldsymbol{\\Sigma_i}$. To incorporate this prior into a Bayesian estimation, the prior is multiplied with the known distribution $p(\\boldsymbol{x | \\theta})$ of the data $\\boldsymbol{x}$ conditioned on the parameters $\\boldsymbol{\\theta}$ to be estimated.  With this formulation, the posterior distribution $p(\\boldsymbol{\\theta | x})$ is *also* a Gaussian mixture model of the form\n",
    "\n",
    "$p(\\boldsymbol{\\theta | x}) = \\sum_{i=1}^K\\tilde{\\phi_i} \\mathcal{N}(\\boldsymbol{\\tilde{\\mu_i},\\tilde{\\Sigma_i}})$\n",
    "\n",
    "with new parameters $\\tilde{\\phi_i}, \\boldsymbol{\\tilde{\\mu_i}}$ and $\\boldsymbol{\\tilde{\\Sigma_i}}$ that are updated using the Expectation-maximization algorithm."
   ]
  },
  {
   "cell_type": "markdown",
   "metadata": {},
   "source": [
    "### Reminder"
   ]
  },
  {
   "cell_type": "markdown",
   "metadata": {},
   "source": [
    "Remember, that EM algorithm is a coordinate descent optimization of variational lower bound $\\mathcal{L}(\\theta, q) = \\int q(T) \\log\\frac{p(X, T|\\theta)}{q(T)}dT\\to \\max$.\n",
    "\n",
    "<b>E-step</b>:<br>\n",
    "$\\mathcal{L}(\\theta, q) \\to \\max\\limits_{q} \\Leftrightarrow \\mathcal{KL} [q(T) \\,\\|\\, p(T|X, \\theta)] \\to \\min \\limits_{q\\in Q} \\Rightarrow q(T) = p(T|X, \\theta)$<br>\n",
    "<b>M-step</b>:<br> \n",
    "$\\mathcal{L}(\\theta, q) \\to \\max\\limits_{\\theta} \\Leftrightarrow \\mathbb{E}_{q(T)}\\log p(X,T | \\theta) \\to \\max\\limits_{\\theta}$\n",
    "\n",
    "For GMM, $\\theta$ is a set of parameters that consists of mean vectors $\\mu_c$, covariance matrices $\\Sigma_c$ and priors $\\pi_c$ for each component.\n",
    "\n",
    "Latent variables $T$ are indices of components to which each data point is assigned, i.e. $t_i$  is the cluster index for object $x_i$.\n",
    "\n",
    "The joint distribution can be written as follows: $\\log p(T, X \\mid \\theta) =  \\sum\\limits_{i=1}^N \\log p(t_i, x_i \\mid \\theta) = \\sum\\limits_{i=1}^N \\sum\\limits_{c=1}^C q(t_i = c) \\log \\left (\\pi_c \\, f_{\\!\\mathcal{N}}(x_i \\mid \\mu_c, \\Sigma_c)\\right)$,\n",
    "where $f_{\\!\\mathcal{N}}(x \\mid \\mu_c, \\Sigma_c) = \\frac{1}{\\sqrt{(2\\pi)^n|\\boldsymbol\\Sigma_c|}}\n",
    "\\exp\\left(-\\frac{1}{2}({x}-{\\mu_c})^T{\\boldsymbol\\Sigma_c}^{-1}({x}-{\\mu_c})\n",
    "\\right)$ is the probability density function (pdf) of the normal distribution $\\mathcal{N}(x_i \\mid \\mu_c, \\Sigma_c)$."
   ]
  },
  {
   "cell_type": "markdown",
   "metadata": {},
   "source": [
    "In this part, we will derive and implement formulas for Gaussian Mixture Model — one of the most commonly used methods for performing soft clustering of the data. \n",
    "\n",
    "For debugging, we will use samples from a Gaussian mixture model with unknown mean, variance, and priors. We also added initial values of parameters for grading purposes."
   ]
  },
  {
   "cell_type": "code",
   "execution_count": 153,
   "metadata": {},
   "outputs": [
    {
     "data": {
      "image/png": "[encoded data removed]",
      "text/plain": [
       "<Figure size 432x288 with 1 Axes>"
      ]
     },
     "metadata": {
      "needs_background": "light"
     },
     "output_type": "display_data"
    }
   ],
   "source": [
    "samples = np.load('samples.npz')\n",
    "X = samples['data']\n",
    "pi0 = samples['pi0']\n",
    "mu0 = samples['mu0']\n",
    "sigma0 = samples['sigma0']\n",
    "plt.scatter(X[:, 0], X[:, 1], c='grey', s=30)\n",
    "plt.axis('equal')\n",
    "plt.show()"
   ]
  },
  {
   "cell_type": "code",
   "execution_count": 154,
   "metadata": {},
   "outputs": [],
   "source": [
    "from numpy.linalg import slogdet, det, solve"
   ]
  },
  {
   "cell_type": "markdown",
   "metadata": {},
   "source": [
    "### E-step\n",
    "In this step we need to estimate the posterior distribution over the latent variables with fixed values of parameters: $q_i(t_i) = p(t_i \\mid x_i, \\theta)$. We assume that $t_i$ equals to the cluster index of the true component of the $x_i$ object. To do so we need to compute $\\gamma_{ic} = p(t_i = c \\mid x_i, \\theta)$. Note that $\\sum\\limits_{c=1}^C\\gamma_{ic}=1$.\n",
    "\n"
   ]
  },
  {
   "cell_type": "markdown",
   "metadata": {},
   "source": [
    "<b>Important trick 1:</b> It is important to avoid numerical errors. At some point you will have to compute the formula of the following form: $\\frac{e^{y_i}}{\\sum_j e^{y_j}}$, which is called _softmax_. When you compute exponents of large numbers, some numbers may become infinity. You can avoid this by dividing numerator and denominator by $e^{\\max(y)}$: $\\frac{e^{y_i-\\max(y)}}{\\sum_j e^{y_j - \\max(y)}}$. After this transformation maximum value in the denominator will be equal to one. All other terms will contribute smaller values. So, to compute desired formula you first subtract maximum value from each component in vector $\\mathbf{y}$ and then compute everything else as before.\n",
    "\n",
    "<b>Important trick 2:</b> You will probably need to compute formula of the form $A^{-1}x$ at some point. You would normally inverse $A$ and then multiply it by $x$. A bit faster and more numerically accurate way to do this is to directly solve equation $Ay = x$ by using a special function. Its solution is $y=A^{-1}x$, but the equation $Ay = x$ can be solved by methods which do not explicitely invert the matrix. You can use ```np.linalg.solve``` for this.\n",
    "\n",
    "<b>Other usefull functions: </b> <a href=\"https://docs.scipy.org/doc/numpy/reference/generated/numpy.linalg.slogdet.html\">```slogdet```</a> and <a href=\"https://docs.scipy.org/doc/numpy/reference/generated/numpy.linalg.det.html#numpy.linalg.det\">```det```</a>"
   ]
  },
  {
   "cell_type": "markdown",
   "metadata": {},
   "source": [
    "<b>Task 9. <a id=\"task9\"></a> (1 point)</b> Implement E-step for GMM using template below."
   ]
  },
  {
   "cell_type": "code",
   "execution_count": 159,
   "metadata": {},
   "outputs": [],
   "source": [
    "from scipy.stats import multivariate_normal"
   ]
  },
  {
   "cell_type": "code",
   "execution_count": 429,
   "metadata": {},
   "outputs": [],
   "source": [
    "def E_step(X, pi, mu, sigma):\n",
    "    \"\"\"\n",
    "    Performs E-step on GMM model\n",
    "    Each input is numpy array:\n",
    "    X: (N x d), data points\n",
    "    pi: (C), mixture component weights \n",
    "    mu: (C x d), mixture component means\n",
    "    sigma: (C x d x d), mixture component covariance matrices\n",
    "    \n",
    "    Returns:\n",
    "    gamma: (N x C), probabilities of clusters for objects\n",
    "    \"\"\"\n",
    "    N = X.shape[0] # number of objects\n",
    "    C = pi.shape[0] # number of clusters\n",
    "    d = mu.shape[1] # dimension of each object\n",
    "    gamma = np.zeros((N, C)) # distribution q(T)\n",
    "\n",
    "    P = np.array([multivariate_normal(mean=mu[j], cov=sigma[j]).pdf(X) for j in range(C)])\n",
    "    PPi = P.T * pi\n",
    "    PxPi = P.T.dot(pi)\n",
    "    gamma = PPi / PxPi[:, None] \n",
    "    \n",
    "    return gamma"
   ]
  },
  {
   "cell_type": "code",
   "execution_count": 430,
   "metadata": {},
   "outputs": [
    {
     "name": "stdout",
     "output_type": "stream",
     "text": [
      "[125.16650217 154.21348486   0.62001298]\n"
     ]
    }
   ],
   "source": [
    "gamma = E_step(X, pi0, mu0, sigma0)\n",
    "print(np.sum(gamma, axis=0))"
   ]
  },
  {
   "cell_type": "markdown",
   "metadata": {},
   "source": [
    "### M-step\n",
    "\n",
    "In M-step we need to maximize $\\mathbb{E}_{q(T)}\\log p(X,T | \\theta)$ with respect to $\\theta$. In our model this means that we need to find optimal values of $\\pi$, $\\mu$, $\\Sigma$. To do so, you need to compute the derivatives and \n",
    "set them to zero. You should start by deriving formulas for $\\mu$ as it is the easiest part. Then move on to $\\Sigma$. Here it is crucial to optimize function w.r.t. to $\\Lambda = \\Sigma^{-1}$ and then inverse obtained result. Finaly, to compute $\\pi$, you will need <a href=\"https://www3.nd.edu/~jstiver/FIN360/Constrained%20Optimization.pdf\">Lagrange Multipliers technique</a> to satisfy constraint $\\sum\\limits_{c=1}^{C}\\pi_c = 1$.\n",
    "\n",
    "<br>\n",
    "<b>Important note:</b> You will need to compute derivatives of scalars with respect to matrices. To refresh this technique from previous courses, see <a href=\"https://en.wikipedia.org/wiki/Matrix_calculus\"> wiki article</a> about it . Main formulas of matrix derivatives can be found in <a href=\"http://www2.imm.dtu.dk/pubdb/views/edoc_download.php/3274/pdf/imm3274.pdf\">Chapter 2 of The Matrix Cookbook</a>. For example, there you may find that $\\frac{\\partial}{\\partial A}\\log |A| = A^{-T}$.\n",
    "\n"
   ]
  },
  {
   "cell_type": "markdown",
   "metadata": {},
   "source": [
    "<b>Task 10. <a id=\"task10\"></a> (1 point)</b> Implement M-step for GMM using template below."
   ]
  },
  {
   "cell_type": "code",
   "execution_count": 424,
   "metadata": {},
   "outputs": [],
   "source": [
    "def M_step(X, gamma):\n",
    "    \"\"\"\n",
    "    Performs M-step on GMM model\n",
    "    Each input is numpy array:\n",
    "    X: (N x d), data points\n",
    "    gamma: (N x C), distribution q(T)  \n",
    "    \n",
    "    Returns:\n",
    "    pi: (C)\n",
    "    mu: (C x d)\n",
    "    sigma: (C x d x d)\n",
    "    \"\"\"\n",
    "    N = X.shape[0] # number of objects\n",
    "    C = gamma.shape[1] # number of clusters\n",
    "    d = X.shape[1] # dimension of each object\n",
    "\n",
    "    pi = gamma.mean(axis=0)\n",
    "    pi = pi / pi.sum()\n",
    "    \n",
    "    gamma_sum = gamma.sum(axis=0)\n",
    "    \n",
    "    sigma = np.zeros(shape=(C, d, d))\n",
    "    mu = np.zeros(shape=(C, d))\n",
    "    \n",
    "    for j in range(C):\n",
    "        mu[j] = gamma[:, j].T.dot(X) / gamma_sum[j]\n",
    "        diff = X - mu[j]\n",
    "        sigma[j] = diff.T.dot(diff * gamma[:,j,None]) / gamma_sum[j]   \n",
    "    \n",
    "    return pi, mu, sigma"
   ]
  },
  {
   "cell_type": "code",
   "execution_count": 425,
   "metadata": {},
   "outputs": [],
   "source": [
    "gamma = E_step(X, pi0, mu0, sigma0)\n",
    "pi, mu, sigma = M_step(X, gamma)"
   ]
  },
  {
   "cell_type": "markdown",
   "metadata": {},
   "source": [
    "### Loss function"
   ]
  },
  {
   "cell_type": "markdown",
   "metadata": {},
   "source": [
    "Finally, we need some function to track convergence. We will use variational lower bound $\\mathcal{L}$ for this purpose. We will stop our EM iterations when $\\mathcal{L}$ will saturate. Usually, you will need only about 10-20 iterations to converge. It is also useful to check that this function never decreases during training. If it does, you have a bug in your code.\n",
    "\n",
    "<b>Task 11. <a id=\"task11\"></a> (1.25 points)</b> Implement a function that will compute $\\mathcal{L}$ using template below.\n",
    "\n",
    "$$\\mathcal{L} = \\sum_{i=1}^{N} \\sum_{c=1}^{C} q(t_i =c) (\\log \\pi_c + \\log f_{\\!\\mathcal{N}}(x_i \\mid \\mu_c, \\Sigma_c)) - \\sum_{i=1}^{N} \\sum_{c=1}^{C} q(t_i =c) \\log q(t_i =c)$$"
   ]
  },
  {
   "cell_type": "markdown",
   "metadata": {},
   "source": [
    "**Hint**: Split into three following parts:\n",
    "- entropy q from scipy\n",
    "- normal log-prob from scipy\n",
    "- function that collects it all into a sum"
   ]
  },
  {
   "cell_type": "code",
   "execution_count": 482,
   "metadata": {},
   "outputs": [
    {
     "name": "stdout",
     "output_type": "stream",
     "text": [
      "[2 3 4]\n"
     ]
    }
   ],
   "source": [
    "v = np.array([1, 2, 3])\n",
    "print(v + v[0])"
   ]
  },
  {
   "cell_type": "code",
   "execution_count": 490,
   "metadata": {},
   "outputs": [],
   "source": [
    "def compute_vlb(X, pi, mu, sigma, gamma):\n",
    "    \"\"\"\n",
    "    Each input is numpy array:\n",
    "    X: (N x d), data points\n",
    "    gamma: (N x C), distribution q(T)  \n",
    "    pi: (C)\n",
    "    mu: (C x d)\n",
    "    sigma: (C x d x d)\n",
    "    \n",
    "    Returns value of variational lower bound\n",
    "    \"\"\"\n",
    "    N = X.shape[0] # number of objects\n",
    "    C = gamma.shape[1] # number of clusters\n",
    "    d = X.shape[1] # dimension of each object\n",
    "\n",
    "    loss = 0\n",
    "    for j in range(C):\n",
    "        P = multivariate_normal(mean=mu[j], cov=sigma[j]).pdf(X)        \n",
    "        loss = loss + ((np.log(P) + np.log(pi[j]) - np.log(gamma[:, j])) * gamma[:, j]).sum()\n",
    "    \n",
    "    return loss"
   ]
  },
  {
   "cell_type": "code",
   "execution_count": 492,
   "metadata": {},
   "outputs": [
    {
     "name": "stdout",
     "output_type": "stream",
     "text": [
      "-inf\n"
     ]
    },
    {
     "name": "stderr",
     "output_type": "stream",
     "text": [
      "<ipython-input-490-801480c4e39a>:19: RuntimeWarning: divide by zero encountered in log\n",
      "  loss = loss + ((np.log(P) + np.log(pi[j]) - np.log(gamma[:, j])) * gamma[:, j]).sum()\n"
     ]
    }
   ],
   "source": [
    "pi, mu, sigma = pi0, mu0, sigma0\n",
    "gamma = E_step(X, pi, mu, sigma)\n",
    "pi, mu, sigma = M_step(X, gamma)\n",
    "loss = compute_vlb(X, pi, mu, sigma, gamma)\n",
    "print(loss)"
   ]
  },
  {
   "cell_type": "markdown",
   "metadata": {},
   "source": [
    "### Bringing it all together"
   ]
  },
  {
   "cell_type": "markdown",
   "metadata": {},
   "source": [
    "Now that we have E step, M step and VLB, we can implement the training loop. We will initialize values of $\\pi$, $\\mu$ and $\\Sigma$ to some random numbers, train until $\\mathcal{L}$ stops changing, and return the resulting points. We also know that the EM algorithm converges to local optima. To find a better local optima, we will restart the algorithm multiple times from different (random) starting positions. Each training trial should stop either when maximum number of iterations is reached or when relative improvement is smaller than given tolerance ($|\\frac{\\mathcal{L}_i-\\mathcal{L}_{i-1}}{\\mathcal{L}_{i-1}}| \\le \\text{rtol}$).\n",
    "\n",
    "Remember, that initial (random) values of $\\pi$ that you generate must be non-negative and sum up to 1. Also, $\\Sigma$ matrices must be symmetric and positive semi-definite. If you don't know how to generate those matrices, you can use $\\Sigma=I$ as initialization.\n",
    "\n",
    "You will also sometimes get numerical errors because of component collapsing. In this case you just need to add 1e-4 to the diagonals.\n",
    "\n",
    "<b>Task 12. <a id=\"task12\"></a> (1.25 points)</b> Implement training procedure"
   ]
  },
  {
   "cell_type": "code",
   "execution_count": 503,
   "metadata": {},
   "outputs": [],
   "source": [
    "def train_EM(X, C, rtol=1e-3, max_iter=100, restarts=10):\n",
    "    '''\n",
    "    Starts with random initialization *restarts* times\n",
    "    Runs optimization until saturation with *rtol* reached\n",
    "    or *max_iter* iterations were made.\n",
    "    \n",
    "    X: (N, d), data points\n",
    "    C: int, number of clusters\n",
    "    '''\n",
    "    N = X.shape[0] # number of objects\n",
    "    d = X.shape[1] # dimension of each object\n",
    "    best_loss = float('-inf')\n",
    "    best_pi = None\n",
    "    best_mu = None\n",
    "    best_sigma = None\n",
    "\n",
    "    for _ in range(restarts):\n",
    "        try:\n",
    "            pi = np.ones(C) / C\n",
    "            mu = np.random.random((C, d))\n",
    "            sigma = np.array([np.identity(d) for i in range(C)])\n",
    "            gamma = None\n",
    "            prev_loss = float('-inf')\n",
    "            \n",
    "            for k in range(max_iter):\n",
    "                gamma = E_step(X, pi, mu, sigma)\n",
    "                pi, mu, sigma = M_step(X, gamma)\n",
    "                loss = compute_vlb(X, pi, mu, sigma, gamma)\n",
    "                \n",
    "                print(loss, k)\n",
    "                \n",
    "                if(loss - rtol < prev_loss):\n",
    "                    break\n",
    "                prev_loss = loss\n",
    "            \n",
    "            print()\n",
    "            \n",
    "            if(loss > best_loss):\n",
    "                best_loss = loss\n",
    "                best_pi = pi\n",
    "                best_mu = mu\n",
    "                best_sigma = sigma\n",
    "            \n",
    "        except np.linalg.LinAlgError:\n",
    "            print(\"Singular matrix: components collapsed\")\n",
    "            pass\n",
    "\n",
    "    return best_loss, best_pi, best_mu, best_sigma"
   ]
  },
  {
   "cell_type": "code",
   "execution_count": 505,
   "metadata": {},
   "outputs": [
    {
     "name": "stdout",
     "output_type": "stream",
     "text": [
      "-1211.1373380986906 0\n",
      "-1179.4287055411753 1\n",
      "-1169.2312356464552 2\n",
      "-1164.2744016589984 3\n",
      "-1158.5660805453024 4\n",
      "-1149.6766324465484 5\n",
      "-1135.8276488699444 6\n",
      "-1118.2934642677608 7\n",
      "-1101.962043425665 8\n",
      "-1090.1470788760112 9\n",
      "-1082.1083711117503 10\n",
      "-1076.0289597868123 11\n",
      "-1071.8452868152774 12\n",
      "-1069.0664760807515 13\n",
      "-1067.2545723003707 14\n",
      "-1066.1076310316068 15\n",
      "-1065.2341162546534 16\n",
      "-1064.55386234168 17\n",
      "-1064.1167659823373 18\n",
      "-1063.9108097014641 19\n",
      "-1063.8393773480993 20\n",
      "-1063.8190148906178 21\n",
      "-1063.8135472981317 22\n",
      "-1063.8120171733324 23\n",
      "-1063.8115425051265 24\n",
      "\n",
      "-1216.985566410216 0\n",
      "-1183.498165119543 1\n",
      "-1164.379184276268 2\n",
      "-1157.4678451075501 3\n",
      "-1152.5956092828894 4\n",
      "-1148.3786075837988 5\n",
      "-1145.1512397427173 6\n",
      "-1142.8523624863244 7\n",
      "-1141.2594048572073 8\n",
      "-1139.936666483829 9\n",
      "-1138.3184322466632 10\n",
      "-1135.7018446957693 11\n",
      "-1130.956061664921 12\n",
      "-1122.2526914562675 13\n",
      "-1108.8747008711673 14\n",
      "-1095.4487569844312 15\n",
      "-1086.5118261091068 16\n",
      "-1081.487500793913 17\n",
      "-1078.298411005988 18\n",
      "-1075.651290914199 19\n",
      "-1073.065304792902 20\n",
      "-1070.4401208404115 21\n",
      "-1067.9485040172342 22\n",
      "-1065.9740916785095 23\n",
      "-1064.7874020370405 24\n",
      "-1064.235950644801 25\n",
      "-1064.0032944094132 26\n",
      "-1063.9014853696674 27\n",
      "-1063.8544582190395 28\n",
      "-1063.832074004808 29\n",
      "-1063.8212963928931 30\n",
      "-1063.8160932795859 31\n",
      "-1063.8135830647418 32\n",
      "-1063.8123739654616 33\n",
      "-1063.8117925133715 34\n",
      "\n",
      "-1220.9656059487 0\n",
      "-1207.1109517894865 1\n",
      "-1200.0299858160038 2\n",
      "-1193.6758149119983 3\n",
      "-1186.0261204434044 4\n",
      "-1175.8756381789012 5\n",
      "-1164.4344959483274 6\n",
      "-1155.717163237709 7\n",
      "-1149.5110229840343 8\n",
      "-1142.3623205847198 9\n",
      "-1132.7855604273072 10\n",
      "-1122.4420032778607 11\n",
      "-1114.5546725588406 12\n",
      "-1109.4377044416512 13\n",
      "-1105.869728701522 14\n",
      "-1103.3500052168692 15\n",
      "-1101.5761061158769 16\n",
      "-1100.2363473429139 17\n",
      "-1099.0869836811676 18\n",
      "-1097.96351651449 19\n",
      "-1096.746283918244 20\n",
      "-1095.3313540891213 21\n",
      "-1093.5981456148766 22\n",
      "-1091.3199090209446 23\n",
      "-1088.0898816038227 24\n",
      "-1083.8064850284702 25\n",
      "-1078.901861476 26\n",
      "-1071.8334002775355 27\n",
      "-1064.850423199563 28\n",
      "-1064.0133671135638 29\n",
      "-1063.8716229195925 30\n",
      "-1063.8291949096547 31\n",
      "-1063.8169341607686 32\n",
      "-1063.8132731424048 33\n",
      "-1063.8120581451408 34\n",
      "-1063.8116021378341 35\n",
      "\n",
      "-1224.4018737190202 0\n",
      "-1204.0143181976619 1\n",
      "-1185.12348942114 2\n",
      "-1170.348333530609 3\n",
      "-1159.1491124338722 4\n",
      "-1152.1163092464433 5\n",
      "-1147.509243308193 6\n",
      "-1143.6032273833375 7\n",
      "-1139.6475905652007 8\n",
      "-1135.3635949540412 9\n",
      "-1130.4924841752863 10\n",
      "-1124.930139990418 11\n",
      "-1119.1380085556525 12\n",
      "-1113.8597453453951 13\n",
      "-1109.4576928778117 14\n",
      "-1106.0154427040147 15\n",
      "-1103.5005935053096 16\n",
      "-1101.712569015699 17\n",
      "-1100.3653537184916 18\n",
      "-1099.2192665436833 19\n",
      "-1098.1099264785407 20\n",
      "-1096.9187172306333 21\n",
      "-1095.5441924774607 22\n",
      "-1093.87406287211 23\n",
      "-1091.7077759142453 24\n",
      "-1088.658646612457 25\n",
      "-1084.5252250250535 26\n",
      "-1079.7640596728263 27\n",
      "-1073.256951386893 28\n",
      "-1065.3797565166747 29\n",
      "-1064.0610046828588 30\n",
      "-1063.8853207877937 31\n",
      "-1063.8332418306918 32\n",
      "-1063.8181154604451 33\n",
      "-1063.8136470673483 34\n",
      "-1063.812191847669 35\n",
      "-1063.8116556345976 36\n",
      "\n",
      "-1217.684999475411 0\n",
      "-1173.7458113966575 1\n",
      "-1140.8725915785226 2\n",
      "-1117.6040712544532 3\n",
      "-1096.3369621869545 4\n",
      "-1083.5995605391136 5\n",
      "-1076.5334262339682 6\n",
      "-1072.2760873622217 7\n",
      "-1069.2907537678168 8\n",
      "-1067.371624640989 9\n",
      "-1066.1739536517011 10\n",
      "-1065.2879692061333 11\n",
      "-1064.6117176002397 12\n",
      "-1064.1694565855187 13\n",
      "-1063.946691244236 14\n",
      "-1063.8592613946707 15\n",
      "-1063.829040269221 16\n",
      "-1063.818434665568 17\n",
      "-1063.81437179785 18\n",
      "-1063.8126716856168 19\n",
      "-1063.811915638199 20\n",
      "\n",
      "-1226.9418296891727 0\n",
      "-1214.9284767368072 1\n",
      "-1199.4306597704938 2\n",
      "-1181.1591663620477 3\n",
      "-1165.2643895912788 4\n",
      "-1160.591065113948 5\n",
      "-1160.1074349570802 6\n",
      "-1160.0162966517184 7\n",
      "-1159.9601137883215 8\n",
      "-1159.915361500418 9\n",
      "-1159.8760600548635 10\n",
      "-1159.839039887259 11\n",
      "-1159.8024183117627 12\n",
      "-1159.7650317623006 13\n",
      "-1159.7261605068934 14\n",
      "-1159.6853909231788 15\n",
      "-1159.6425455209678 16\n",
      "-1159.5976460274487 17\n",
      "-1159.550890908597 18\n",
      "-1159.5026361419932 19\n",
      "-1159.4533718098567 20\n",
      "-1159.4036896298903 21\n",
      "-1159.3542392220857 22\n",
      "-1159.3056742975698 23\n",
      "-1159.2585937852957 24\n",
      "-1159.21348603442 25\n",
      "-1159.1706850880428 26\n",
      "-1159.130345685646 27\n",
      "-1159.0924387127702 28\n",
      "-1159.0567632943682 29\n",
      "-1159.022967855312 30\n",
      "-1158.9905713494686 31\n",
      "-1158.9589770300015 32\n",
      "-1158.927473199058 33\n",
      "-1158.8952169319268 34\n",
      "-1158.8611969462072 35\n",
      "-1158.8241702001706 36\n",
      "-1158.782563207844 37\n",
      "-1158.7343229262224 38\n",
      "-1158.6766922396887 39\n",
      "-1158.6058693704945 40\n",
      "-1158.5164853579645 41\n",
      "-1158.4007935371462 42\n",
      "-1158.247402481725 43\n",
      "-1158.0392937336387 44\n",
      "-1157.750759319259 45\n",
      "-1157.3428497392551 46\n",
      "-1156.757218871738 47\n",
      "-1155.9096108427354 48\n",
      "-1154.6877947189723 49\n",
      "-1152.9638184591572 50\n",
      "-1150.6279225940332 51\n",
      "-1147.6275239193214 52\n",
      "-1143.9721438630759 53\n",
      "-1139.6941785904498 54\n",
      "-1134.8052537004985 55\n",
      "-1129.3435297832448 56\n",
      "-1123.5704533012872 57\n",
      "-1117.9891005970242 58\n",
      "-1113.0010642633836 59\n",
      "-1108.815887302213 60\n",
      "-1105.5689569486653 61\n",
      "-1103.2331982481696 62\n",
      "-1101.5724805448033 63\n",
      "-1100.296236352402 64\n",
      "-1099.1844889203826 65\n",
      "-1098.091227350853 66\n",
      "-1096.9085353412877 67\n",
      "-1095.5404353915733 68\n",
      "-1093.8775684617613 69\n",
      "-1091.7218399283533 70\n",
      "-1088.689564099218 71\n",
      "-1084.5775467390392 72\n",
      "-1079.8407256556504 73\n",
      "-1073.393273694667 74\n",
      "-1065.4510262449664 75\n",
      "-1064.0676047024779 76\n",
      "-1063.8872454229893 77\n",
      "-1063.8338252221038 78\n",
      "-1063.8182897882748 79\n",
      "-1063.8137035585607 80\n",
      "-1063.8122124841443 81\n",
      "-1063.8116640245726 82\n",
      "\n",
      "-1218.6399154896603 0\n",
      "-1203.3118646772054 1\n",
      "-1185.519702194896 2\n",
      "-1169.3404805057085 3\n",
      "-1162.9237666535687 4\n",
      "-1160.912056238564 5\n",
      "-1160.2086789878556 6\n",
      "-1159.9528697831788 7\n",
      "-1159.8466721299903 8\n",
      "-1159.7900174315396 9\n",
      "-1159.749146947201 10\n",
      "-1159.71230515301 11\n",
      "-1159.6753183073242 12\n",
      "-1159.6367466205945 13\n",
      "-1159.5961942618285 14\n",
      "-1159.5537051658446 15\n",
      "-1159.5095418242663 16\n",
      "-1159.4640984952705 17\n",
      "-1159.4178586067706 18\n",
      "-1159.3713637058006 19\n",
      "-1159.3251831549983 20\n",
      "-1159.2798824677377 21\n",
      "-1159.2359917032059 22\n",
      "-1159.193976568999 23\n",
      "-1159.1542148739036 24\n",
      "-1159.1169802419204 25\n",
      "-1159.0824338948942 26\n",
      "-1159.0506241437565 27\n",
      "-1159.0214922458072 28\n",
      "-1158.9948826380992 29\n",
      "-1158.9705552805171 30\n",
      "-1158.948197873738 31\n",
      "-1158.9274359351161 32\n",
      "-1158.907838980896 33\n",
      "-1158.888921248734 34\n",
      "-1158.870135392283 35\n",
      "-1158.8508572900287 36\n",
      "-1158.8303594179085 37\n",
      "-1158.8077689709112 38\n",
      "-1158.7820048088593 39\n",
      "-1158.75168388565 40\n",
      "-1158.7149823223076 41\n",
      "-1158.6694273928626 42\n",
      "-1158.6115822181646 43\n",
      "-1158.5365613076983 44\n",
      "-1158.4372765827788 45\n",
      "-1158.3032520784059 46\n",
      "-1158.1187526655017 47\n",
      "-1157.8598501943106 48\n",
      "-1157.4899535942754 49\n",
      "-1156.9534831828119 50\n",
      "-1156.1684253095732 51\n",
      "-1155.0216882657724 52\n",
      "-1153.376632907211 53\n",
      "-1151.1023487630118 54\n",
      "-1148.1133088753327 55\n",
      "-1144.382926858806 56\n",
      "-1139.9262428224301 57\n",
      "-1134.799812197569 58\n",
      "-1129.1636483169716 59\n",
      "-1123.3645258116853 60\n",
      "-1117.8393153065072 61\n",
      "-1112.8950305244775 62\n",
      "-1108.7324233380368 63\n",
      "-1105.5072854724976 64\n",
      "-1103.195541429568 65\n",
      "-1101.5534593906045 66\n",
      "-1100.2880270950259 67\n",
      "-1099.1817237131518 68\n",
      "-1098.0912959795742 69\n",
      "-1096.9105265501958 70\n",
      "-1095.544356868719 71\n",
      "-1093.8840618940726 72\n",
      "-1091.732493671138 73\n",
      "-1088.7070185977939 74\n",
      "-1084.6022045614172 75\n",
      "-1079.8723846167488 76\n",
      "-1073.4469396007205 77\n",
      "-1065.4794381289873 78\n",
      "-1064.0700678596145 79\n",
      "-1063.887946363467 80\n",
      "-1063.8340359373126 81\n",
      "-1063.8183519559318 82\n",
      "-1063.813723370307 83\n",
      "-1063.812219604421 84\n",
      "-1063.8116668839548 85\n",
      "\n",
      "-1220.3613497155907 0\n",
      "-1201.7837121117295 1\n",
      "-1182.59200545144 2\n",
      "-1168.0858175339604 3\n",
      "-1161.8630445754673 4\n",
      "-1160.1589520662717 5\n",
      "-1159.6780436659983 6\n",
      "-1159.4941093904204 7\n",
      "-1159.3979699394786 8\n",
      "-1159.33112733497 9\n",
      "-1159.2752793299437 10\n",
      "-1159.2248062884928 11\n",
      "-1159.1781164150493 12\n",
      "-1159.134781174878 13\n",
      "-1159.0946092565134 14\n",
      "-1159.0573705322745 15\n",
      "-1159.0227305764965 16\n",
      "-1158.9902467476313 17\n",
      "-1158.959375848505 18\n",
      "-1158.9294766206597 19\n",
      "-1158.8998009675333 20\n",
      "-1158.8694704488223 21\n",
      "-1158.8374340571143 22\n",
      "-1158.802400984961 23\n",
      "-1158.7627380916738 24\n",
      "-1158.7163154032528 25\n",
      "-1158.6602728013804 26\n",
      "-1158.5906646373783 27\n",
      "-1158.5019124115754 28\n",
      "-1158.3859529664462 29\n",
      "-1158.2309032382818 30\n",
      "-1158.0189672518306 31\n",
      "-1157.72320113108 32\n",
      "-1157.3027178049972 33\n",
      "-1156.6962689370087 34\n",
      "-1155.8156807843077 35\n",
      "-1154.5444881020026 36\n",
      "-1152.7520717357254 37\n",
      "-1150.3292078381526 38\n",
      "-1147.2248201704601 39\n",
      "-1143.4461255340166 40\n",
      "-1139.021336917589 41\n",
      "-1133.9725825874243 42\n",
      "-1128.390322790046 43\n",
      "-1122.6049334695585 44\n",
      "-1117.1100657054455 45\n",
      "-1112.248112183712 46\n",
      "-1108.2123240165447 47\n",
      "-1105.1262947802563 48\n",
      "-1102.9255052552512 49\n",
      "-1101.3499454803618 50\n",
      "-1100.1154539068357 51\n",
      "-1099.0167868163212 52\n",
      "-1097.917324241176 53\n",
      "-1096.7130106828017 54\n",
      "-1095.3083119359508 55\n",
      "-1093.5874376688116 56\n",
      "-1091.3275124124907 57\n",
      "-1088.127684728482 58\n",
      "-1083.8883398462149 59\n",
      "-1079.042468842154 60\n",
      "-1072.0936962497685 61\n",
      "-1064.9331032060172 62\n",
      "-1064.0231092507847 63\n",
      "-1063.8746431274742 64\n",
      "-1063.8301162265138 65\n",
      "-1063.8172174378699 66\n",
      "-1063.8133689152378 67\n",
      "-1063.8120945755697 68\n",
      "-1063.8116173899807 69\n",
      "\n",
      "-1215.8375707258665 0\n",
      "-1180.2191644699283 1\n",
      "-1166.85699929238 2\n",
      "-1160.7968180108805 3\n",
      "-1153.4052150659322 4\n",
      "-1141.6032178995101 5\n",
      "-1124.4021033553613 6\n",
      "-1105.4977338721799 7\n",
      "-1090.9679926746085 8\n",
      "-1082.1664121793665 9\n",
      "-1076.0782009810473 10\n",
      "-1071.8286836290044 11\n",
      "-1068.99875756069 12\n",
      "-1067.1670373180627 13\n",
      "-1066.028835892312 14\n",
      "-1065.1697967043697 15\n",
      "-1064.5088646791776 16\n",
      "-1064.093110252176 17\n",
      "-1063.90195592816 18\n",
      "-1063.8368454431948 19\n",
      "-1063.818390042812 20\n",
      "-1063.813403060995 21\n",
      "-1063.8119852822617 22\n",
      "-1063.8115358916718 23\n",
      "\n",
      "-1227.319860459436 0\n",
      "-1216.6221794240469 1\n",
      "-1200.8243679096145 2\n",
      "-1179.9555139978158 3\n",
      "-1164.3583166366154 4\n",
      "-1160.5836934631016 5\n",
      "-1160.2280816717002 6\n",
      "-1160.13989023886 7\n",
      "-1160.082477062571 8\n",
      "-1160.0399659723207 9\n",
      "-1160.0067176257523 10\n",
      "-1159.9792327178689 11\n",
      "-1159.9551957165918 12\n",
      "-1159.9330178413306 13\n",
      "-1159.9115686633756 14\n",
      "-1159.890013742472 15\n",
      "-1159.8677152703142 16\n",
      "-1159.8441714102705 17\n",
      "-1159.8189801784856 18\n",
      "-1159.7918194077035 19\n",
      "-1159.762437556797 20\n",
      "-1159.730651921222 21\n",
      "-1159.6963517483427 22\n",
      "-1159.659504214376 23\n",
      "-1159.6201613888097 24\n",
      "-1159.5784663215586 25\n",
      "-1159.534656302002 26\n",
      "-1159.4890612000358 27\n",
      "-1159.4420946920395 28\n",
      "-1159.394236297574 29\n",
      "-1159.3460028289162 30\n",
      "-1159.2979093920376 31\n",
      "-1159.2504224522777 32\n",
      "-1159.2039100373388 33\n",
      "-1159.1585956642682 34\n",
      "-1159.1145218542943 35\n",
      "-1159.071525847951 36\n",
      "-1159.0292253329344 37\n",
      "-1158.9870073279228 38\n",
      "-1158.9440100767042 39\n",
      "-1158.8990859204555 40\n",
      "-1158.8507314505327 41\n",
      "-1158.7969679580697 42\n",
      "-1158.7351482034226 43\n",
      "-1158.6616523896819 44\n",
      "-1158.5714135446988 45\n",
      "-1158.4571751270985 46\n",
      "-1158.3083242533937 47\n",
      "-1158.1090551111092 48\n",
      "-1157.8355027190032 49\n",
      "-1157.4514027080818 50\n",
      "-1156.90200230235 51\n",
      "-1156.1070129687955 52\n",
      "-1154.9565652622964 53\n",
      "-1153.3195689962936 54\n",
      "-1151.074290249855 55\n",
      "-1148.1502497361707 56\n",
      "-1144.5418068647348 57\n",
      "-1140.274225926779 58\n",
      "-1135.359765643172 59\n",
      "-1129.8403519355177 60\n",
      "-1123.9828556133948 61\n",
      "-1118.3088228339852 62\n",
      "-1113.2450205908674 63\n",
      "-1109.0111620728908 64\n",
      "-1105.7383304587288 65\n",
      "-1103.3898659741394 66\n",
      "-1101.7225593050239 67\n",
      "-1100.4444287652796 68\n",
      "-1099.337284311151 69\n",
      "-1098.2576303623473 70\n",
      "-1097.099983304706 71\n",
      "-1095.7708341531134 72\n",
      "-1094.167476781593 73\n",
      "-1092.115385920008 74\n",
      "-1089.2583654241316 75\n",
      "-1085.3072329553404 76\n",
      "-1080.6721164398841 77\n",
      "-1074.7111974605396 78\n",
      "-1066.3167890623695 79\n",
      "-1064.1351048300985 80\n",
      "-1063.9051913968378 81\n",
      "-1063.8391785545602 82\n",
      "-1063.819836503112 83\n",
      "-1063.8141801900563 84\n",
      "-1063.8123777817868 85\n",
      "-1063.8117285443561 86\n",
      "\n"
     ]
    }
   ],
   "source": [
    "best_loss, best_pi, best_mu, best_sigma = train_EM(X, 3, max_iter=100)"
   ]
  },
  {
   "cell_type": "markdown",
   "metadata": {},
   "source": [
    "If you implemented all the steps correctly, your algorithm should converge in about 20 iterations. Let's plot the clusters to see it. We will assign a cluster label as the most probable cluster index. This can be found using a matrix $\\gamma$ computed on last E-step. "
   ]
  },
  {
   "cell_type": "code",
   "execution_count": 506,
   "metadata": {},
   "outputs": [
    {
     "data": {
      "image/png": "[encoded data removed]",
      "text/plain": [
       "<Figure size 432x288 with 1 Axes>"
      ]
     },
     "metadata": {
      "needs_background": "light"
     },
     "output_type": "display_data"
    }
   ],
   "source": [
    "gamma = E_step(X, best_pi, best_mu, best_sigma)\n",
    "labels = gamma.argmax(axis=1)\n",
    "colors = np.array([(31, 119, 180), (255, 127, 14), (44, 160, 44)]) / 255.\n",
    "plt.scatter(X[:, 0], X[:, 1], c=colors[labels], s=30)\n",
    "plt.axis('equal')\n",
    "plt.show()"
   ]
  }
 ],
 "metadata": {
  "kernelspec": {
   "display_name": "Python 3",
   "language": "python",
   "name": "python3"
  },
  "language_info": {
   "codemirror_mode": {
    "name": "ipython",
    "version": 3
   },
   "file_extension": ".py",
   "mimetype": "text/x-python",
   "name": "python",
   "nbconvert_exporter": "python",
   "pygments_lexer": "ipython3",
   "version": "3.8.5"
  }
 },
 "nbformat": 4,
 "nbformat_minor": 5
}
