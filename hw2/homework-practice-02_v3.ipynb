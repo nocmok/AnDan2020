{
 "cells": [
  {
   "cell_type": "markdown",
   "metadata": {},
   "source": [
    "# HSE 2021: Mathematical Methods for Data Analysis\n",
    "\n",
    "## Homework 2"
   ]
  },
  {
   "cell_type": "code",
   "execution_count": 3,
   "metadata": {
    "ExecuteTime": {
     "end_time": "2020-09-26T16:48:20.566549Z",
     "start_time": "2020-09-26T16:48:19.893995Z"
    }
   },
   "outputs": [],
   "source": [
    "import pandas as pd\n",
    "import numpy as np\n",
    "import matplotlib.pyplot as plt\n",
    "import seaborn as sns\n",
    "import sklearn\n",
    "from sklearn import datasets\n",
    "from sklearn.datasets import load_boston\n",
    "\n",
    "%matplotlib inline\n",
    "\n",
    "sns.set(style=\"darkgrid\")"
   ]
  },
  {
   "cell_type": "markdown",
   "metadata": {},
   "source": [
    "### Data\n",
    "\n",
    "For this homework we use Boston Dataset from sklearn (based on UCI ML housing dataset)."
   ]
  },
  {
   "cell_type": "code",
   "execution_count": 4,
   "metadata": {},
   "outputs": [],
   "source": [
    "data = load_boston() # load dataset\n",
    "\n",
    "X = data.data\n",
    "y = data.target\n",
    "columns = data.feature_names"
   ]
  },
  {
   "cell_type": "markdown",
   "metadata": {},
   "source": [
    "## Linear regression"
   ]
  },
  {
   "cell_type": "markdown",
   "metadata": {},
   "source": [
    "#### 1. [0.5 points] Create Pandas DataFrame and split the data into train and test sets with ratio 80:20 with random_state=0."
   ]
  },
  {
   "cell_type": "code",
   "execution_count": 5,
   "metadata": {},
   "outputs": [],
   "source": [
    "from pandas import DataFrame\n",
    "\n",
    "x_df = DataFrame(data=X, columns=columns)\n",
    "y_df = DataFrame(data=y, columns=['Y'])"
   ]
  },
  {
   "cell_type": "code",
   "execution_count": 6,
   "metadata": {},
   "outputs": [],
   "source": [
    "from sklearn.model_selection import train_test_split\n",
    "\n",
    "x_train, x_test, y_train, y_test = train_test_split(x_df, y_df, train_size=0.8, random_state=0)"
   ]
  },
  {
   "cell_type": "markdown",
   "metadata": {},
   "source": [
    "#### 2. [1 point] Train models on train data using StatsModels library and apply it to the test set; use $RMSE$ and $R^2$ as the quality measure.\n",
    "\n",
    "* [`LinearRegression`](http://scikit-learn.org/stable/modules/generated/sklearn.linear_model.LinearRegression.html);\n",
    "* [`Ridge`](http://scikit-learn.org/stable/modules/generated/sklearn.linear_model.Ridge.html) with $\\alpha = 0.01$;\n",
    "* [`Lasso`](http://scikit-learn.org/stable/modules/generated/sklearn.linear_model.Lasso.html) with $\\alpha = 0.01$\n",
    "\n",
    "Don't forget to scale the data before training the models with StandardScaler!"
   ]
  },
  {
   "cell_type": "code",
   "execution_count": 7,
   "metadata": {},
   "outputs": [],
   "source": [
    "from sklearn.preprocessing import StandardScaler\n",
    "import statsmodels.api as sm\n",
    "\n",
    "scaler = StandardScaler()\n",
    "\n",
    "x_train_scaled = DataFrame(data=scaler.fit_transform(x_train), columns=columns, index=x_train.index)\n",
    "x_test_scaled = DataFrame(data=scaler.transform(x_test), columns=columns, index=x_test.index)\n",
    "\n",
    "x_train_scaled = sm.add_constant(x_train_scaled)\n",
    "x_test_scaled = sm.add_constant(x_test_scaled)"
   ]
  },
  {
   "cell_type": "code",
   "execution_count": 8,
   "metadata": {},
   "outputs": [],
   "source": [
    "model = sm.OLS(y_train, x_train_scaled)"
   ]
  },
  {
   "cell_type": "code",
   "execution_count": 9,
   "metadata": {},
   "outputs": [
    {
     "name": "stdout",
     "output_type": "stream",
     "text": [
      "Linear regression:\n",
      "RMSE : 4.3962\n",
      "R2   : 0.7730\n",
      "RMSE (test data): 5.7835\n",
      "R2   (test data): 0.5892\n"
     ]
    }
   ],
   "source": [
    "lr = model.fit()\n",
    "\n",
    "y_predicted = lr.predict(x_train_scaled)\n",
    "y_predicted_test = lr.predict(x_test_scaled)\n",
    "\n",
    "print('Linear regression:')\n",
    "\n",
    "print('RMSE : %.4f' % sklearn.metrics.mean_squared_error(y_train, y_predicted, squared=False))\n",
    "print('R2   : %.4f' % sklearn.metrics.r2_score(y_train, y_predicted))\n",
    "\n",
    "print('RMSE (test data): %.4f' % sklearn.metrics.mean_squared_error(y_test, y_predicted_test, squared=False))\n",
    "print('R2   (test data): %.4f' % sklearn.metrics.r2_score(y_test, y_predicted_test))"
   ]
  },
  {
   "cell_type": "code",
   "execution_count": 10,
   "metadata": {},
   "outputs": [
    {
     "name": "stdout",
     "output_type": "stream",
     "text": [
      "Ridge (alpha=0.010000):\n",
      "RMSE : 4.4039\n",
      "R2   : 0.7722\n",
      "RMSE (test data): 5.8270\n",
      "R2   (test data): 0.5830\n"
     ]
    }
   ],
   "source": [
    "alpha = 0.01\n",
    "ridge = model.fit_regularized(L1_wt=0, alpha=alpha)\n",
    "ridge = sm.regression.linear_model.OLSResults(model, ridge.params, model.normalized_cov_params)\n",
    "\n",
    "y_predicted = ridge.predict(x_train_scaled)\n",
    "y_predicted_test = ridge.predict(x_test_scaled)\n",
    "\n",
    "print('Ridge (alpha=%f):' % alpha)\n",
    "\n",
    "print('RMSE : %.4f' % sklearn.metrics.mean_squared_error(y_train, y_predicted, squared=False))\n",
    "print('R2   : %.4f' % sklearn.metrics.r2_score(y_train, y_predicted))\n",
    "\n",
    "print('RMSE (test data): %.4f' % sklearn.metrics.mean_squared_error(y_test, y_predicted_test, squared=False))\n",
    "print('R2   (test data): %.4f' % sklearn.metrics.r2_score(y_test, y_predicted_test))"
   ]
  },
  {
   "cell_type": "code",
   "execution_count": 11,
   "metadata": {},
   "outputs": [
    {
     "name": "stdout",
     "output_type": "stream",
     "text": [
      "Lasso (alpha=0.010000):\n",
      "RMSE : 4.3968\n",
      "R2   : 0.7730\n",
      "RMSE (test data): 5.7962\n",
      "R2   (test data): 0.5874\n"
     ]
    }
   ],
   "source": [
    "alpha = 0.01\n",
    "lasso = model.fit_regularized(L1_wt=1, alpha=alpha)\n",
    "lasso = sm.regression.linear_model.OLSResults(model, lasso.params, model.normalized_cov_params)\n",
    "\n",
    "y_predicted = lasso.predict(x_train_scaled)\n",
    "y_predicted_test = lasso.predict(x_test_scaled)\n",
    "\n",
    "print('Lasso (alpha=%f):' % alpha)\n",
    "\n",
    "print('RMSE : %.4f' % sklearn.metrics.mean_squared_error(y_train, y_predicted, squared=False))\n",
    "print('R2   : %.4f' % sklearn.metrics.r2_score(y_train, y_predicted))\n",
    "\n",
    "print('RMSE (test data): %.4f' % sklearn.metrics.mean_squared_error(y_test, y_predicted_test, squared=False))\n",
    "print('R2   (test data): %.4f' % sklearn.metrics.r2_score(y_test, y_predicted_test))"
   ]
  },
  {
   "cell_type": "markdown",
   "metadata": {},
   "source": [
    "#### 3. [1 point] Explore the values of the parameters of the resulting models and compare the number of zero weights in them. Comment on the significance of the coefficients, overal model significance and other related factors from the results table"
   ]
  },
  {
   "cell_type": "code",
   "execution_count": 12,
   "metadata": {},
   "outputs": [
    {
     "data": {
      "text/html": [
       "<table class=\"simpletable\">\n",
       "<tr>\n",
       "        <td>Model:</td>               <td>OLS</td>         <td>Adj. R-squared:</td>     <td>0.765</td>  \n",
       "</tr>\n",
       "<tr>\n",
       "  <td>Dependent Variable:</td>         <td>Y</td>               <td>AIC:</td>         <td>2370.9385</td>\n",
       "</tr>\n",
       "<tr>\n",
       "         <td>Date:</td>        <td>2021-03-12 20:12</td>        <td>BIC:</td>         <td>2426.9583</td>\n",
       "</tr>\n",
       "<tr>\n",
       "   <td>No. Observations:</td>         <td>404</td>         <td>Log-Likelihood:</td>    <td>-1171.5</td> \n",
       "</tr>\n",
       "<tr>\n",
       "       <td>Df Model:</td>             <td>13</td>           <td>F-statistic:</td>       <td>102.2</td>  \n",
       "</tr>\n",
       "<tr>\n",
       "     <td>Df Residuals:</td>           <td>390</td>       <td>Prob (F-statistic):</td> <td>9.64e-117</td>\n",
       "</tr>\n",
       "<tr>\n",
       "      <td>R-squared:</td>            <td>0.773</td>            <td>Scale:</td>         <td>20.020</td>  \n",
       "</tr>\n",
       "</table>\n",
       "<table class=\"simpletable\">\n",
       "<tr>\n",
       "     <td></td>      <th>Coef.</th>  <th>Std.Err.</th>     <th>t</th>     <th>P>|t|</th> <th>[0.025</th>  <th>0.975]</th> \n",
       "</tr>\n",
       "<tr>\n",
       "  <th>const</th>   <td>22.6119</td>  <td>0.2226</td>  <td>101.5764</td> <td>0.0000</td> <td>22.1742</td> <td>23.0495</td>\n",
       "</tr>\n",
       "<tr>\n",
       "  <th>CRIM</th>    <td>-0.9708</td>  <td>0.2980</td>   <td>-3.2575</td> <td>0.0012</td> <td>-1.5568</td> <td>-0.3849</td>\n",
       "</tr>\n",
       "<tr>\n",
       "  <th>ZN</th>      <td>1.0571</td>   <td>0.3408</td>   <td>3.1022</td>  <td>0.0021</td> <td>0.3872</td>  <td>1.7271</td> \n",
       "</tr>\n",
       "<tr>\n",
       "  <th>INDUS</th>   <td>0.0383</td>   <td>0.4428</td>   <td>0.0865</td>  <td>0.9311</td> <td>-0.8324</td> <td>0.9090</td> \n",
       "</tr>\n",
       "<tr>\n",
       "  <th>CHAS</th>    <td>0.5945</td>   <td>0.2291</td>   <td>2.5946</td>  <td>0.0098</td> <td>0.1440</td>  <td>1.0450</td> \n",
       "</tr>\n",
       "<tr>\n",
       "  <th>NOX</th>     <td>-1.8551</td>  <td>0.4846</td>   <td>-3.8282</td> <td>0.0002</td> <td>-2.8079</td> <td>-0.9024</td>\n",
       "</tr>\n",
       "<tr>\n",
       "  <th>RM</th>      <td>2.5732</td>   <td>0.3175</td>   <td>8.1058</td>  <td>0.0000</td> <td>1.9491</td>  <td>3.1974</td> \n",
       "</tr>\n",
       "<tr>\n",
       "  <th>AGE</th>     <td>-0.0876</td>  <td>0.4022</td>   <td>-0.2178</td> <td>0.8277</td> <td>-0.8784</td> <td>0.7032</td> \n",
       "</tr>\n",
       "<tr>\n",
       "  <th>DIS</th>     <td>-2.8809</td>  <td>0.4446</td>   <td>-6.4800</td> <td>0.0000</td> <td>-3.7550</td> <td>-2.0068</td>\n",
       "</tr>\n",
       "<tr>\n",
       "  <th>RAD</th>     <td>2.1122</td>   <td>0.6069</td>   <td>3.4805</td>  <td>0.0006</td> <td>0.9191</td>  <td>3.3054</td> \n",
       "</tr>\n",
       "<tr>\n",
       "  <th>TAX</th>     <td>-1.8753</td>  <td>0.6652</td>   <td>-2.8191</td> <td>0.0051</td> <td>-3.1832</td> <td>-0.5675</td>\n",
       "</tr>\n",
       "<tr>\n",
       "  <th>PTRATIO</th> <td>-2.2928</td>  <td>0.3003</td>   <td>-7.6359</td> <td>0.0000</td> <td>-2.8831</td> <td>-1.7024</td>\n",
       "</tr>\n",
       "<tr>\n",
       "  <th>B</th>       <td>0.7182</td>   <td>0.2613</td>   <td>2.7486</td>  <td>0.0063</td> <td>0.2045</td>  <td>1.2319</td> \n",
       "</tr>\n",
       "<tr>\n",
       "  <th>LSTAT</th>   <td>-3.5925</td>  <td>0.3954</td>   <td>-9.0855</td> <td>0.0000</td> <td>-4.3698</td> <td>-2.8151</td>\n",
       "</tr>\n",
       "</table>\n",
       "<table class=\"simpletable\">\n",
       "<tr>\n",
       "     <td>Omnibus:</td>    <td>141.494</td>  <td>Durbin-Watson:</td>    <td>1.996</td> \n",
       "</tr>\n",
       "<tr>\n",
       "  <td>Prob(Omnibus):</td>  <td>0.000</td>  <td>Jarque-Bera (JB):</td> <td>629.882</td>\n",
       "</tr>\n",
       "<tr>\n",
       "       <td>Skew:</td>      <td>1.470</td>      <td>Prob(JB):</td>      <td>0.000</td> \n",
       "</tr>\n",
       "<tr>\n",
       "     <td>Kurtosis:</td>    <td>8.365</td>   <td>Condition No.:</td>     <td>10</td>   \n",
       "</tr>\n",
       "</table>"
      ],
      "text/plain": [
       "<class 'statsmodels.iolib.summary2.Summary'>\n",
       "\"\"\"\n",
       "                 Results: Ordinary least squares\n",
       "==================================================================\n",
       "Model:              OLS              Adj. R-squared:     0.765    \n",
       "Dependent Variable: Y                AIC:                2370.9385\n",
       "Date:               2021-03-12 20:12 BIC:                2426.9583\n",
       "No. Observations:   404              Log-Likelihood:     -1171.5  \n",
       "Df Model:           13               F-statistic:        102.2    \n",
       "Df Residuals:       390              Prob (F-statistic): 9.64e-117\n",
       "R-squared:          0.773            Scale:              20.020   \n",
       "--------------------------------------------------------------------\n",
       "           Coef.    Std.Err.      t       P>|t|     [0.025    0.975]\n",
       "--------------------------------------------------------------------\n",
       "const     22.6119     0.2226   101.5764   0.0000   22.1742   23.0495\n",
       "CRIM      -0.9708     0.2980    -3.2575   0.0012   -1.5568   -0.3849\n",
       "ZN         1.0571     0.3408     3.1022   0.0021    0.3872    1.7271\n",
       "INDUS      0.0383     0.4428     0.0865   0.9311   -0.8324    0.9090\n",
       "CHAS       0.5945     0.2291     2.5946   0.0098    0.1440    1.0450\n",
       "NOX       -1.8551     0.4846    -3.8282   0.0002   -2.8079   -0.9024\n",
       "RM         2.5732     0.3175     8.1058   0.0000    1.9491    3.1974\n",
       "AGE       -0.0876     0.4022    -0.2178   0.8277   -0.8784    0.7032\n",
       "DIS       -2.8809     0.4446    -6.4800   0.0000   -3.7550   -2.0068\n",
       "RAD        2.1122     0.6069     3.4805   0.0006    0.9191    3.3054\n",
       "TAX       -1.8753     0.6652    -2.8191   0.0051   -3.1832   -0.5675\n",
       "PTRATIO   -2.2928     0.3003    -7.6359   0.0000   -2.8831   -1.7024\n",
       "B          0.7182     0.2613     2.7486   0.0063    0.2045    1.2319\n",
       "LSTAT     -3.5925     0.3954    -9.0855   0.0000   -4.3698   -2.8151\n",
       "------------------------------------------------------------------\n",
       "Omnibus:             141.494       Durbin-Watson:          1.996  \n",
       "Prob(Omnibus):       0.000         Jarque-Bera (JB):       629.882\n",
       "Skew:                1.470         Prob(JB):               0.000  \n",
       "Kurtosis:            8.365         Condition No.:          10     \n",
       "==================================================================\n",
       "\n",
       "\"\"\""
      ]
     },
     "execution_count": 12,
     "metadata": {},
     "output_type": "execute_result"
    }
   ],
   "source": [
    "lr.summary2()"
   ]
  },
  {
   "cell_type": "markdown",
   "metadata": {},
   "source": [
    "На уровене значимости $0.05$ следующие признаки имеют нулевые веса:\n",
    "* INDUS\n",
    "* AGE"
   ]
  },
  {
   "cell_type": "code",
   "execution_count": 13,
   "metadata": {},
   "outputs": [
    {
     "name": "stdout",
     "output_type": "stream",
     "text": [
      "['INDUS' 'AGE']\n"
     ]
    }
   ],
   "source": [
    "print(lr.pvalues[lr.pvalues > 0.05].index.values)"
   ]
  },
  {
   "cell_type": "markdown",
   "metadata": {},
   "source": [
    "Значение p-value для F статистики равно $9.64 \\times 10^{-117}$, что намного меньше чем $0.05$. Поэтому на уровене значимости $0.05$ модель является значимой, т.е. предсказывает зависимую переменную лучше чем модель состоящяя только из константы"
   ]
  },
  {
   "cell_type": "code",
   "execution_count": 14,
   "metadata": {},
   "outputs": [
    {
     "data": {
      "text/html": [
       "<table class=\"simpletable\">\n",
       "<tr>\n",
       "        <td>Model:</td>               <td>OLS</td>         <td>Adj. R-squared:</td>     <td>0.765</td>  \n",
       "</tr>\n",
       "<tr>\n",
       "  <td>Dependent Variable:</td>         <td>Y</td>               <td>AIC:</td>         <td>2372.3540</td>\n",
       "</tr>\n",
       "<tr>\n",
       "         <td>Date:</td>        <td>2021-03-12 20:12</td>        <td>BIC:</td>         <td>2428.3738</td>\n",
       "</tr>\n",
       "<tr>\n",
       "   <td>No. Observations:</td>         <td>404</td>         <td>Log-Likelihood:</td>    <td>-1172.2</td> \n",
       "</tr>\n",
       "<tr>\n",
       "       <td>Df Model:</td>             <td>13</td>           <td>F-statistic:</td>       <td>101.7</td>  \n",
       "</tr>\n",
       "<tr>\n",
       "     <td>Df Residuals:</td>           <td>390</td>       <td>Prob (F-statistic):</td> <td>1.90e-116</td>\n",
       "</tr>\n",
       "<tr>\n",
       "      <td>R-squared:</td>            <td>0.772</td>            <td>Scale:</td>         <td>20.091</td>  \n",
       "</tr>\n",
       "</table>\n",
       "<table class=\"simpletable\">\n",
       "<tr>\n",
       "     <td></td>      <th>Coef.</th>  <th>Std.Err.</th>     <th>t</th>     <th>P>|t|</th> <th>[0.025</th>  <th>0.975]</th> \n",
       "</tr>\n",
       "<tr>\n",
       "  <th>const</th>   <td>22.3880</td>  <td>0.2230</td>  <td>100.3946</td> <td>0.0000</td> <td>21.9496</td> <td>22.8264</td>\n",
       "</tr>\n",
       "<tr>\n",
       "  <th>CRIM</th>    <td>-0.9389</td>  <td>0.2986</td>   <td>-3.1449</td> <td>0.0018</td> <td>-1.5259</td> <td>-0.3519</td>\n",
       "</tr>\n",
       "<tr>\n",
       "  <th>ZN</th>      <td>0.9965</td>   <td>0.3414</td>   <td>2.9190</td>  <td>0.0037</td> <td>0.3253</td>  <td>1.6676</td> \n",
       "</tr>\n",
       "<tr>\n",
       "  <th>INDUS</th>   <td>-0.0576</td>  <td>0.4436</td>   <td>-0.1298</td> <td>0.8968</td> <td>-0.9298</td> <td>0.8146</td> \n",
       "</tr>\n",
       "<tr>\n",
       "  <th>CHAS</th>    <td>0.6098</td>   <td>0.2295</td>   <td>2.6566</td>  <td>0.0082</td> <td>0.1585</td>  <td>1.0611</td> \n",
       "</tr>\n",
       "<tr>\n",
       "  <th>NOX</th>     <td>-1.7222</td>  <td>0.4854</td>   <td>-3.5477</td> <td>0.0004</td> <td>-2.6766</td> <td>-0.7678</td>\n",
       "</tr>\n",
       "<tr>\n",
       "  <th>RM</th>      <td>2.6120</td>   <td>0.3180</td>   <td>8.2135</td>  <td>0.0000</td> <td>1.9868</td>  <td>3.2372</td> \n",
       "</tr>\n",
       "<tr>\n",
       "  <th>AGE</th>     <td>-0.1155</td>  <td>0.4029</td>   <td>-0.2867</td> <td>0.7745</td> <td>-0.9078</td> <td>0.6767</td> \n",
       "</tr>\n",
       "<tr>\n",
       "  <th>DIS</th>     <td>-2.7539</td>  <td>0.4454</td>   <td>-6.1834</td> <td>0.0000</td> <td>-3.6295</td> <td>-1.8783</td>\n",
       "</tr>\n",
       "<tr>\n",
       "  <th>RAD</th>     <td>1.8348</td>   <td>0.6079</td>   <td>3.0181</td>  <td>0.0027</td> <td>0.6396</td>  <td>3.0301</td> \n",
       "</tr>\n",
       "<tr>\n",
       "  <th>TAX</th>     <td>-1.6265</td>  <td>0.6664</td>   <td>-2.4407</td> <td>0.0151</td> <td>-2.9366</td> <td>-0.3163</td>\n",
       "</tr>\n",
       "<tr>\n",
       "  <th>PTRATIO</th> <td>-2.2561</td>  <td>0.3008</td>   <td>-7.5007</td> <td>0.0000</td> <td>-2.8475</td> <td>-1.6648</td>\n",
       "</tr>\n",
       "<tr>\n",
       "  <th>B</th>       <td>0.7188</td>   <td>0.2617</td>   <td>2.7463</td>  <td>0.0063</td> <td>0.2042</td>  <td>1.2334</td> \n",
       "</tr>\n",
       "<tr>\n",
       "  <th>LSTAT</th>   <td>-3.5287</td>  <td>0.3961</td>   <td>-8.9086</td> <td>0.0000</td> <td>-4.3074</td> <td>-2.7499</td>\n",
       "</tr>\n",
       "</table>\n",
       "<table class=\"simpletable\">\n",
       "<tr>\n",
       "     <td>Omnibus:</td>    <td>147.660</td>  <td>Durbin-Watson:</td>    <td>1.990</td> \n",
       "</tr>\n",
       "<tr>\n",
       "  <td>Prob(Omnibus):</td>  <td>0.000</td>  <td>Jarque-Bera (JB):</td> <td>694.793</td>\n",
       "</tr>\n",
       "<tr>\n",
       "       <td>Skew:</td>      <td>1.521</td>      <td>Prob(JB):</td>      <td>0.000</td> \n",
       "</tr>\n",
       "<tr>\n",
       "     <td>Kurtosis:</td>    <td>8.659</td>   <td>Condition No.:</td>     <td>10</td>   \n",
       "</tr>\n",
       "</table>"
      ],
      "text/plain": [
       "<class 'statsmodels.iolib.summary2.Summary'>\n",
       "\"\"\"\n",
       "                 Results: Ordinary least squares\n",
       "==================================================================\n",
       "Model:              OLS              Adj. R-squared:     0.765    \n",
       "Dependent Variable: Y                AIC:                2372.3540\n",
       "Date:               2021-03-12 20:12 BIC:                2428.3738\n",
       "No. Observations:   404              Log-Likelihood:     -1172.2  \n",
       "Df Model:           13               F-statistic:        101.7    \n",
       "Df Residuals:       390              Prob (F-statistic): 1.90e-116\n",
       "R-squared:          0.772            Scale:              20.091   \n",
       "--------------------------------------------------------------------\n",
       "           Coef.    Std.Err.      t       P>|t|     [0.025    0.975]\n",
       "--------------------------------------------------------------------\n",
       "const     22.3880     0.2230   100.3946   0.0000   21.9496   22.8264\n",
       "CRIM      -0.9389     0.2986    -3.1449   0.0018   -1.5259   -0.3519\n",
       "ZN         0.9965     0.3414     2.9190   0.0037    0.3253    1.6676\n",
       "INDUS     -0.0576     0.4436    -0.1298   0.8968   -0.9298    0.8146\n",
       "CHAS       0.6098     0.2295     2.6566   0.0082    0.1585    1.0611\n",
       "NOX       -1.7222     0.4854    -3.5477   0.0004   -2.6766   -0.7678\n",
       "RM         2.6120     0.3180     8.2135   0.0000    1.9868    3.2372\n",
       "AGE       -0.1155     0.4029    -0.2867   0.7745   -0.9078    0.6767\n",
       "DIS       -2.7539     0.4454    -6.1834   0.0000   -3.6295   -1.8783\n",
       "RAD        1.8348     0.6079     3.0181   0.0027    0.6396    3.0301\n",
       "TAX       -1.6265     0.6664    -2.4407   0.0151   -2.9366   -0.3163\n",
       "PTRATIO   -2.2561     0.3008    -7.5007   0.0000   -2.8475   -1.6648\n",
       "B          0.7188     0.2617     2.7463   0.0063    0.2042    1.2334\n",
       "LSTAT     -3.5287     0.3961    -8.9086   0.0000   -4.3074   -2.7499\n",
       "------------------------------------------------------------------\n",
       "Omnibus:             147.660       Durbin-Watson:          1.990  \n",
       "Prob(Omnibus):       0.000         Jarque-Bera (JB):       694.793\n",
       "Skew:                1.521         Prob(JB):               0.000  \n",
       "Kurtosis:            8.659         Condition No.:          10     \n",
       "==================================================================\n",
       "\n",
       "\"\"\""
      ]
     },
     "execution_count": 14,
     "metadata": {},
     "output_type": "execute_result"
    }
   ],
   "source": [
    "ridge.summary2()"
   ]
  },
  {
   "cell_type": "markdown",
   "metadata": {},
   "source": [
    "На уровене значимости $0.05$ следующие признаки имеют нулевые веса:\n",
    "* INDUS\n",
    "* AGE"
   ]
  },
  {
   "cell_type": "code",
   "execution_count": 15,
   "metadata": {},
   "outputs": [
    {
     "name": "stdout",
     "output_type": "stream",
     "text": [
      "['INDUS' 'AGE']\n"
     ]
    }
   ],
   "source": [
    "print(x_train_scaled.columns[ridge.pvalues > 0.05].values)"
   ]
  },
  {
   "cell_type": "markdown",
   "metadata": {},
   "source": [
    "На уровне значимости $0.01$ также признак **TAX** имеет нулевой вес:"
   ]
  },
  {
   "cell_type": "code",
   "execution_count": 16,
   "metadata": {},
   "outputs": [
    {
     "name": "stdout",
     "output_type": "stream",
     "text": [
      "['INDUS' 'AGE' 'TAX']\n"
     ]
    }
   ],
   "source": [
    "print(x_train_scaled.columns[ridge.pvalues > 0.01].values)"
   ]
  },
  {
   "cell_type": "code",
   "execution_count": 17,
   "metadata": {},
   "outputs": [
    {
     "data": {
      "text/html": [
       "<table class=\"simpletable\">\n",
       "<tr>\n",
       "        <td>Model:</td>               <td>OLS</td>         <td>Adj. R-squared:</td>     <td>0.765</td>  \n",
       "</tr>\n",
       "<tr>\n",
       "  <td>Dependent Variable:</td>         <td>Y</td>               <td>AIC:</td>         <td>2371.0439</td>\n",
       "</tr>\n",
       "<tr>\n",
       "         <td>Date:</td>        <td>2021-03-12 20:12</td>        <td>BIC:</td>         <td>2427.0637</td>\n",
       "</tr>\n",
       "<tr>\n",
       "   <td>No. Observations:</td>         <td>404</td>         <td>Log-Likelihood:</td>    <td>-1171.5</td> \n",
       "</tr>\n",
       "<tr>\n",
       "       <td>Df Model:</td>             <td>13</td>           <td>F-statistic:</td>       <td>102.1</td>  \n",
       "</tr>\n",
       "<tr>\n",
       "     <td>Df Residuals:</td>           <td>390</td>       <td>Prob (F-statistic):</td> <td>1.01e-116</td>\n",
       "</tr>\n",
       "<tr>\n",
       "      <td>R-squared:</td>            <td>0.773</td>            <td>Scale:</td>         <td>20.025</td>  \n",
       "</tr>\n",
       "</table>\n",
       "<table class=\"simpletable\">\n",
       "<tr>\n",
       "     <td></td>      <th>Coef.</th>  <th>Std.Err.</th>     <th>t</th>     <th>P>|t|</th> <th>[0.025</th>  <th>0.975]</th> \n",
       "</tr>\n",
       "<tr>\n",
       "  <th>const</th>   <td>22.6019</td>  <td>0.2226</td>  <td>101.5182</td> <td>0.0000</td> <td>22.1642</td> <td>23.0396</td>\n",
       "</tr>\n",
       "<tr>\n",
       "  <th>CRIM</th>    <td>-0.9403</td>  <td>0.2981</td>   <td>-3.1547</td> <td>0.0017</td> <td>-1.5263</td> <td>-0.3543</td>\n",
       "</tr>\n",
       "<tr>\n",
       "  <th>ZN</th>      <td>1.0215</td>   <td>0.3408</td>   <td>2.9972</td>  <td>0.0029</td> <td>0.3514</td>  <td>1.6916</td> \n",
       "</tr>\n",
       "<tr>\n",
       "  <th>INDUS</th>   <td>0.0000</td>   <td>0.4429</td>   <td>0.0000</td>  <td>1.0000</td> <td>-0.8708</td> <td>0.8708</td> \n",
       "</tr>\n",
       "<tr>\n",
       "  <th>CHAS</th>    <td>0.5948</td>   <td>0.2292</td>   <td>2.5955</td>  <td>0.0098</td> <td>0.1442</td>  <td>1.0453</td> \n",
       "</tr>\n",
       "<tr>\n",
       "  <th>NOX</th>     <td>-1.8029</td>  <td>0.4847</td>   <td>-3.7200</td> <td>0.0002</td> <td>-2.7558</td> <td>-0.8500</td>\n",
       "</tr>\n",
       "<tr>\n",
       "  <th>RM</th>      <td>2.5852</td>   <td>0.3175</td>   <td>8.1423</td>  <td>0.0000</td> <td>1.9609</td>  <td>3.2094</td> \n",
       "</tr>\n",
       "<tr>\n",
       "  <th>AGE</th>     <td>-0.0690</td>  <td>0.4023</td>   <td>-0.1715</td> <td>0.8639</td> <td>-0.8599</td> <td>0.7220</td> \n",
       "</tr>\n",
       "<tr>\n",
       "  <th>DIS</th>     <td>-2.8085</td>  <td>0.4446</td>   <td>-6.3162</td> <td>0.0000</td> <td>-3.6827</td> <td>-1.9343</td>\n",
       "</tr>\n",
       "<tr>\n",
       "  <th>RAD</th>     <td>1.9567</td>   <td>0.6070</td>   <td>3.2238</td>  <td>0.0014</td> <td>0.7634</td>  <td>3.1501</td> \n",
       "</tr>\n",
       "<tr>\n",
       "  <th>TAX</th>     <td>-1.7392</td>  <td>0.6653</td>   <td>-2.6141</td> <td>0.0093</td> <td>-3.0472</td> <td>-0.4311</td>\n",
       "</tr>\n",
       "<tr>\n",
       "  <th>PTRATIO</th> <td>-2.2788</td>  <td>0.3003</td>   <td>-7.5884</td> <td>0.0000</td> <td>-2.8692</td> <td>-1.6884</td>\n",
       "</tr>\n",
       "<tr>\n",
       "  <th>B</th>       <td>0.7056</td>   <td>0.2613</td>   <td>2.7000</td>  <td>0.0072</td> <td>0.1918</td>  <td>1.2193</td> \n",
       "</tr>\n",
       "<tr>\n",
       "  <th>LSTAT</th>   <td>-3.5969</td>  <td>0.3955</td>   <td>-9.0956</td> <td>0.0000</td> <td>-4.3744</td> <td>-2.8194</td>\n",
       "</tr>\n",
       "</table>\n",
       "<table class=\"simpletable\">\n",
       "<tr>\n",
       "     <td>Omnibus:</td>    <td>143.585</td>  <td>Durbin-Watson:</td>    <td>1.997</td> \n",
       "</tr>\n",
       "<tr>\n",
       "  <td>Prob(Omnibus):</td>  <td>0.000</td>  <td>Jarque-Bera (JB):</td> <td>649.888</td>\n",
       "</tr>\n",
       "<tr>\n",
       "       <td>Skew:</td>      <td>1.488</td>      <td>Prob(JB):</td>      <td>0.000</td> \n",
       "</tr>\n",
       "<tr>\n",
       "     <td>Kurtosis:</td>    <td>8.455</td>   <td>Condition No.:</td>     <td>10</td>   \n",
       "</tr>\n",
       "</table>"
      ],
      "text/plain": [
       "<class 'statsmodels.iolib.summary2.Summary'>\n",
       "\"\"\"\n",
       "                 Results: Ordinary least squares\n",
       "==================================================================\n",
       "Model:              OLS              Adj. R-squared:     0.765    \n",
       "Dependent Variable: Y                AIC:                2371.0439\n",
       "Date:               2021-03-12 20:12 BIC:                2427.0637\n",
       "No. Observations:   404              Log-Likelihood:     -1171.5  \n",
       "Df Model:           13               F-statistic:        102.1    \n",
       "Df Residuals:       390              Prob (F-statistic): 1.01e-116\n",
       "R-squared:          0.773            Scale:              20.025   \n",
       "--------------------------------------------------------------------\n",
       "           Coef.    Std.Err.      t       P>|t|     [0.025    0.975]\n",
       "--------------------------------------------------------------------\n",
       "const     22.6019     0.2226   101.5182   0.0000   22.1642   23.0396\n",
       "CRIM      -0.9403     0.2981    -3.1547   0.0017   -1.5263   -0.3543\n",
       "ZN         1.0215     0.3408     2.9972   0.0029    0.3514    1.6916\n",
       "INDUS      0.0000     0.4429     0.0000   1.0000   -0.8708    0.8708\n",
       "CHAS       0.5948     0.2292     2.5955   0.0098    0.1442    1.0453\n",
       "NOX       -1.8029     0.4847    -3.7200   0.0002   -2.7558   -0.8500\n",
       "RM         2.5852     0.3175     8.1423   0.0000    1.9609    3.2094\n",
       "AGE       -0.0690     0.4023    -0.1715   0.8639   -0.8599    0.7220\n",
       "DIS       -2.8085     0.4446    -6.3162   0.0000   -3.6827   -1.9343\n",
       "RAD        1.9567     0.6070     3.2238   0.0014    0.7634    3.1501\n",
       "TAX       -1.7392     0.6653    -2.6141   0.0093   -3.0472   -0.4311\n",
       "PTRATIO   -2.2788     0.3003    -7.5884   0.0000   -2.8692   -1.6884\n",
       "B          0.7056     0.2613     2.7000   0.0072    0.1918    1.2193\n",
       "LSTAT     -3.5969     0.3955    -9.0956   0.0000   -4.3744   -2.8194\n",
       "------------------------------------------------------------------\n",
       "Omnibus:             143.585       Durbin-Watson:          1.997  \n",
       "Prob(Omnibus):       0.000         Jarque-Bera (JB):       649.888\n",
       "Skew:                1.488         Prob(JB):               0.000  \n",
       "Kurtosis:            8.455         Condition No.:          10     \n",
       "==================================================================\n",
       "\n",
       "\"\"\""
      ]
     },
     "execution_count": 17,
     "metadata": {},
     "output_type": "execute_result"
    }
   ],
   "source": [
    "lasso.summary2()"
   ]
  },
  {
   "cell_type": "markdown",
   "metadata": {},
   "source": [
    "На уровене значимости $0.05$ следующие признаки имеют нулевые веса:\n",
    "* INDUS\n",
    "* AGE"
   ]
  },
  {
   "cell_type": "code",
   "execution_count": 18,
   "metadata": {},
   "outputs": [
    {
     "name": "stdout",
     "output_type": "stream",
     "text": [
      "['INDUS' 'AGE']\n"
     ]
    }
   ],
   "source": [
    "print(x_train_scaled.columns[lasso.pvalues > 0.05].values)"
   ]
  },
  {
   "cell_type": "markdown",
   "metadata": {},
   "source": [
    "#### 4. [1 point] Implement one of the elimination algorithms that were described in the Seminar_4 (Elimination by P-value, Forward elimination, Backward elimination), make conclusions."
   ]
  },
  {
   "cell_type": "code",
   "execution_count": 19,
   "metadata": {},
   "outputs": [],
   "source": [
    "def eliminate_by_pvalue(model, alpha):\n",
    "    if not isinstance(model, sm.OLS):\n",
    "        raise Exception('only OLS models are supported')\n",
    "        \n",
    "    x = DataFrame(data=model.exog, columns=[model.exog_names]) \n",
    "    y = DataFrame(data=model.endog, columns=[model.endog_names])\n",
    "    \n",
    "    max_iter = model.exog.shape[1]\n",
    "    \n",
    "    for i in range(max_iter):\n",
    "        res = sm.OLS(y, x).fit()\n",
    "        max_pvalue = res.pvalues.max()\n",
    "        if(max_pvalue < alpha):\n",
    "            break\n",
    "        col_to_drop = res.pvalues.index.values[res.pvalues.argmax()]\n",
    "        x.drop(labels=col_to_drop, axis=1, level=0, inplace=True)\n",
    "    \n",
    "    return sm.OLS(y, x)"
   ]
  },
  {
   "cell_type": "code",
   "execution_count": 20,
   "metadata": {},
   "outputs": [
    {
     "data": {
      "text/html": [
       "<table class=\"simpletable\">\n",
       "<tr>\n",
       "        <td>Model:</td>               <td>OLS</td>         <td>Adj. R-squared:</td>     <td>0.767</td>  \n",
       "</tr>\n",
       "<tr>\n",
       "  <td>Dependent Variable:</td>         <td>Y</td>               <td>AIC:</td>         <td>2366.9962</td>\n",
       "</tr>\n",
       "<tr>\n",
       "         <td>Date:</td>        <td>2021-03-12 20:12</td>        <td>BIC:</td>         <td>2415.0132</td>\n",
       "</tr>\n",
       "<tr>\n",
       "   <td>No. Observations:</td>         <td>404</td>         <td>Log-Likelihood:</td>    <td>-1171.5</td> \n",
       "</tr>\n",
       "<tr>\n",
       "       <td>Df Model:</td>             <td>11</td>           <td>F-statistic:</td>       <td>121.3</td>  \n",
       "</tr>\n",
       "<tr>\n",
       "     <td>Df Residuals:</td>           <td>392</td>       <td>Prob (F-statistic):</td> <td>8.15e-119</td>\n",
       "</tr>\n",
       "<tr>\n",
       "      <td>R-squared:</td>            <td>0.773</td>            <td>Scale:</td>         <td>19.921</td>  \n",
       "</tr>\n",
       "</table>\n",
       "<table class=\"simpletable\">\n",
       "<tr>\n",
       "     <td></td>      <th>Coef.</th>  <th>Std.Err.</th>     <th>t</th>     <th>P>|t|</th> <th>[0.025</th>  <th>0.975]</th> \n",
       "</tr>\n",
       "<tr>\n",
       "  <th>const</th>   <td>22.6119</td>  <td>0.2221</td>  <td>101.8292</td> <td>0.0000</td> <td>22.1753</td> <td>23.0485</td>\n",
       "</tr>\n",
       "<tr>\n",
       "  <th>CRIM</th>    <td>-0.9694</td>  <td>0.2969</td>   <td>-3.2652</td> <td>0.0012</td> <td>-1.5531</td> <td>-0.3857</td>\n",
       "</tr>\n",
       "<tr>\n",
       "  <th>ZN</th>      <td>1.0657</td>   <td>0.3349</td>   <td>3.1817</td>  <td>0.0016</td> <td>0.4072</td>  <td>1.7242</td> \n",
       "</tr>\n",
       "<tr>\n",
       "  <th>CHAS</th>    <td>0.5950</td>   <td>0.2276</td>   <td>2.6145</td>  <td>0.0093</td> <td>0.1476</td>  <td>1.0425</td> \n",
       "</tr>\n",
       "<tr>\n",
       "  <th>NOX</th>     <td>-1.8752</td>  <td>0.4455</td>   <td>-4.2092</td> <td>0.0000</td> <td>-2.7511</td> <td>-0.9993</td>\n",
       "</tr>\n",
       "<tr>\n",
       "  <th>RM</th>      <td>2.5571</td>   <td>0.3092</td>   <td>8.2693</td>  <td>0.0000</td> <td>1.9492</td>  <td>3.1651</td> \n",
       "</tr>\n",
       "<tr>\n",
       "  <th>DIS</th>     <td>-2.8621</td>  <td>0.4144</td>   <td>-6.9062</td> <td>0.0000</td> <td>-3.6768</td> <td>-2.0473</td>\n",
       "</tr>\n",
       "<tr>\n",
       "  <th>RAD</th>     <td>2.1039</td>   <td>0.5729</td>   <td>3.6725</td>  <td>0.0003</td> <td>0.9776</td>  <td>3.2302</td> \n",
       "</tr>\n",
       "<tr>\n",
       "  <th>TAX</th>     <td>-1.8509</td>  <td>0.5893</td>   <td>-3.1410</td> <td>0.0018</td> <td>-3.0094</td> <td>-0.6924</td>\n",
       "</tr>\n",
       "<tr>\n",
       "  <th>PTRATIO</th> <td>-2.2922</td>  <td>0.2953</td>   <td>-7.7616</td> <td>0.0000</td> <td>-2.8729</td> <td>-1.7116</td>\n",
       "</tr>\n",
       "<tr>\n",
       "  <th>B</th>       <td>0.7116</td>   <td>0.2591</td>   <td>2.7460</td>  <td>0.0063</td> <td>0.2021</td>  <td>1.2211</td> \n",
       "</tr>\n",
       "<tr>\n",
       "  <th>LSTAT</th>   <td>-3.6205</td>  <td>0.3676</td>   <td>-9.8482</td> <td>0.0000</td> <td>-4.3433</td> <td>-2.8977</td>\n",
       "</tr>\n",
       "</table>\n",
       "<table class=\"simpletable\">\n",
       "<tr>\n",
       "     <td>Omnibus:</td>    <td>140.146</td>  <td>Durbin-Watson:</td>    <td>1.999</td> \n",
       "</tr>\n",
       "<tr>\n",
       "  <td>Prob(Omnibus):</td>  <td>0.000</td>  <td>Jarque-Bera (JB):</td> <td>614.839</td>\n",
       "</tr>\n",
       "<tr>\n",
       "       <td>Skew:</td>      <td>1.459</td>      <td>Prob(JB):</td>      <td>0.000</td> \n",
       "</tr>\n",
       "<tr>\n",
       "     <td>Kurtosis:</td>    <td>8.292</td>   <td>Condition No.:</td>      <td>8</td>   \n",
       "</tr>\n",
       "</table>"
      ],
      "text/plain": [
       "<class 'statsmodels.iolib.summary2.Summary'>\n",
       "\"\"\"\n",
       "                 Results: Ordinary least squares\n",
       "==================================================================\n",
       "Model:              OLS              Adj. R-squared:     0.767    \n",
       "Dependent Variable: Y                AIC:                2366.9962\n",
       "Date:               2021-03-12 20:12 BIC:                2415.0132\n",
       "No. Observations:   404              Log-Likelihood:     -1171.5  \n",
       "Df Model:           11               F-statistic:        121.3    \n",
       "Df Residuals:       392              Prob (F-statistic): 8.15e-119\n",
       "R-squared:          0.773            Scale:              19.921   \n",
       "--------------------------------------------------------------------\n",
       "           Coef.    Std.Err.      t       P>|t|     [0.025    0.975]\n",
       "--------------------------------------------------------------------\n",
       "const     22.6119     0.2221   101.8292   0.0000   22.1753   23.0485\n",
       "CRIM      -0.9694     0.2969    -3.2652   0.0012   -1.5531   -0.3857\n",
       "ZN         1.0657     0.3349     3.1817   0.0016    0.4072    1.7242\n",
       "CHAS       0.5950     0.2276     2.6145   0.0093    0.1476    1.0425\n",
       "NOX       -1.8752     0.4455    -4.2092   0.0000   -2.7511   -0.9993\n",
       "RM         2.5571     0.3092     8.2693   0.0000    1.9492    3.1651\n",
       "DIS       -2.8621     0.4144    -6.9062   0.0000   -3.6768   -2.0473\n",
       "RAD        2.1039     0.5729     3.6725   0.0003    0.9776    3.2302\n",
       "TAX       -1.8509     0.5893    -3.1410   0.0018   -3.0094   -0.6924\n",
       "PTRATIO   -2.2922     0.2953    -7.7616   0.0000   -2.8729   -1.7116\n",
       "B          0.7116     0.2591     2.7460   0.0063    0.2021    1.2211\n",
       "LSTAT     -3.6205     0.3676    -9.8482   0.0000   -4.3433   -2.8977\n",
       "------------------------------------------------------------------\n",
       "Omnibus:             140.146       Durbin-Watson:          1.999  \n",
       "Prob(Omnibus):       0.000         Jarque-Bera (JB):       614.839\n",
       "Skew:                1.459         Prob(JB):               0.000  \n",
       "Kurtosis:            8.292         Condition No.:          8      \n",
       "==================================================================\n",
       "\n",
       "\"\"\""
      ]
     },
     "execution_count": 20,
     "metadata": {},
     "output_type": "execute_result"
    }
   ],
   "source": [
    "threshold = 0.05\n",
    "shrinked_model = eliminate_by_pvalue(model, threshold)\n",
    "shrinked_model.fit().summary2()"
   ]
  },
  {
   "cell_type": "markdown",
   "metadata": {},
   "source": [
    "Слегка улучшилась метрика $Adj. R^2$ "
   ]
  },
  {
   "cell_type": "markdown",
   "metadata": {},
   "source": [
    "#### 5. [1 point] Find the best (in terms of RMSE) $\\alpha$ for Ridge regression using cross-validation with 5 folds. You must select values from range $[10^{-4}, 10^{3}]$."
   ]
  },
  {
   "cell_type": "code",
   "execution_count": 35,
   "metadata": {},
   "outputs": [
    {
     "name": "stdout",
     "output_type": "stream",
     "text": [
      "best alpha: 7.1969\n",
      "best score: 4.5551\n",
      "RMSE : 4.4017\n",
      "R2   : 0.7724\n",
      "RMSE (test data): 5.8354\n",
      "R2   (test data): 0.5818\n"
     ]
    },
    {
     "data": {
      "text/plain": [
       "Text(0, 0.5, 'RMSE')"
      ]
     },
     "execution_count": 35,
     "metadata": {},
     "output_type": "execute_result"
    },
    {
     "data": {
      "image/png": "[encoded data removed]",
      "text/plain": [
       "<Figure size 1080x720 with 1 Axes>"
      ]
     },
     "metadata": {},
     "output_type": "display_data"
    }
   ],
   "source": [
    "from sklearn.model_selection import GridSearchCV\n",
    "from sklearn.linear_model import Ridge\n",
    "\n",
    "# alphas = 10 ** np.array(range(-4, 4), dtype=np.float)\n",
    "alphas = np.logspace(-4, 3, 50)\n",
    "folds = 5\n",
    "\n",
    "searcher = GridSearchCV(Ridge(), {'alpha' : alphas}, scoring='neg_root_mean_squared_error', cv=folds)\n",
    "searcher.fit(x_train_scaled, y_train)\n",
    "\n",
    "print('best alpha: %.4f' % searcher.best_params_['alpha'])\n",
    "print('best score: %.4f' % -searcher.best_score_)\n",
    "\n",
    "y_predicted = searcher.predict(x_train_scaled)\n",
    "y_predicted_test = searcher.predict(x_test_scaled)\n",
    "\n",
    "print('RMSE : %.4f' % sklearn.metrics.mean_squared_error(y_predicted, y_train, squared=False))\n",
    "print('R2   : %.4f' % sklearn.metrics.r2_score(y_train, y_predicted))\n",
    "\n",
    "print('RMSE (test data): %.4f' % sklearn.metrics.mean_squared_error(y_predicted_test, y_test, squared=False))\n",
    "print('R2   (test data): %.4f' % sklearn.metrics.r2_score(y_test, y_predicted_test))\n",
    "\n",
    "plt.figure(figsize=(15,10))\n",
    "plt.plot(np.log10(alphas), -searcher.cv_results_[\"mean_test_score\"])\n",
    "plt.xlabel('log10(alpha)')\n",
    "plt.ylabel('RMSE')"
   ]
  },
  {
   "cell_type": "markdown",
   "metadata": {},
   "source": [
    "## Gradient descent\n",
    "\n",
    "#### 6. [3.5 points] Implement a linear regression model for the MSE loss function, trained by gradient descent.\n",
    "\n",
    "All calculations must be vectorized, and python loops can only be used for gradient descent iterations. As a stop criterion, you must use (simultaneously):\n",
    "\n",
    "* checking for the Euclidean norm of the weight difference on two adjacent iterations (for example, less than some small number of the order of $10^{-6}$, set by the `tolerance` parameter);\n",
    "* reaching the maximum number of iterations (for example, 10000, set by the `max_iter` parameter).\n",
    "\n",
    "You need to implement:\n",
    "\n",
    "* Full gradient descent:\n",
    "\n",
    "$$\n",
    "w_{k + 1} = w_{k} - \\eta_{k} \\nabla_{w} Q(w_{k}).\n",
    "$$\n",
    "\n",
    "* Stochastic Gradient Descent:\n",
    "\n",
    "$$\n",
    "w_{k + 1} = w_{k} - \\eta_{k} \\nabla_{w} q_{i_{k}}(w_{k}).\n",
    "$$\n",
    "\n",
    "$\\nabla_{w} q_{i_{k}}(w_{k}) \\, $ is the estimate of the gradient over the butch of objects selected randomly.\n",
    "\n",
    "* Momentum method:\n",
    "\n",
    "$$\n",
    "h_0 = 0, \\\\\n",
    "h_{k + 1} = \\alpha h_{k} + \\eta_k \\nabla_{w} Q(w_{k}), \\\\\n",
    "w_{k + 1} = w_{k} - h_{k + 1}.\n",
    "$$\n",
    "\n",
    "\n",
    "To make sure that the optimization process really converges, we will use the `loss_history` class attribute. After calling the `fit` method, it should contain the values of the loss function for all iterations, starting from the first one (before the first step on the anti-gradient).\n",
    "\n",
    "You need to initialize the weights with a zero or random (from a normal distribution) vector. The following is a template class that needs to contain the code implementing all variations of the models."
   ]
  },
  {
   "cell_type": "markdown",
   "metadata": {},
   "source": [
    "В коде ниже для обычного градиентного спуска и метода моментов learning rate вычисляется как: $$\\eta_t = \\frac{s0}{t}$$ где $s0$ - `eta`, т.е. шаг на первой итерации, $t$ - номер итерации. В стохастическом градиентном спуске использовалась функция: $$\\eta_t = \\lambda \\left(\\frac{s_0}{s_0 + t}\\right)^p$$"
   ]
  },
  {
   "cell_type": "code",
   "execution_count": 22,
   "metadata": {},
   "outputs": [],
   "source": [
    "from sklearn.base import BaseEstimator\n",
    "\n",
    "class LinReg(BaseEstimator):\n",
    "    def __init__(self, gd_type='Momentum', tolerance=1e-4, max_iter=1000, \n",
    "                 w0=None, eta=1e-2, alpha=1e-3, batch_size=None, lambda_param=0.1, p=0.5):\n",
    "        \"\"\"\n",
    "        gd_type: 'GradientDescent', 'StochasticDescent', 'Momentum'\n",
    "        tolerance: for stopping gradient descent\n",
    "        max_iter: maximum number of steps in gradient descent\n",
    "        w0: np.array of shape (d) - init weights\n",
    "        eta: learning rate\n",
    "        alpha: momentum coefficient\n",
    "        \"\"\"\n",
    "        self.gd_type = gd_type\n",
    "        self.tolerance = tolerance\n",
    "        self.max_iter = max_iter\n",
    "        self.w0 = w0\n",
    "        self.alpha = alpha\n",
    "        self.w = None\n",
    "        self.eta = eta\n",
    "        self.loss_history = None # list of loss function values at each training iteration\n",
    "        \n",
    "        ## custom attributes\n",
    "        self.batch_size = batch_size\n",
    "        self.lambda_param = lambda_param\n",
    "        self.p = p\n",
    "    \n",
    "    def default_w0(len):\n",
    "        return np.random.uniform(-1, 1, len)\n",
    "        \n",
    "    def fit(self, X, y):\n",
    "        \"\"\"\n",
    "        X: np.array of shape (l, d)\n",
    "        y: np.array of shape (l)\n",
    "        ---\n",
    "        output: self\n",
    "        \"\"\"        \n",
    "        \n",
    "        self.w0 = LinReg.default_w0(X.shape[1]) if self.w0 is None else self.w0\n",
    "        \n",
    "        self.loss_history = [LinReg._calc_loss(X, y, self.w0)]\n",
    "        \n",
    "        if self.gd_type == 'GradientDescent':\n",
    "            self.w = self.full_gradient_descent(X, y)\n",
    "        elif self.gd_type == 'StochasticDescent':\n",
    "            self.batch_size = self.batch_size or X.shape[0] // 10 \n",
    "            self.w = self.stochastic_gradient_descent(X, y)\n",
    "        elif self.gd_type == 'Momentum':\n",
    "            self.w = self.momentum_gradient_descent(X, y)\n",
    "        else:\n",
    "            raise Exception('unknown gradient method %s' % self.gd_type)\n",
    "        \n",
    "        return self\n",
    "    \n",
    "    def predict(self, X):\n",
    "        if self.w is None:\n",
    "            raise Exception('Not trained yet')\n",
    "        return LinReg._predict(X, self.w)\n",
    "    \n",
    "    def _predict(X, w):\n",
    "        return np.dot(X, w)\n",
    "    \n",
    "    def grad(X, y, w):\n",
    "        return 2 * np.dot(X.T, np.dot(X, w) - y) / X.shape[0]\n",
    "    \n",
    "    def full_gradient_descent_step(self, X, y, w, step):\n",
    "        grad = LinReg.grad(X, y, w)\n",
    "        w -= step * grad\n",
    "        return w\n",
    "    \n",
    "    def full_gradient_descent(self, X, y):\n",
    "        w = np.array(self.w0)\n",
    "        w_prev = np.array(w)\n",
    "        \n",
    "        for i in range(self.max_iter):\n",
    "            s = self.eta / (i + 1)\n",
    "            w = self.full_gradient_descent_step(X, y, w, s)\n",
    "            self.loss_history.append(LinReg._calc_loss(X, y, w))\n",
    "            \n",
    "            if np.linalg.norm(w - w_prev) < self.tolerance:\n",
    "                break\n",
    "            \n",
    "            w_prev[:] = w\n",
    "            \n",
    "        return w\n",
    "    \n",
    "    def stochastic_gradient_descent_step(self, X, y, w, step):\n",
    "        grad = LinReg.grad(X, y, w)\n",
    "        w -= step * grad\n",
    "        return w\n",
    "        \n",
    "    def stochastic_gradient_descent(self, X, y):\n",
    "        w = np.array(self.w0)\n",
    "        w_prev = np.array(w)\n",
    "        \n",
    "        s0 = 1.0\n",
    "        \n",
    "        for i in range(self.max_iter):\n",
    "            samples = np.random.choice(X.shape[0], self.batch_size, replace=False)\n",
    "            \n",
    "            x_batch = X[samples, :]\n",
    "            y_batch = y[samples]\n",
    "            \n",
    "            s = self.lambda_param * np.power(s0 / (s0 + i + 1), self.p) \n",
    "            \n",
    "            w = self.stochastic_gradient_descent_step(x_batch, y_batch, w, s)\n",
    "            self.loss_history.append(LinReg._calc_loss(X, y, w))\n",
    "            \n",
    "            if np.linalg.norm(w - w_prev) < self.tolerance:\n",
    "                break\n",
    "            \n",
    "            w_prev[:] = w\n",
    "            \n",
    "        return w\n",
    "    \n",
    "    def momentum_gradient_descent_step(self, X, y, w, h_prev, step):\n",
    "        grad = LinReg.grad(X, y, w)\n",
    "        h = self.alpha * h_prev + step * grad\n",
    "        w -= h\n",
    "        return h, w\n",
    "    \n",
    "    def momentum_gradient_descent(self, X, y):\n",
    "        w = np.array(self.w0)\n",
    "        w_prev = np.array(w)\n",
    "        h = 0\n",
    "        \n",
    "        for i in range(self.max_iter):\n",
    "            s = self.eta / (i + 1)\n",
    "            h, w = self.momentum_gradient_descent_step(X, y, w, h, s)\n",
    "            self.loss_history.append(LinReg._calc_loss(X, y, w))\n",
    "            \n",
    "            if np.linalg.norm(w - w_prev) < self.tolerance:\n",
    "                break\n",
    "                \n",
    "            w_prev[:] = w\n",
    "            \n",
    "        return w\n",
    "    \n",
    "    def _calc_loss(X, y, w):\n",
    "        y_predicted = LinReg._predict(X, w)\n",
    "        return ((y - y_predicted)**2).sum() / X.shape[0]\n",
    "\n",
    "    def calc_loss(self, X, y):\n",
    "        \"\"\"\n",
    "        X: np.array of shape (l, d)\n",
    "        y: np.array of shape (l)\n",
    "        ---\n",
    "        output: float \n",
    "        \"\"\" \n",
    "        return LinReg._calc_loss(X, y, self.w)"
   ]
  },
  {
   "cell_type": "markdown",
   "metadata": {},
   "source": [
    "#### 7. [1 points] Train and validate \"hand-written\" models on the same data, and compare the quality with the Sklearn or StatsModels methods. Investigate the effect of the `max_iter` and `alpha` parameters on the optimization process. Is it consistent with your expectations?"
   ]
  },
  {
   "cell_type": "markdown",
   "metadata": {},
   "source": [
    "Т.к. LinReg работает с numpy.ndarray, преобразуем тренировочные и тестовые данные:"
   ]
  },
  {
   "cell_type": "code",
   "execution_count": 23,
   "metadata": {},
   "outputs": [],
   "source": [
    "x_train_np = x_train_scaled.values\n",
    "x_test_np = x_test_scaled.values\n",
    "y_train_np = y_train.values.reshape(y_train.shape[0])\n",
    "y_test_np = y_test.values.reshape(y_test.shape[0])"
   ]
  },
  {
   "cell_type": "markdown",
   "metadata": {},
   "source": [
    "Рассмотрим влияния параметров `max_iter` и `alpha` на процесс оптимизации на примере \"метода моментов\". Параметр `tolerance` пока выставим достаточно малым, чтобы гарантировать выполнения всех `max_iter` итераций. На графике ниже построены зависимости функции потерь ($MSE$) от количества итераций для разных `alpha`. Нулевой `alpha` соответствует обычному градиентному спуску. Для удобства вертикальная шкала прологарифмирована. По графику видно, что при слишком больших `alpha` целевая функция сильно осцилирует и, в связи с этим, может плохо сходиться. При малых `alpha` целевая функция сходится довольно плавно, но медленнее чем при каких-то средних `alpha`. `max_iter` влияет только на то как близко к оптимуму успеет подобраться метод"
   ]
  },
  {
   "cell_type": "code",
   "execution_count": 24,
   "metadata": {},
   "outputs": [
    {
     "data": {
      "text/plain": [
       "<matplotlib.legend.Legend at 0x7fd175ab2c40>"
      ]
     },
     "execution_count": 24,
     "metadata": {},
     "output_type": "execute_result"
    },
    {
     "data": {
      "image/png": "[encoded data removed]",
      "text/plain": [
       "<Figure size 1080x720 with 1 Axes>"
      ]
     },
     "metadata": {},
     "output_type": "display_data"
    }
   ],
   "source": [
    "plt.figure(figsize=(15, 10))\n",
    "plt.xlabel('Iterations')\n",
    "plt.ylabel('log(MSE)')\n",
    "\n",
    "w0 = LinReg.default_w0(x_train_np.shape[1])\n",
    "\n",
    "for alpha in [0.9, 0.5, 0.1, 0.0]:\n",
    "    mgd = LinReg(gd_type='Momentum', w0=w0, eta=0.2, tolerance=1e-10, alpha=alpha, max_iter=100).fit(x_train_np, y_train_np)\n",
    "    plt.plot(np.array(range(len(mgd.loss_history))), np.log(mgd.loss_history), label=f'alpha={alpha}')\n",
    "    \n",
    "plt.legend(prop={'size':15})"
   ]
  },
  {
   "cell_type": "markdown",
   "metadata": {},
   "source": [
    "Натренируем все модели на 100 итерациях:"
   ]
  },
  {
   "cell_type": "code",
   "execution_count": 25,
   "metadata": {},
   "outputs": [],
   "source": [
    "w0 = LinReg.default_w0(x_train_np.shape[1])\n",
    "\n",
    "fgd = LinReg(gd_type='GradientDescent', w0=w0, eta=0.5, tolerance=1e-6, max_iter=100).fit(x_train_np, y_train_np)\n",
    "sgd = LinReg(gd_type='StochasticDescent', w0=w0, eta=0.5, tolerance=1e-6, max_iter=100, batch_size=32, lambda_param=0.5, p=0.6).fit(x_train_np, y_train_np)\n",
    "mgd = LinReg(gd_type='Momentum', eta=0.5, w0=w0, tolerance=1e-6, max_iter=100, alpha=0.1).fit(x_train_np, y_train_np)"
   ]
  },
  {
   "cell_type": "markdown",
   "metadata": {},
   "source": [
    "Возьмем для сравнений модель без регуляризации, так как реализованные методы градиентного спуска не используют регуляризацию, и поскольку модель без регуляризации показала лучшие значения метрик $RMSE$ и $R^2$ как на тренировочных, так и на тестовых данных "
   ]
  },
  {
   "cell_type": "code",
   "execution_count": 26,
   "metadata": {},
   "outputs": [
    {
     "name": "stdout",
     "output_type": "stream",
     "text": [
      "Linear regression:\n",
      "RMSE : 4.3962\n",
      "R2   : 0.7730\n",
      "RMSE (test data): 5.7835\n",
      "R2   (test data): 0.5892\n"
     ]
    }
   ],
   "source": [
    "lr_predicted = lr.predict(x_train_scaled)\n",
    "lr_predicted_test = lr.predict(x_test_scaled)\n",
    "\n",
    "print('Linear regression:')\n",
    "print('RMSE : %.4f' % sklearn.metrics.mean_squared_error(y_train, lr_predicted, squared=False))\n",
    "print('R2   : %.4f' % sklearn.metrics.r2_score(y_train, lr_predicted))\n",
    "print('RMSE (test data): %.4f' % sklearn.metrics.mean_squared_error(y_test, lr_predicted_test, squared=False))\n",
    "print('R2   (test data): %.4f' % sklearn.metrics.r2_score(y_test, lr_predicted_test))"
   ]
  },
  {
   "cell_type": "markdown",
   "metadata": {},
   "source": [
    "Полученные параметры оказались слегка хуже по метрикам $RMSE$ и $R^2$ чем параметры, полученные при помощи statsmodels:"
   ]
  },
  {
   "cell_type": "code",
   "execution_count": 27,
   "metadata": {},
   "outputs": [
    {
     "name": "stdout",
     "output_type": "stream",
     "text": [
      "Full gradient descent:\n",
      "RMSE : 4.4761\n",
      "R2   : 0.7647\n",
      "RMSE (test data): 6.0181\n",
      "R2   (test data): 0.5552\n",
      "\n",
      "Stochastic gradient descent:\n",
      "RMSE : 4.4970\n",
      "R2   : 0.7625\n",
      "RMSE (test data): 6.0160\n",
      "R2   (test data): 0.5555\n",
      "\n",
      "Momentum method:\n",
      "RMSE : 4.4648\n",
      "R2   : 0.7659\n",
      "RMSE (test data): 5.9935\n",
      "R2   (test data): 0.5589\n"
     ]
    }
   ],
   "source": [
    "fgd_predicted = fgd.predict(x_train_np)\n",
    "fgd_predicted_test = fgd.predict(x_test_np)\n",
    "\n",
    "print('Full gradient descent:')\n",
    "print('RMSE : %.4f' % sklearn.metrics.mean_squared_error(y_train, fgd_predicted, squared=False))\n",
    "print('R2   : %.4f' % sklearn.metrics.r2_score(y_train, fgd_predicted))\n",
    "print('RMSE (test data): %.4f' % sklearn.metrics.mean_squared_error(y_test, fgd_predicted_test, squared=False))\n",
    "print('R2   (test data): %.4f' % sklearn.metrics.r2_score(y_test, fgd_predicted_test))\n",
    "\n",
    "sgd_predicted = sgd.predict(x_train_np)\n",
    "sgd_predicted_test = sgd.predict(x_test_np)\n",
    "\n",
    "print('\\nStochastic gradient descent:')\n",
    "print('RMSE : %.4f' % sklearn.metrics.mean_squared_error(y_train, sgd_predicted, squared=False))\n",
    "print('R2   : %.4f' % sklearn.metrics.r2_score(y_train, sgd_predicted))\n",
    "print('RMSE (test data): %.4f' % sklearn.metrics.mean_squared_error(y_test, sgd_predicted_test, squared=False))\n",
    "print('R2   (test data): %.4f' % sklearn.metrics.r2_score(y_test, sgd_predicted_test))\n",
    "\n",
    "mgd_predicted = mgd.predict(x_train_np)\n",
    "mgd_predicted_test = mgd.predict(x_test_np)\n",
    "\n",
    "print('\\nMomentum method:')\n",
    "print('RMSE : %.4f' % sklearn.metrics.mean_squared_error(y_train, mgd_predicted, squared=False))\n",
    "print('R2   : %.4f' % sklearn.metrics.r2_score(y_train, mgd_predicted))\n",
    "print('RMSE (test data): %.4f' % sklearn.metrics.mean_squared_error(y_test, mgd_predicted_test, squared=False))\n",
    "print('R2   (test data): %.4f' % sklearn.metrics.r2_score(y_test, mgd_predicted_test))"
   ]
  },
  {
   "cell_type": "markdown",
   "metadata": {},
   "source": [
    "#### 8. [1 points] Plot graphs (on the same picture) of the dependence of the loss function value on the iteration number for Full GD, SGD and Momentum. Draw conclusions about the rate of convergence of various modifications of gradient descent.\n",
    "\n",
    "Don't forget about what *beautiful* graphics should look like!"
   ]
  },
  {
   "cell_type": "code",
   "execution_count": 28,
   "metadata": {},
   "outputs": [
    {
     "data": {
      "text/plain": [
       "<matplotlib.legend.Legend at 0x7fd175a11d30>"
      ]
     },
     "execution_count": 28,
     "metadata": {},
     "output_type": "execute_result"
    },
    {
     "data": {
      "image/png": "[encoded data removed]",
      "text/plain": [
       "<Figure size 1080x720 with 1 Axes>"
      ]
     },
     "metadata": {},
     "output_type": "display_data"
    }
   ],
   "source": [
    "plt.figure(figsize=(15, 10))\n",
    "plt.xlabel('Iterations')\n",
    "plt.ylabel('log(MSE)')\n",
    "for method in [fgd, sgd, mgd]:\n",
    "    plt.plot(np.array(range(len(method.loss_history))), np.log(method.loss_history), label=f'method: {method.gd_type}')\n",
    "plt.legend(prop={'size':15})"
   ]
  },
  {
   "cell_type": "markdown",
   "metadata": {},
   "source": [
    "По графику заментно сильное отклонение значений целевых функций от оптимума на первых итерациях, которое проявляется на графике в виде пика в районе первых 10 итераций. Видимо это связано с тем, что значение `eta` было выбрано достаточно большим, в связи с чем на первых итерациях вектор весов изменяется очень сильно и \"перелетает\" через оптимум"
   ]
  },
  {
   "cell_type": "markdown",
   "metadata": {},
   "source": [
    "Что касается сходимости, в моем случае быстрее всего сошлись обычный градиентный спуск и метод моментов. Стохастический градиентный спуск сходится чуть хуже. Если учитывать время работы, то быстрее всего отработает стохастический градиентный спуск, так как для него вычисление градиента является достаточно дешевой операцией."
   ]
  }
 ],
 "metadata": {
  "kernelspec": {
   "display_name": "Python 3",
   "language": "python",
   "name": "python3"
  },
  "language_info": {
   "codemirror_mode": {
    "name": "ipython",
    "version": 3
   },
   "file_extension": ".py",
   "mimetype": "text/x-python",
   "name": "python",
   "nbconvert_exporter": "python",
   "pygments_lexer": "ipython3",
   "version": "3.8.5"
  }
 },
 "nbformat": 4,
 "nbformat_minor": 4
}
